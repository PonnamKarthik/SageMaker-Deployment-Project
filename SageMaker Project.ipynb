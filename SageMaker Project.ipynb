{
 "cells": [
  {
   "cell_type": "markdown",
   "metadata": {},
   "source": [
    "# Creating a Sentiment Analysis Web App\n",
    "## Using PyTorch and SageMaker\n",
    "\n",
    "_Deep Learning Nanodegree Program | Deployment_\n",
    "\n",
    "---\n",
    "\n",
    "Now that we have a basic understanding of how SageMaker works we will try to use it to construct a complete project from end to end. Our goal will be to have a simple web page which a user can use to enter a movie review. The web page will then send the review off to our deployed model which will predict the sentiment of the entered review.\n",
    "\n",
    "## Instructions\n",
    "\n",
    "Some template code has already been provided for you, and you will need to implement additional functionality to successfully complete this notebook. You will not need to modify the included code beyond what is requested. Sections that begin with '**TODO**' in the header indicate that you need to complete or implement some portion within them. Instructions will be provided for each section and the specifics of the implementation are marked in the code block with a `# TODO: ...` comment. Please be sure to read the instructions carefully!\n",
    "\n",
    "In addition to implementing code, there will be questions for you to answer which relate to the task and your implementation. Each section where you will answer a question is preceded by a '**Question:**' header. Carefully read each question and provide your answer below the '**Answer:**' header by editing the Markdown cell.\n",
    "\n",
    "> **Note**: Code and Markdown cells can be executed using the **Shift+Enter** keyboard shortcut. In addition, a cell can be edited by typically clicking it (double-click for Markdown cells) or by pressing **Enter** while it is highlighted.\n",
    "\n",
    "## General Outline\n",
    "\n",
    "Recall the general outline for SageMaker projects using a notebook instance.\n",
    "\n",
    "1. Download or otherwise retrieve the data.\n",
    "2. Process / Prepare the data.\n",
    "3. Upload the processed data to S3.\n",
    "4. Train a chosen model.\n",
    "5. Test the trained model (typically using a batch transform job).\n",
    "6. Deploy the trained model.\n",
    "7. Use the deployed model.\n",
    "\n",
    "For this project, you will be following the steps in the general outline with some modifications. \n",
    "\n",
    "First, you will not be testing the model in its own step. You will still be testing the model, however, you will do it by deploying your model and then using the deployed model by sending the test data to it. One of the reasons for doing this is so that you can make sure that your deployed model is working correctly before moving forward.\n",
    "\n",
    "In addition, you will deploy and use your trained model a second time. In the second iteration you will customize the way that your trained model is deployed by including some of your own code. In addition, your newly deployed model will be used in the sentiment analysis web app."
   ]
  },
  {
   "cell_type": "markdown",
   "metadata": {},
   "source": [
    "## Step 1: Downloading the data\n",
    "\n",
    "As in the XGBoost in SageMaker notebook, we will be using the [IMDb dataset](http://ai.stanford.edu/~amaas/data/sentiment/)\n",
    "\n",
    "> Maas, Andrew L., et al. [Learning Word Vectors for Sentiment Analysis](http://ai.stanford.edu/~amaas/data/sentiment/). In _Proceedings of the 49th Annual Meeting of the Association for Computational Linguistics: Human Language Technologies_. Association for Computational Linguistics, 2011."
   ]
  },
  {
   "cell_type": "code",
   "execution_count": 1,
   "metadata": {},
   "outputs": [
    {
     "name": "stdout",
     "output_type": "stream",
     "text": [
      "mkdir: cannot create directory ‘../data’: File exists\n",
      "--2020-05-11 18:09:16--  http://ai.stanford.edu/~amaas/data/sentiment/aclImdb_v1.tar.gz\n",
      "Resolving ai.stanford.edu (ai.stanford.edu)... 171.64.68.10\n",
      "Connecting to ai.stanford.edu (ai.stanford.edu)|171.64.68.10|:80... connected.\n",
      "HTTP request sent, awaiting response... 200 OK\n",
      "Length: 84125825 (80M) [application/x-gzip]\n",
      "Saving to: ‘../data/aclImdb_v1.tar.gz’\n",
      "\n",
      "../data/aclImdb_v1. 100%[===================>]  80.23M  41.0MB/s    in 2.0s    \n",
      "\n",
      "2020-05-11 18:09:18 (41.0 MB/s) - ‘../data/aclImdb_v1.tar.gz’ saved [84125825/84125825]\n",
      "\n"
     ]
    }
   ],
   "source": [
    "%mkdir ../data\n",
    "!wget -O ../data/aclImdb_v1.tar.gz http://ai.stanford.edu/~amaas/data/sentiment/aclImdb_v1.tar.gz\n",
    "!tar -zxf ../data/aclImdb_v1.tar.gz -C ../data"
   ]
  },
  {
   "cell_type": "markdown",
   "metadata": {},
   "source": [
    "## Step 2: Preparing and Processing the data\n",
    "\n",
    "Also, as in the XGBoost notebook, we will be doing some initial data processing. The first few steps are the same as in the XGBoost example. To begin with, we will read in each of the reviews and combine them into a single input structure. Then, we will split the dataset into a training set and a testing set."
   ]
  },
  {
   "cell_type": "code",
   "execution_count": 2,
   "metadata": {},
   "outputs": [],
   "source": [
    "import os\n",
    "import glob\n",
    "\n",
    "def read_imdb_data(data_dir='../data/aclImdb'):\n",
    "    data = {}\n",
    "    labels = {}\n",
    "    \n",
    "    for data_type in ['train', 'test']:\n",
    "        data[data_type] = {}\n",
    "        labels[data_type] = {}\n",
    "        \n",
    "        for sentiment in ['pos', 'neg']:\n",
    "            data[data_type][sentiment] = []\n",
    "            labels[data_type][sentiment] = []\n",
    "            \n",
    "            path = os.path.join(data_dir, data_type, sentiment, '*.txt')\n",
    "            files = glob.glob(path)\n",
    "            \n",
    "            for f in files:\n",
    "                with open(f) as review:\n",
    "                    data[data_type][sentiment].append(review.read())\n",
    "                    # Here we represent a positive review by '1' and a negative review by '0'\n",
    "                    labels[data_type][sentiment].append(1 if sentiment == 'pos' else 0)\n",
    "                    \n",
    "            assert len(data[data_type][sentiment]) == len(labels[data_type][sentiment]), \\\n",
    "                    \"{}/{} data size does not match labels size\".format(data_type, sentiment)\n",
    "                \n",
    "    return data, labels"
   ]
  },
  {
   "cell_type": "code",
   "execution_count": 3,
   "metadata": {},
   "outputs": [
    {
     "name": "stdout",
     "output_type": "stream",
     "text": [
      "IMDB reviews: train = 12500 pos / 12500 neg, test = 12500 pos / 12500 neg\n"
     ]
    }
   ],
   "source": [
    "data, labels = read_imdb_data()\n",
    "print(\"IMDB reviews: train = {} pos / {} neg, test = {} pos / {} neg\".format(\n",
    "            len(data['train']['pos']), len(data['train']['neg']),\n",
    "            len(data['test']['pos']), len(data['test']['neg'])))"
   ]
  },
  {
   "cell_type": "markdown",
   "metadata": {},
   "source": [
    "Now that we've read the raw training and testing data from the downloaded dataset, we will combine the positive and negative reviews and shuffle the resulting records."
   ]
  },
  {
   "cell_type": "code",
   "execution_count": 4,
   "metadata": {},
   "outputs": [],
   "source": [
    "from sklearn.utils import shuffle\n",
    "\n",
    "def prepare_imdb_data(data, labels):\n",
    "    \"\"\"Prepare training and test sets from IMDb movie reviews.\"\"\"\n",
    "    \n",
    "    #Combine positive and negative reviews and labels\n",
    "    data_train = data['train']['pos'] + data['train']['neg']\n",
    "    data_test = data['test']['pos'] + data['test']['neg']\n",
    "    labels_train = labels['train']['pos'] + labels['train']['neg']\n",
    "    labels_test = labels['test']['pos'] + labels['test']['neg']\n",
    "    \n",
    "    #Shuffle reviews and corresponding labels within training and test sets\n",
    "    data_train, labels_train = shuffle(data_train, labels_train)\n",
    "    data_test, labels_test = shuffle(data_test, labels_test)\n",
    "    \n",
    "    # Return a unified training data, test data, training labels, test labets\n",
    "    return data_train, data_test, labels_train, labels_test"
   ]
  },
  {
   "cell_type": "code",
   "execution_count": 5,
   "metadata": {},
   "outputs": [
    {
     "name": "stdout",
     "output_type": "stream",
     "text": [
      "IMDb reviews (combined): train = 25000, test = 25000\n"
     ]
    }
   ],
   "source": [
    "train_X, test_X, train_y, test_y = prepare_imdb_data(data, labels)\n",
    "print(\"IMDb reviews (combined): train = {}, test = {}\".format(len(train_X), len(test_X)))"
   ]
  },
  {
   "cell_type": "markdown",
   "metadata": {},
   "source": [
    "Now that we have our training and testing sets unified and prepared, we should do a quick check and see an example of the data our model will be trained on. This is generally a good idea as it allows you to see how each of the further processing steps affects the reviews and it also ensures that the data has been loaded correctly."
   ]
  },
  {
   "cell_type": "code",
   "execution_count": 6,
   "metadata": {},
   "outputs": [
    {
     "name": "stdout",
     "output_type": "stream",
     "text": [
      "Billy Crystal normally brings the crowd to laughter, but in this movie he and all the rest of them cannot bring any smile on my face.... or perhaps just one. They call it comedy, I say it's a waste of my time.\n",
      "0\n"
     ]
    }
   ],
   "source": [
    "print(train_X[100])\n",
    "print(train_y[100])"
   ]
  },
  {
   "cell_type": "markdown",
   "metadata": {},
   "source": [
    "The first step in processing the reviews is to make sure that any html tags that appear should be removed. In addition we wish to tokenize our input, that way words such as *entertained* and *entertaining* are considered the same with regard to sentiment analysis."
   ]
  },
  {
   "cell_type": "code",
   "execution_count": 7,
   "metadata": {},
   "outputs": [],
   "source": [
    "import nltk\n",
    "from nltk.corpus import stopwords\n",
    "from nltk.stem.porter import *\n",
    "\n",
    "import re\n",
    "from bs4 import BeautifulSoup\n",
    "\n",
    "def review_to_words(review):\n",
    "    nltk.download(\"stopwords\", quiet=True)\n",
    "    stemmer = PorterStemmer()\n",
    "    #print(\"rev\")\n",
    "    text = BeautifulSoup(review, \"html.parser\").get_text() # Remove HTML tags\n",
    "    text = re.sub(r\"[^a-zA-Z0-9]\", \" \", text.lower()) # Convert to lower case\n",
    "    words = text.split() # Split string into words\n",
    "    words = [w for w in words if w not in stopwords.words(\"english\")] # Remove stopwords\n",
    "    words = [PorterStemmer().stem(w) for w in words] # stem\n",
    "    \n",
    "    return words"
   ]
  },
  {
   "cell_type": "markdown",
   "metadata": {},
   "source": [
    "The `review_to_words` method defined above uses `BeautifulSoup` to remove any html tags that appear and uses the `nltk` package to tokenize the reviews. As a check to ensure we know how everything is working, try applying `review_to_words` to one of the reviews in the training set."
   ]
  },
  {
   "cell_type": "code",
   "execution_count": 8,
   "metadata": {},
   "outputs": [
    {
     "data": {
      "text/plain": [
       "['billi',\n",
       " 'crystal',\n",
       " 'normal',\n",
       " 'bring',\n",
       " 'crowd',\n",
       " 'laughter',\n",
       " 'movi',\n",
       " 'rest',\n",
       " 'cannot',\n",
       " 'bring',\n",
       " 'smile',\n",
       " 'face',\n",
       " 'perhap',\n",
       " 'one',\n",
       " 'call',\n",
       " 'comedi',\n",
       " 'say',\n",
       " 'wast',\n",
       " 'time']"
      ]
     },
     "execution_count": 8,
     "metadata": {},
     "output_type": "execute_result"
    }
   ],
   "source": [
    "# TODO: Apply review_to_words to a review (train_X[100] or any other review)\n",
    "review_to_words(train_X[100])"
   ]
  },
  {
   "cell_type": "markdown",
   "metadata": {},
   "source": [
    "**Question:** Above we mentioned that `review_to_words` method removes html formatting and allows us to tokenize the words found in a review, for example, converting *entertained* and *entertaining* into *entertain* so that they are treated as though they are the same word. What else, if anything, does this method do to the input?"
   ]
  },
  {
   "cell_type": "markdown",
   "metadata": {},
   "source": [
    "**Answer:** It adds \"i\" to the end of some words. It also removes punctuation (which is this case turned -10 to 10, which actually is bad, as negative numbers, i suppose, are probably well correlated with negative reviews). It also transforms everything to be uncaptalized. This entire  thing is a good step for xgboost as it doesn't scale as well with data, but I'd argue it is dumb to do this with a deep learning model such as the one we are intending to create since part of its power comes from it being able to find the word embedding space itself, which we are just skipping by doing this type of tokenization."
   ]
  },
  {
   "cell_type": "markdown",
   "metadata": {},
   "source": [
    "The method below applies the `review_to_words` method to each of the reviews in the training and testing datasets. In addition it caches the results. This is because performing this processing step can take a long time. This way if you are unable to complete the notebook in the current session, you can come back without needing to process the data a second time."
   ]
  },
  {
   "cell_type": "code",
   "execution_count": 9,
   "metadata": {},
   "outputs": [],
   "source": [
    "import pickle\n",
    "\n",
    "cache_dir = os.path.join(\"../cache\", \"sentiment_analysis\")  # where to store cache files\n",
    "os.makedirs(cache_dir, exist_ok=True)  # ensure cache directory exists\n",
    "\n",
    "def preprocess_data(data_train, data_test, labels_train, labels_test,\n",
    "                    cache_dir=cache_dir, cache_file=\"preprocessed_data.pkl\"):\n",
    "    \"\"\"Convert each review to words; read from cache if available.\"\"\"\n",
    "\n",
    "    # If cache_file is not None, try to read from it first\n",
    "    cache_data = None\n",
    "    if cache_file is not None:\n",
    "        try:\n",
    "            with open(os.path.join(cache_dir, cache_file), \"rb\") as f:\n",
    "                cache_data = pickle.load(f)\n",
    "            print(\"Read preprocessed data from cache file:\", cache_file)\n",
    "        except:\n",
    "            pass  # unable to read from cache, but that's okay\n",
    "    \n",
    "    # If cache is missing, then do the heavy lifting\n",
    "    if cache_data is None:\n",
    "        # Preprocess training and test data to obtain words for each review\n",
    "        #words_train = list(map(review_to_words, data_train))\n",
    "        #words_test = list(map(review_to_words, data_test))\n",
    "        words_train = [review_to_words(review) for review in data_train]\n",
    "        words_test = [review_to_words(review) for review in data_test]\n",
    "        \n",
    "        # Write to cache file for future runs\n",
    "        if cache_file is not None:\n",
    "            cache_data = dict(words_train=words_train, words_test=words_test,\n",
    "                              labels_train=labels_train, labels_test=labels_test)\n",
    "            with open(os.path.join(cache_dir, cache_file), \"wb\") as f:\n",
    "                pickle.dump(cache_data, f)\n",
    "            print(\"Wrote preprocessed data to cache file:\", cache_file)\n",
    "    else:\n",
    "        # Unpack data loaded from cache file\n",
    "        words_train, words_test, labels_train, labels_test = (cache_data['words_train'],\n",
    "                cache_data['words_test'], cache_data['labels_train'], cache_data['labels_test'])\n",
    "    \n",
    "    return words_train, words_test, labels_train, labels_test"
   ]
  },
  {
   "cell_type": "code",
   "execution_count": 10,
   "metadata": {},
   "outputs": [
    {
     "name": "stdout",
     "output_type": "stream",
     "text": [
      "Read preprocessed data from cache file: preprocessed_data.pkl\n"
     ]
    }
   ],
   "source": [
    "# Preprocess data\n",
    "train_X, test_X, train_y, test_y = preprocess_data(train_X, test_X, train_y, test_y)"
   ]
  },
  {
   "cell_type": "markdown",
   "metadata": {},
   "source": [
    "## Transform the data\n",
    "\n",
    "In the XGBoost notebook we transformed the data from its word representation to a bag-of-words feature representation. For the model we are going to construct in this notebook we will construct a feature representation which is very similar. To start, we will represent each word as an integer. Of course, some of the words that appear in the reviews occur very infrequently and so likely don't contain much information for the purposes of sentiment analysis. The way we will deal with this problem is that we will fix the size of our working vocabulary and we will only include the words that appear most frequently. We will then combine all of the infrequent words into a single category and, in our case, we will label it as `1`.\n",
    "\n",
    "Since we will be using a recurrent neural network, it will be convenient if the length of each review is the same. To do this, we will fix a size for our reviews and then pad short reviews with the category 'no word' (which we will label `0`) and truncate long reviews."
   ]
  },
  {
   "cell_type": "markdown",
   "metadata": {},
   "source": [
    "### (TODO) Create a word dictionary\n",
    "\n",
    "To begin with, we need to construct a way to map words that appear in the reviews to integers. Here we fix the size of our vocabulary (including the 'no word' and 'infrequent' categories) to be `5000` but you may wish to change this to see how it affects the model.\n",
    "\n",
    "> **TODO:** Complete the implementation for the `build_dict()` method below. Note that even though the vocab_size is set to `5000`, we only want to construct a mapping for the most frequently appearing `4998` words. This is because we want to reserve the special labels `0` for 'no word' and `1` for 'infrequent word'."
   ]
  },
  {
   "cell_type": "code",
   "execution_count": 11,
   "metadata": {},
   "outputs": [
    {
     "name": "stdout",
     "output_type": "stream",
     "text": [
      "['pathet', 'movi', 'wast', 'much', 'time', 'comment', 'still', 'tri', 'get', 'back', 'coupl', 'hour', 'wast', 'let', 'leav', 'simpli', 'shaq', 'busi', 'actor', 'singer', 'utterli', 'without', 'talent', 'discplin', 'cri', 'shame', 'substanti', 'talent', 'peopl', 'wast', 'away', 'commun', 'theatr', 'karaok', 'bar', 'shaq', 'use', 'name', 'basketbal', 'player', 'undeservedli', 'get', 'cast', 'movi', 'cut', 'cd', 'much', 'failur', 'movi', 'pathet', 'talent', 'shaq']\n"
     ]
    }
   ],
   "source": [
    "print(train_X[1])"
   ]
  },
  {
   "cell_type": "code",
   "execution_count": 12,
   "metadata": {},
   "outputs": [],
   "source": [
    "import numpy as np\n",
    "from collections import Counter, OrderedDict\n",
    "\n",
    "def build_dict(data, vocab_size = 5000):\n",
    "    \"\"\"Construct and return a dictionary mapping each of the most frequently appearing words to a unique integer.\"\"\"\n",
    "    \n",
    "    # TODO: Determine how often each word appears in `data`. Note that `data` is a list of sentences and that a\n",
    "    #       sentence is a list of words.\n",
    "    word_count = {}\n",
    "    word_count = Counter(np.concatenate( data, axis=0 )) # A dict storing the words that appear in the reviews along with how often they occur\n",
    "    #print(word_count)\n",
    "    # TODO: Sort the words found in `data` so that sorted_words[0] is the most frequently appearing word and\n",
    "    #       sorted_words[-1] is the least frequently appearing word.\n",
    "    sorted_words = {}\n",
    "    sorted_words = sorted(word_count, key = word_count.get,reverse=True)\n",
    "    #print(sorted_words)\n",
    "    \n",
    "    word_dict = {} # This is what we are building, a dictionary that translates words into integers\n",
    "    for idx, word in enumerate(sorted_words[:vocab_size - 2]): # The -2 is so that we save room for the 'no word'\n",
    "        word_dict[word] = idx + 2                              # 'infrequent' labels\n",
    "        \n",
    "    return word_dict"
   ]
  },
  {
   "cell_type": "code",
   "execution_count": 13,
   "metadata": {},
   "outputs": [],
   "source": [
    "word_dict = build_dict(train_X)"
   ]
  },
  {
   "cell_type": "code",
   "execution_count": 14,
   "metadata": {},
   "outputs": [
    {
     "name": "stdout",
     "output_type": "stream",
     "text": [
      "{'movi': 2, 'film': 3, 'one': 4, 'like': 5, 'time': 6, 'good': 7, 'make': 8, 'charact': 9, 'get': 10, 'see': 11, 'watch': 12, 'stori': 13, 'even': 14, 'would': 15, 'realli': 16, 'well': 17, 'scene': 18, 'look': 19, 'show': 20, 'much': 21, 'end': 22, 'peopl': 23, 'bad': 24, 'go': 25, 'great': 26, 'also': 27, 'first': 28, 'love': 29, 'think': 30, 'way': 31, 'act': 32, 'play': 33, 'made': 34, 'thing': 35, 'could': 36, 'know': 37, 'say': 38, 'seem': 39, 'work': 40, 'plot': 41, 'two': 42, 'actor': 43, 'year': 44, 'come': 45, 'mani': 46, 'seen': 47, 'take': 48, 'life': 49, 'want': 50, 'never': 51, 'littl': 52, 'best': 53, 'tri': 54, 'man': 55, 'ever': 56, 'give': 57, 'better': 58, 'still': 59, 'perform': 60, 'find': 61, 'feel': 62, 'part': 63, 'back': 64, 'use': 65, 'someth': 66, 'director': 67, 'actual': 68, 'interest': 69, 'lot': 70, 'real': 71, 'old': 72, 'cast': 73, 'though': 74, 'live': 75, 'star': 76, 'enjoy': 77, 'guy': 78, 'anoth': 79, 'new': 80, 'role': 81, 'noth': 82, '10': 83, 'funni': 84, 'music': 85, 'point': 86, 'start': 87, 'set': 88, 'girl': 89, 'origin': 90, 'day': 91, 'world': 92, 'everi': 93, 'believ': 94, 'turn': 95, 'quit': 96, 'direct': 97, 'us': 98, 'thought': 99, 'fact': 100, 'minut': 101, 'horror': 102, 'kill': 103, 'action': 104, 'comedi': 105, 'pretti': 106, 'young': 107, 'wonder': 108, 'happen': 109, 'around': 110, 'got': 111, 'effect': 112, 'right': 113, 'long': 114, 'howev': 115, 'big': 116, 'line': 117, 'famili': 118, 'enough': 119, 'seri': 120, 'may': 121, 'need': 122, 'fan': 123, 'bit': 124, 'script': 125, 'beauti': 126, 'person': 127, 'becom': 128, 'without': 129, 'must': 130, 'alway': 131, 'friend': 132, 'tell': 133, 'reason': 134, 'saw': 135, 'last': 136, 'final': 137, 'kid': 138, 'almost': 139, 'put': 140, 'least': 141, 'sure': 142, 'done': 143, 'whole': 144, 'place': 145, 'complet': 146, 'kind': 147, 'expect': 148, 'differ': 149, 'shot': 150, 'far': 151, 'mean': 152, 'anyth': 153, 'book': 154, 'laugh': 155, 'might': 156, 'name': 157, 'sinc': 158, 'begin': 159, '2': 160, 'probabl': 161, 'woman': 162, 'help': 163, 'entertain': 164, 'let': 165, 'screen': 166, 'call': 167, 'tv': 168, 'moment': 169, 'away': 170, 'read': 171, 'yet': 172, 'rather': 173, 'worst': 174, 'run': 175, 'fun': 176, 'lead': 177, 'hard': 178, 'audienc': 179, 'idea': 180, 'anyon': 181, 'episod': 182, 'american': 183, 'found': 184, 'appear': 185, 'bore': 186, 'especi': 187, 'although': 188, 'hope': 189, 'keep': 190, 'cours': 191, 'anim': 192, 'job': 193, 'goe': 194, 'move': 195, 'sens': 196, 'version': 197, 'dvd': 198, 'war': 199, 'money': 200, 'someon': 201, 'mind': 202, 'mayb': 203, 'problem': 204, 'true': 205, 'hous': 206, 'everyth': 207, 'nice': 208, 'second': 209, 'rate': 210, 'three': 211, 'night': 212, 'face': 213, 'follow': 214, 'recommend': 215, 'product': 216, 'main': 217, 'worth': 218, 'leav': 219, 'human': 220, 'special': 221, 'excel': 222, 'togeth': 223, 'wast': 224, 'everyon': 225, 'sound': 226, 'john': 227, 'hand': 228, '1': 229, 'father': 230, 'later': 231, 'eye': 232, 'said': 233, 'view': 234, 'instead': 235, 'review': 236, 'boy': 237, 'high': 238, 'hour': 239, 'miss': 240, 'talk': 241, 'classic': 242, 'wife': 243, 'understand': 244, 'left': 245, 'care': 246, 'black': 247, 'death': 248, 'open': 249, 'murder': 250, 'write': 251, 'half': 252, 'head': 253, 'rememb': 254, 'chang': 255, 'viewer': 256, 'fight': 257, 'gener': 258, 'surpris': 259, 'includ': 260, 'short': 261, 'die': 262, 'fall': 263, 'less': 264, 'els': 265, 'entir': 266, 'piec': 267, 'involv': 268, 'pictur': 269, 'simpli': 270, 'power': 271, 'home': 272, 'top': 273, 'total': 274, 'usual': 275, 'budget': 276, 'attempt': 277, 'suppos': 278, 'releas': 279, 'hollywood': 280, 'terribl': 281, 'song': 282, 'men': 283, 'possibl': 284, 'featur': 285, 'portray': 286, 'disappoint': 287, 'poor': 288, '3': 289, 'coupl': 290, 'camera': 291, 'stupid': 292, 'dead': 293, 'wrong': 294, 'produc': 295, 'low': 296, 'either': 297, 'video': 298, 'aw': 299, 'definit': 300, 'except': 301, 'rest': 302, 'given': 303, 'absolut': 304, 'women': 305, 'lack': 306, 'word': 307, 'writer': 308, 'titl': 309, 'talent': 310, 'decid': 311, 'full': 312, 'perfect': 313, 'along': 314, 'style': 315, 'close': 316, 'truli': 317, 'school': 318, 'emot': 319, 'save': 320, 'sex': 321, 'age': 322, 'next': 323, 'bring': 324, 'mr': 325, 'case': 326, 'killer': 327, 'heart': 328, 'comment': 329, 'sort': 330, 'creat': 331, 'perhap': 332, 'came': 333, 'brother': 334, 'sever': 335, 'joke': 336, 'art': 337, 'dialogu': 338, 'game': 339, 'small': 340, 'base': 341, 'flick': 342, 'written': 343, 'sequenc': 344, 'meet': 345, 'earli': 346, 'often': 347, 'other': 348, 'mother': 349, 'develop': 350, 'humor': 351, 'actress': 352, 'consid': 353, 'dark': 354, 'guess': 355, 'amaz': 356, 'unfortun': 357, 'light': 358, 'lost': 359, 'exampl': 360, 'cinema': 361, 'drama': 362, 'ye': 363, 'white': 364, 'experi': 365, 'imagin': 366, 'mention': 367, 'stop': 368, 'natur': 369, 'forc': 370, 'manag': 371, 'felt': 372, 'cut': 373, 'present': 374, 'children': 375, 'fail': 376, 'son': 377, 'support': 378, 'qualiti': 379, 'car': 380, 'ask': 381, 'hit': 382, 'side': 383, 'voic': 384, 'extrem': 385, 'impress': 386, 'evil': 387, 'wors': 388, 'stand': 389, 'went': 390, 'certainli': 391, 'basic': 392, 'oh': 393, 'overal': 394, 'favorit': 395, 'horribl': 396, 'mysteri': 397, 'number': 398, 'type': 399, 'danc': 400, 'wait': 401, 'hero': 402, 'alreadi': 403, '5': 404, 'learn': 405, 'matter': 406, '4': 407, 'michael': 408, 'genr': 409, 'fine': 410, 'despit': 411, 'throughout': 412, 'walk': 413, 'success': 414, 'histori': 415, 'question': 416, 'zombi': 417, 'town': 418, 'realiz': 419, 'relationship': 420, 'child': 421, 'past': 422, 'daughter': 423, 'late': 424, 'b': 425, 'wish': 426, 'hate': 427, 'credit': 428, 'event': 429, 'theme': 430, 'touch': 431, 'citi': 432, 'today': 433, 'sometim': 434, 'behind': 435, 'god': 436, 'twist': 437, 'sit': 438, 'stay': 439, 'annoy': 440, 'deal': 441, 'abl': 442, 'rent': 443, 'pleas': 444, 'edit': 445, 'blood': 446, 'deserv': 447, 'anyway': 448, 'comic': 449, 'appar': 450, 'soon': 451, 'gave': 452, 'etc': 453, 'level': 454, 'slow': 455, 'chanc': 456, 'score': 457, 'bodi': 458, 'brilliant': 459, 'incred': 460, 'figur': 461, 'situat': 462, 'self': 463, 'major': 464, 'stuff': 465, 'decent': 466, 'element': 467, 'return': 468, 'dream': 469, 'obvious': 470, 'order': 471, 'continu': 472, 'pace': 473, 'ridicul': 474, 'happi': 475, 'highli': 476, 'add': 477, 'group': 478, 'thank': 479, 'ladi': 480, 'novel': 481, 'pain': 482, 'speak': 483, 'career': 484, 'shoot': 485, 'strang': 486, 'heard': 487, 'sad': 488, 'polic': 489, 'husband': 490, 'import': 491, 'break': 492, 'took': 493, 'cannot': 494, 'strong': 495, 'predict': 496, 'robert': 497, 'violenc': 498, 'hilari': 499, 'recent': 500, 'countri': 501, 'known': 502, 'particularli': 503, 'pick': 504, 'documentari': 505, 'season': 506, 'critic': 507, 'jame': 508, 'compar': 509, 'alon': 510, 'obviou': 511, 'told': 512, 'state': 513, 'rock': 514, 'visual': 515, 'exist': 516, 'offer': 517, 'theater': 518, 'opinion': 519, 'gore': 520, 'hold': 521, 'crap': 522, 'result': 523, 'room': 524, 'realiti': 525, 'hear': 526, 'effort': 527, 'clich': 528, 'thriller': 529, 'caus': 530, 'explain': 531, 'sequel': 532, 'serious': 533, 'king': 534, 'local': 535, 'ago': 536, 'hell': 537, 'none': 538, 'note': 539, 'allow': 540, 'david': 541, 'sister': 542, 'simpl': 543, 'femal': 544, 'deliv': 545, 'ok': 546, 'class': 547, 'convinc': 548, 'check': 549, 'suspens': 550, 'win': 551, 'buy': 552, 'oscar': 553, 'huge': 554, 'valu': 555, 'sexual': 556, 'scari': 557, 'cool': 558, 'similar': 559, 'excit': 560, 'provid': 561, 'exactli': 562, 'apart': 563, 'shown': 564, 'avoid': 565, 'seriou': 566, 'english': 567, 'whose': 568, 'taken': 569, 'cinematographi': 570, 'shock': 571, 'polit': 572, 'spoiler': 573, 'offic': 574, 'across': 575, 'middl': 576, 'pass': 577, 'street': 578, 'messag': 579, 'charm': 580, 'silli': 581, 'somewhat': 582, 'modern': 583, 'filmmak': 584, 'confus': 585, 'form': 586, 'tale': 587, 'singl': 588, 'jack': 589, 'mostli': 590, 'attent': 591, 'carri': 592, 'william': 593, 'sing': 594, 'subject': 595, 'five': 596, 'richard': 597, 'prove': 598, 'team': 599, 'stage': 600, 'cop': 601, 'unlik': 602, 'georg': 603, 'televis': 604, 'monster': 605, 'earth': 606, 'cover': 607, 'villain': 608, 'pay': 609, 'marri': 610, 'toward': 611, 'build': 612, 'parent': 613, 'pull': 614, 'due': 615, 'fill': 616, 'respect': 617, 'four': 618, 'dialog': 619, 'remind': 620, 'futur': 621, 'weak': 622, 'typic': 623, '7': 624, 'cheap': 625, 'intellig': 626, 'atmospher': 627, 'british': 628, 'clearli': 629, '80': 630, 'non': 631, 'dog': 632, 'paul': 633, 'fast': 634, 'knew': 635, '8': 636, 'artist': 637, 'crime': 638, 'easili': 639, 'escap': 640, 'adult': 641, 'doubt': 642, 'detail': 643, 'date': 644, 'member': 645, 'romant': 646, 'fire': 647, 'gun': 648, 'drive': 649, 'straight': 650, 'beyond': 651, 'fit': 652, 'attack': 653, 'imag': 654, 'upon': 655, 'posit': 656, 'whether': 657, 'peter': 658, 'fantast': 659, 'appreci': 660, 'aspect': 661, 'captur': 662, 'ten': 663, 'plan': 664, 'discov': 665, 'remain': 666, 'period': 667, 'near': 668, 'air': 669, 'realist': 670, 'mark': 671, 'red': 672, 'dull': 673, 'adapt': 674, 'within': 675, 'lose': 676, 'spend': 677, 'materi': 678, 'color': 679, 'chase': 680, 'mari': 681, 'storylin': 682, 'forget': 683, 'bunch': 684, 'clear': 685, 'lee': 686, 'victim': 687, 'nearli': 688, 'box': 689, 'york': 690, 'inspir': 691, 'match': 692, 'finish': 693, 'mess': 694, 'standard': 695, 'easi': 696, 'truth': 697, 'busi': 698, 'suffer': 699, 'dramat': 700, 'bill': 701, 'space': 702, 'western': 703, 'e': 704, 'list': 705, 'battl': 706, 'notic': 707, 'de': 708, 'french': 709, 'ad': 710, '9': 711, 'tom': 712, 'larg': 713, 'among': 714, 'eventu': 715, 'accept': 716, 'train': 717, 'agre': 718, 'spirit': 719, 'soundtrack': 720, 'third': 721, 'teenag': 722, 'adventur': 723, 'soldier': 724, 'famou': 725, 'drug': 726, 'suggest': 727, 'sorri': 728, 'cri': 729, 'normal': 730, 'babi': 731, 'ultim': 732, 'troubl': 733, 'contain': 734, 'certain': 735, 'cultur': 736, 'romanc': 737, 'rare': 738, 'lame': 739, 'somehow': 740, 'disney': 741, 'mix': 742, 'gone': 743, 'cartoon': 744, 'student': 745, 'reveal': 746, 'fear': 747, 'kept': 748, 'suck': 749, 'attract': 750, 'appeal': 751, 'premis': 752, 'secret': 753, 'design': 754, 'greatest': 755, 'shame': 756, 'throw': 757, 'scare': 758, 'copi': 759, 'wit': 760, 'america': 761, 'admit': 762, 'brought': 763, 'particular': 764, 'relat': 765, 'screenplay': 766, 'whatev': 767, 'pure': 768, '70': 769, 'harri': 770, 'averag': 771, 'master': 772, 'describ': 773, 'male': 774, 'treat': 775, '20': 776, 'issu': 777, 'fantasi': 778, 'warn': 779, 'inde': 780, 'forward': 781, 'background': 782, 'free': 783, 'project': 784, 'memor': 785, 'japanes': 786, 'poorli': 787, 'award': 788, 'locat': 789, 'potenti': 790, 'amus': 791, 'struggl': 792, 'magic': 793, 'weird': 794, 'societi': 795, 'okay': 796, 'accent': 797, 'imdb': 798, 'doctor': 799, 'hot': 800, 'water': 801, 'express': 802, 'alien': 803, '30': 804, 'dr': 805, 'odd': 806, 'choic': 807, 'crazi': 808, 'fiction': 809, 'studio': 810, 'control': 811, 'becam': 812, 'masterpiec': 813, 'difficult': 814, 'fli': 815, 'joe': 816, 'scream': 817, 'costum': 818, 'lover': 819, 'uniqu': 820, 'refer': 821, 'remak': 822, 'girlfriend': 823, 'vampir': 824, 'prison': 825, 'execut': 826, 'wear': 827, 'jump': 828, 'unless': 829, 'wood': 830, 'creepi': 831, 'cheesi': 832, 'superb': 833, 'otherwis': 834, 'parti': 835, 'roll': 836, 'ghost': 837, 'public': 838, 'mad': 839, 'depict': 840, 'earlier': 841, 'badli': 842, 'jane': 843, 'moral': 844, 'week': 845, 'dumb': 846, 'fi': 847, 'grow': 848, 'flaw': 849, 'deep': 850, 'sci': 851, 'maker': 852, 'cat': 853, 'footag': 854, 'connect': 855, 'older': 856, 'bother': 857, 'plenti': 858, 'outsid': 859, 'stick': 860, 'gay': 861, 'catch': 862, 'co': 863, 'plu': 864, 'popular': 865, 'equal': 866, 'social': 867, 'quickli': 868, 'disturb': 869, 'perfectli': 870, 'dress': 871, '90': 872, 'era': 873, 'mistak': 874, 'lie': 875, 'ride': 876, 'previou': 877, 'combin': 878, 'band': 879, 'concept': 880, 'rich': 881, 'surviv': 882, 'answer': 883, 'front': 884, 'sweet': 885, 'christma': 886, 'insid': 887, 'bare': 888, 'eat': 889, 'concern': 890, 'beat': 891, 'ben': 892, 'listen': 893, 'c': 894, 'serv': 895, 'term': 896, 'la': 897, 'german': 898, 'meant': 899, 'hardli': 900, 'stereotyp': 901, 'innoc': 902, 'law': 903, 'desper': 904, 'promis': 905, 'memori': 906, 'cute': 907, 'intent': 908, 'inform': 909, 'steal': 910, 'variou': 911, 'brain': 912, 'post': 913, 'tone': 914, 'island': 915, 'amount': 916, 'compani': 917, 'track': 918, 'nuditi': 919, 'claim': 920, 'store': 921, 'flat': 922, 'hair': 923, '50': 924, 'land': 925, 'univers': 926, 'kick': 927, 'danger': 928, 'scott': 929, 'fairli': 930, 'player': 931, 'step': 932, 'plain': 933, 'crew': 934, 'toni': 935, 'share': 936, 'tast': 937, 'centuri': 938, 'engag': 939, 'achiev': 940, 'travel': 941, 'cold': 942, 'record': 943, 'suit': 944, 'rip': 945, 'sadli': 946, 'manner': 947, 'spot': 948, 'wrote': 949, 'tension': 950, 'fascin': 951, 'intens': 952, 'familiar': 953, 'remark': 954, 'burn': 955, 'depth': 956, 'histor': 957, 'destroy': 958, 'sleep': 959, 'purpos': 960, 'languag': 961, 'ruin': 962, 'ignor': 963, 'delight': 964, 'unbeliev': 965, 'italian': 966, 'collect': 967, 'soul': 968, 'abil': 969, 'clever': 970, 'detect': 971, 'violent': 972, 'rape': 973, 'reach': 974, 'door': 975, 'liter': 976, 'trash': 977, 'scienc': 978, 'commun': 979, 'caught': 980, 'reveng': 981, 'creatur': 982, 'approach': 983, 'trip': 984, 'fashion': 985, 'intrigu': 986, 'paint': 987, 'introduc': 988, 'skill': 989, 'complex': 990, 'channel': 991, 'camp': 992, 'christian': 993, 'hole': 994, 'extra': 995, 'limit': 996, 'immedi': 997, 'ann': 998, 'mental': 999, 'million': 1000, 'mere': 1001, 'comput': 1002, 'slightli': 1003, '6': 1004, 'conclus': 1005, 'slasher': 1006, 'suddenli': 1007, 'imposs': 1008, 'neither': 1009, 'crimin': 1010, 'teen': 1011, 'nation': 1012, 'spent': 1013, 'physic': 1014, 'respons': 1015, 'planet': 1016, 'fake': 1017, 'receiv': 1018, 'blue': 1019, 'sick': 1020, 'bizarr': 1021, 'embarrass': 1022, 'indian': 1023, '15': 1024, 'ring': 1025, 'drop': 1026, 'pop': 1027, 'drag': 1028, 'haunt': 1029, 'pointless': 1030, 'suspect': 1031, 'edg': 1032, 'search': 1033, 'handl': 1034, 'biggest': 1035, 'common': 1036, 'faith': 1037, 'hurt': 1038, 'arriv': 1039, 'technic': 1040, 'angel': 1041, 'genuin': 1042, 'dad': 1043, 'solid': 1044, 'awesom': 1045, 'f': 1046, 'focu': 1047, 'colleg': 1048, 'former': 1049, 'van': 1050, 'count': 1051, 'heavi': 1052, 'tear': 1053, 'rais': 1054, 'wall': 1055, 'younger': 1056, 'visit': 1057, 'laughabl': 1058, 'sign': 1059, 'fair': 1060, 'excus': 1061, 'cult': 1062, 'motion': 1063, 'key': 1064, 'tough': 1065, 'desir': 1066, 'super': 1067, 'addit': 1068, 'stun': 1069, 'cloth': 1070, 'exploit': 1071, 'tortur': 1072, 'smith': 1073, 'davi': 1074, 'race': 1075, 'cross': 1076, 'author': 1077, 'jim': 1078, 'compel': 1079, 'focus': 1080, 'minor': 1081, 'consist': 1082, 'pathet': 1083, 'chemistri': 1084, 'commit': 1085, 'park': 1086, 'obsess': 1087, 'tradit': 1088, 'frank': 1089, 'grade': 1090, 'asid': 1091, '60': 1092, 'brutal': 1093, 'somewher': 1094, 'steve': 1095, 'opportun': 1096, 'u': 1097, 'grant': 1098, 'depress': 1099, 'explor': 1100, 'rule': 1101, 'honest': 1102, 'besid': 1103, 'anti': 1104, 'dub': 1105, 'intend': 1106, 'trailer': 1107, 'bar': 1108, 'longer': 1109, 'regard': 1110, 'west': 1111, 'scientist': 1112, 'decad': 1113, 'judg': 1114, 'silent': 1115, 'creativ': 1116, 'armi': 1117, 'wild': 1118, 'stewart': 1119, 'g': 1120, 'south': 1121, 'draw': 1122, 'road': 1123, 'govern': 1124, 'ex': 1125, 'boss': 1126, 'practic': 1127, 'surprisingli': 1128, 'festiv': 1129, 'gang': 1130, 'club': 1131, 'motiv': 1132, 'redeem': 1133, 'green': 1134, 'london': 1135, 'page': 1136, 'display': 1137, 'aliv': 1138, 'idiot': 1139, 'militari': 1140, 'machin': 1141, 'thrill': 1142, 'repeat': 1143, 'folk': 1144, '100': 1145, 'yeah': 1146, 'nobodi': 1147, '40': 1148, 'garbag': 1149, 'journey': 1150, 'tire': 1151, 'smile': 1152, 'ground': 1153, 'mood': 1154, 'bought': 1155, 'stone': 1156, 'sam': 1157, 'cost': 1158, 'noir': 1159, 'mouth': 1160, 'terrif': 1161, 'agent': 1162, 'utterli': 1163, 'requir': 1164, 'sexi': 1165, 'area': 1166, 'honestli': 1167, 'report': 1168, 'geniu': 1169, 'enter': 1170, 'glad': 1171, 'investig': 1172, 'humour': 1173, 'serial': 1174, 'narr': 1175, 'passion': 1176, 'occasion': 1177, 'climax': 1178, 'marriag': 1179, 'studi': 1180, 'industri': 1181, 'nowher': 1182, 'center': 1183, 'charli': 1184, 'demon': 1185, 'ship': 1186, 'loos': 1187, 'bear': 1188, 'hors': 1189, 'hang': 1190, 'wow': 1191, 'graphic': 1192, 'admir': 1193, 'giant': 1194, 'send': 1195, 'damn': 1196, 'loud': 1197, 'nake': 1198, 'rel': 1199, 'profession': 1200, 'subtl': 1201, 'blow': 1202, 'bottom': 1203, 'insult': 1204, 'batman': 1205, 'kelli': 1206, 'doubl': 1207, 'r': 1208, 'boyfriend': 1209, 'initi': 1210, 'frame': 1211, 'gem': 1212, 'opera': 1213, 'challeng': 1214, 'cinemat': 1215, 'affect': 1216, 'church': 1217, 'drawn': 1218, 'j': 1219, 'evid': 1220, 'seek': 1221, 'nightmar': 1222, 'fulli': 1223, 'l': 1224, 'essenti': 1225, 'conflict': 1226, 'arm': 1227, 'christoph': 1228, 'wind': 1229, 'grace': 1230, 'henri': 1231, 'assum': 1232, 'narrat': 1233, 'witch': 1234, 'push': 1235, 'hunt': 1236, 'wise': 1237, 'chri': 1238, 'month': 1239, 'nomin': 1240, 'repres': 1241, 'hide': 1242, 'avail': 1243, 'sceneri': 1244, 'affair': 1245, 'bond': 1246, 'smart': 1247, 'thu': 1248, 'justic': 1249, 'interview': 1250, 'flashback': 1251, 'outstand': 1252, 'presenc': 1253, 'constantli': 1254, 'satisfi': 1255, 'central': 1256, 'bed': 1257, 'sell': 1258, 'iron': 1259, 'content': 1260, 'gag': 1261, 'everybodi': 1262, 'hotel': 1263, 'slowli': 1264, 'hire': 1265, 'system': 1266, 'hey': 1267, 'charl': 1268, 'adam': 1269, 'individu': 1270, 'thrown': 1271, 'jone': 1272, 'mediocr': 1273, 'allen': 1274, 'ray': 1275, 'billi': 1276, 'lesson': 1277, 'cameo': 1278, 'photographi': 1279, 'fellow': 1280, 'pari': 1281, 'strike': 1282, 'independ': 1283, 'absurd': 1284, 'rise': 1285, 'brief': 1286, 'neg': 1287, 'phone': 1288, 'impact': 1289, 'born': 1290, 'ill': 1291, 'model': 1292, 'fresh': 1293, 'angl': 1294, 'spoil': 1295, 'abus': 1296, 'likabl': 1297, 'discuss': 1298, 'hill': 1299, 'sight': 1300, 'ahead': 1301, 'sent': 1302, 'photograph': 1303, 'blame': 1304, 'logic': 1305, 'occur': 1306, 'shine': 1307, 'mainli': 1308, 'bruce': 1309, 'forev': 1310, 'skip': 1311, 'commerci': 1312, 'segment': 1313, 'teacher': 1314, 'held': 1315, 'surround': 1316, 'blond': 1317, 'zero': 1318, 'summer': 1319, 'trap': 1320, 'satir': 1321, 'resembl': 1322, 'fool': 1323, 'ball': 1324, 'six': 1325, 'queen': 1326, 'tragedi': 1327, 'sub': 1328, 'twice': 1329, 'reaction': 1330, 'pack': 1331, 'bomb': 1332, 'hospit': 1333, 'will': 1334, 'protagonist': 1335, 'mile': 1336, 'sport': 1337, 'vote': 1338, 'trust': 1339, 'mom': 1340, 'drink': 1341, 'jerri': 1342, 'encount': 1343, 'plane': 1344, 'current': 1345, 'station': 1346, 'al': 1347, 'program': 1348, 'martin': 1349, 'celebr': 1350, 'choos': 1351, 'join': 1352, 'tragic': 1353, 'favourit': 1354, 'round': 1355, 'lord': 1356, 'field': 1357, 'jean': 1358, 'robot': 1359, 'vision': 1360, 'tie': 1361, 'arthur': 1362, 'roger': 1363, 'random': 1364, 'fortun': 1365, 'psycholog': 1366, 'intern': 1367, 'dread': 1368, 'improv': 1369, 'epic': 1370, 'prefer': 1371, 'nonsens': 1372, 'legend': 1373, 'highlight': 1374, 'formula': 1375, 'pleasur': 1376, '11': 1377, 'dollar': 1378, 'tape': 1379, 'porn': 1380, 'thin': 1381, 'wide': 1382, 'gorgeou': 1383, 'object': 1384, 'fox': 1385, 'ugli': 1386, 'influenc': 1387, 'buddi': 1388, 'prepar': 1389, 'ii': 1390, 'nasti': 1391, 'warm': 1392, 'progress': 1393, 'supposedli': 1394, 'reflect': 1395, 'youth': 1396, 'worthi': 1397, 'unusu': 1398, 'length': 1399, 'latter': 1400, 'crash': 1401, 'childhood': 1402, 'seven': 1403, 'shop': 1404, 'superior': 1405, 'theatr': 1406, 'remot': 1407, 'paid': 1408, 'disgust': 1409, 'pilot': 1410, 'funniest': 1411, 'fell': 1412, 'trick': 1413, 'castl': 1414, 'convers': 1415, 'establish': 1416, 'rob': 1417, 'disast': 1418, 'gangster': 1419, 'disappear': 1420, 'mine': 1421, 'ident': 1422, 'suicid': 1423, 'heaven': 1424, 'singer': 1425, 'mask': 1426, 'decis': 1427, 'tend': 1428, 'forgotten': 1429, 'heroin': 1430, 'brian': 1431, 'partner': 1432, 'recogn': 1433, 'alan': 1434, 'desert': 1435, 'p': 1436, 'stuck': 1437, 'ms': 1438, 'thoroughli': 1439, 'sky': 1440, 'accur': 1441, 'replac': 1442, 'market': 1443, 'clue': 1444, 'commentari': 1445, 'uncl': 1446, 'seemingli': 1447, 'danni': 1448, 'eddi': 1449, 'andi': 1450, 'devil': 1451, 'jackson': 1452, 'therefor': 1453, 'refus': 1454, 'that': 1455, 'pair': 1456, 'ed': 1457, 'accid': 1458, 'unit': 1459, 'fault': 1460, 'river': 1461, 'fate': 1462, 'afraid': 1463, 'tune': 1464, 'clean': 1465, 'russian': 1466, 'stephen': 1467, 'hidden': 1468, 'instanc': 1469, 'convey': 1470, 'quick': 1471, 'captain': 1472, 'irrit': 1473, 'test': 1474, 'readi': 1475, 'european': 1476, 'insan': 1477, 'daniel': 1478, 'frustrat': 1479, 'chines': 1480, '1950': 1481, 'rescu': 1482, 'food': 1483, 'wed': 1484, 'dirti': 1485, 'angri': 1486, 'lock': 1487, 'joy': 1488, 'price': 1489, 'steven': 1490, 'cage': 1491, 'bland': 1492, 'rang': 1493, 'anymor': 1494, 'wooden': 1495, 'news': 1496, 'rush': 1497, 'jason': 1498, 'n': 1499, 'worri': 1500, 'martial': 1501, 'board': 1502, '12': 1503, 'led': 1504, 'twenti': 1505, 'cgi': 1506, 'transform': 1507, 'symbol': 1508, 'hunter': 1509, 'invent': 1510, 'piti': 1511, 'sentiment': 1512, 'onto': 1513, 'x': 1514, 'johnni': 1515, 'process': 1516, 'explan': 1517, 'attitud': 1518, 'awar': 1519, 'owner': 1520, 'aim': 1521, 'favor': 1522, 'necessari': 1523, 'floor': 1524, 'target': 1525, 'energi': 1526, 'religi': 1527, 'opposit': 1528, 'window': 1529, 'blind': 1530, 'insight': 1531, 'chick': 1532, 'movement': 1533, 'mountain': 1534, 'comparison': 1535, 'possess': 1536, 'deepli': 1537, 'research': 1538, 'grand': 1539, 'whatsoev': 1540, 'comed': 1541, 'rain': 1542, 'began': 1543, 'shadow': 1544, 'mid': 1545, 'bank': 1546, 'parodi': 1547, 'princ': 1548, 'pre': 1549, 'taylor': 1550, 'friendship': 1551, 'weapon': 1552, 'credibl': 1553, 'teach': 1554, 'dougla': 1555, 'flesh': 1556, 'terror': 1557, 'hint': 1558, 'protect': 1559, 'bloodi': 1560, 'marvel': 1561, 'leader': 1562, 'load': 1563, 'superman': 1564, 'drunk': 1565, 'watchabl': 1566, 'accord': 1567, 'anybodi': 1568, 'brown': 1569, 'freddi': 1570, 'hitler': 1571, 'appropri': 1572, 'jeff': 1573, 'tim': 1574, 'seat': 1575, 'villag': 1576, 'knock': 1577, 'unknown': 1578, 'charg': 1579, 'keaton': 1580, 'media': 1581, 'england': 1582, 'enemi': 1583, 'unnecessari': 1584, 'empti': 1585, 'buck': 1586, 'wave': 1587, 'craft': 1588, 'strength': 1589, 'dare': 1590, 'perspect': 1591, 'utter': 1592, 'contrast': 1593, 'kiss': 1594, 'ford': 1595, 'correct': 1596, 'nativ': 1597, 'anywher': 1598, 'magnific': 1599, 'speed': 1600, 'chill': 1601, 'knowledg': 1602, 'distract': 1603, 'soap': 1604, 'nazi': 1605, 'fred': 1606, 'mission': 1607, 'breath': 1608, 'ice': 1609, '1980': 1610, 'crowd': 1611, 'moon': 1612, 'joan': 1613, 'jr': 1614, '000': 1615, 'frighten': 1616, 'kate': 1617, 'soft': 1618, 'dick': 1619, 'nick': 1620, 'dan': 1621, 'hundr': 1622, 'radio': 1623, 'somebodi': 1624, 'dozen': 1625, 'simon': 1626, 'andrew': 1627, 'academi': 1628, 'loss': 1629, 'thousand': 1630, 'shakespear': 1631, 'sum': 1632, 'account': 1633, 'root': 1634, 'quot': 1635, 'vehicl': 1636, 'behavior': 1637, 'convent': 1638, '1970': 1639, 'leg': 1640, 'gold': 1641, 'regular': 1642, 'pretenti': 1643, 'worker': 1644, 'demand': 1645, 'compet': 1646, 'japan': 1647, 'candi': 1648, 'explos': 1649, 'interpret': 1650, 'notabl': 1651, 'lynch': 1652, 'privat': 1653, 'stretch': 1654, 'constant': 1655, 'debut': 1656, 'tarzan': 1657, 'spi': 1658, 'prais': 1659, 'revolv': 1660, 'translat': 1661, 'sea': 1662, 'failur': 1663, 'ass': 1664, 'franc': 1665, 'jesu': 1666, 'threaten': 1667, 'technolog': 1668, 'sat': 1669, 'quiet': 1670, 'kevin': 1671, 'met': 1672, 'toy': 1673, 'aid': 1674, 'punch': 1675, 'higher': 1676, 'mike': 1677, 'vh': 1678, 'abandon': 1679, 'interact': 1680, 'bet': 1681, 'confront': 1682, 'separ': 1683, 'command': 1684, 'gotten': 1685, 'servic': 1686, 'belong': 1687, 'stunt': 1688, 'site': 1689, 'recal': 1690, 'techniqu': 1691, 'foot': 1692, 'freak': 1693, 'bug': 1694, 'cabl': 1695, 'jimmi': 1696, 'african': 1697, 'bright': 1698, 'fu': 1699, 'capabl': 1700, 'stock': 1701, 'succeed': 1702, 'presid': 1703, 'clark': 1704, 'boat': 1705, 'fat': 1706, 'structur': 1707, 'gene': 1708, 'spanish': 1709, 'paper': 1710, 'kidnap': 1711, 'whilst': 1712, 'factor': 1713, 'belief': 1714, 'attend': 1715, 'educ': 1716, 'realism': 1717, 'realis': 1718, 'complic': 1719, 'tree': 1720, 'witti': 1721, 'bob': 1722, 'finest': 1723, 'broken': 1724, 'assist': 1725, 'santa': 1726, 'depart': 1727, 'determin': 1728, 'smoke': 1729, 'up': 1730, 'v': 1731, 'observ': 1732, 'rubbish': 1733, 'domin': 1734, 'lewi': 1735, 'oper': 1736, 'fame': 1737, 'routin': 1738, 'hat': 1739, 'lone': 1740, 'advanc': 1741, 'hook': 1742, 'kinda': 1743, 'morgan': 1744, 'safe': 1745, 'foreign': 1746, 'rank': 1747, 'numer': 1748, 'washington': 1749, 'shape': 1750, 'civil': 1751, 'werewolf': 1752, 'vs': 1753, 'rose': 1754, 'shallow': 1755, 'morn': 1756, 'gari': 1757, 'accomplish': 1758, 'winner': 1759, 'ordinari': 1760, 'kong': 1761, 'whenev': 1762, 'grab': 1763, 'virtual': 1764, 'peac': 1765, 'offens': 1766, 'h': 1767, 'luck': 1768, 'contriv': 1769, 'activ': 1770, 'bigger': 1771, 'complain': 1772, 'welcom': 1773, 'unfunni': 1774, 'patient': 1775, 'pretend': 1776, 'dimension': 1777, 'trek': 1778, 'con': 1779, 'cain': 1780, 'wake': 1781, 'dri': 1782, 'eric': 1783, 'code': 1784, 'lesbian': 1785, 'flash': 1786, 'manipul': 1787, 'statu': 1788, 'guard': 1789, 'albert': 1790, 'dancer': 1791, 'corrupt': 1792, 'sourc': 1793, 'context': 1794, 'speech': 1795, 'awkward': 1796, 'signific': 1797, 'gain': 1798, 'sean': 1799, 'corni': 1800, 'psycho': 1801, 'clip': 1802, '13': 1803, 'anthoni': 1804, 'advic': 1805, 'religion': 1806, 'priest': 1807, 'w': 1808, 'curiou': 1809, 'reli': 1810, 'theatric': 1811, 'flow': 1812, 'addict': 1813, 'skin': 1814, 'secur': 1815, 'jennif': 1816, 'specif': 1817, 'howard': 1818, 'asian': 1819, 'promot': 1820, 'comfort': 1821, 'luke': 1822, 'organ': 1823, 'core': 1824, 'golden': 1825, 'lucki': 1826, 'cheat': 1827, 'cash': 1828, 'dislik': 1829, 'associ': 1830, 'lower': 1831, 'regret': 1832, 'spell': 1833, 'balanc': 1834, 'frequent': 1835, 'frankli': 1836, 'degre': 1837, 'devic': 1838, 'contribut': 1839, 'wing': 1840, 'lake': 1841, 'sake': 1842, 'forgiv': 1843, 'print': 1844, 'mass': 1845, 'thoma': 1846, 'betti': 1847, 'unexpect': 1848, 'crack': 1849, 'gordon': 1850, 'depend': 1851, 'construct': 1852, 'grown': 1853, 'invit': 1854, 'unfold': 1855, 'amateur': 1856, 'categori': 1857, 'walter': 1858, 'condit': 1859, 'honor': 1860, 'intellectu': 1861, 'matur': 1862, 'anna': 1863, 'grew': 1864, 'veteran': 1865, 'mirror': 1866, 'sole': 1867, 'spectacular': 1868, 'sudden': 1869, 'overli': 1870, 'gift': 1871, 'demonstr': 1872, 'meanwhil': 1873, 'freedom': 1874, 'liner': 1875, 'card': 1876, 'grip': 1877, 'experienc': 1878, 'robin': 1879, 'unabl': 1880, 'circumst': 1881, 'crappi': 1882, 'colour': 1883, 'subtitl': 1884, 'oliv': 1885, 'sheriff': 1886, 'theori': 1887, 'section': 1888, 'drew': 1889, 'brilliantli': 1890, 'parker': 1891, 'path': 1892, 'altern': 1893, 'sheer': 1894, 'pile': 1895, 'matt': 1896, 'cook': 1897, 'laughter': 1898, 'accident': 1899, 'defin': 1900, 'lawyer': 1901, 'treatment': 1902, 'wander': 1903, 'hall': 1904, 'sinatra': 1905, 'relief': 1906, 'captiv': 1907, 'dragon': 1908, 'hank': 1909, 'halloween': 1910, 'gratuit': 1911, 'moor': 1912, 'wound': 1913, 'broadway': 1914, 'barbara': 1915, 'k': 1916, 'wayn': 1917, 'unintent': 1918, 'kung': 1919, 'cowboy': 1920, 'jacki': 1921, 'winter': 1922, 'spoof': 1923, 'surreal': 1924, 'statement': 1925, 'canadian': 1926, 'compos': 1927, 'fare': 1928, 'gonna': 1929, 'treasur': 1930, 'fish': 1931, 'cheer': 1932, 'woodi': 1933, 'unrealist': 1934, 'sensit': 1935, 'victor': 1936, 'emerg': 1937, 'neighbor': 1938, 'driven': 1939, 'sympathet': 1940, 'ran': 1941, 'menac': 1942, 'authent': 1943, 'expos': 1944, 'overlook': 1945, 'topic': 1946, 'glass': 1947, 'handsom': 1948, 'chief': 1949, 'gross': 1950, 'michel': 1951, 'ancient': 1952, 'network': 1953, 'contemporari': 1954, 'nevertheless': 1955, 'feet': 1956, 'comedian': 1957, 'stranger': 1958, 'russel': 1959, 'built': 1960, 'pleasant': 1961, 'cinderella': 1962, 'letter': 1963, 'underr': 1964, 'earn': 1965, 'miser': 1966, 'gori': 1967, 'endless': 1968, 'consider': 1969, 'blockbust': 1970, 'switch': 1971, 'brook': 1972, 'solv': 1973, 'convict': 1974, 'virgin': 1975, 'bullet': 1976, 'joseph': 1977, 'edward': 1978, 'victoria': 1979, 'alex': 1980, 'scenario': 1981, '0': 1982, 'chosen': 1983, 'cynic': 1984, 'scale': 1985, 'sword': 1986, 'gut': 1987, 'outrag': 1988, 'curs': 1989, 'com': 1990, 'screenwrit': 1991, 'uk': 1992, 'driver': 1993, 'juli': 1994, 'proper': 1995, 'monkey': 1996, 'wrap': 1997, 'substanc': 1998, 'remov': 1999, 'bird': 2000, 'court': 2001, 'par': 2002, 'indic': 2003, 'naiv': 2004, 'roy': 2005, 'consequ': 2006, 'advertis': 2007, 'loser': 2008, 'nanci': 2009, 'rental': 2010, 'grave': 2011, 'inevit': 2012, 'le': 2013, 'brave': 2014, 'germani': 2015, 'fatal': 2016, 'invis': 2017, 'bridg': 2018, 'slap': 2019, 'anger': 2020, 'footbal': 2021, 'loui': 2022, 'ador': 2023, 'provok': 2024, 'chan': 2025, 'alcohol': 2026, 'anderson': 2027, 'professor': 2028, 'stumbl': 2029, 'willi': 2030, 'ryan': 2031, 'patrick': 2032, 'australian': 2033, 'bat': 2034, 'assassin': 2035, '1930': 2036, 'sharp': 2037, 'heck': 2038, 'liber': 2039, 'amateurish': 2040, 'ape': 2041, 'trilog': 2042, 'eight': 2043, 'deni': 2044, 'cell': 2045, 'strongli': 2046, 'refresh': 2047, 'saturday': 2048, 'lousi': 2049, 'sin': 2050, 'vagu': 2051, 'san': 2052, 'justifi': 2053, 'resid': 2054, 'reput': 2055, 'indi': 2056, 'mini': 2057, 'sympathi': 2058, 'terrifi': 2059, 'creator': 2060, 'defeat': 2061, 'tediou': 2062, 'endur': 2063, 'task': 2064, 'prevent': 2065, 'tabl': 2066, 'expert': 2067, 'employ': 2068, 'rival': 2069, 'offend': 2070, 'trial': 2071, 'imit': 2072, 'che': 2073, 'basebal': 2074, 'dig': 2075, 'pitch': 2076, 'complaint': 2077, 'europ': 2078, 'fairi': 2079, 'max': 2080, 'weekend': 2081, 'beach': 2082, 'format': 2083, 'risk': 2084, 'purchas': 2085, 'murphi': 2086, 'hype': 2087, 'bite': 2088, 'nois': 2089, 'tini': 2090, 'glimps': 2091, 'powel': 2092, 'reminisc': 2093, 'titan': 2094, 'harsh': 2095, 'fals': 2096, 'asleep': 2097, '14': 2098, 'north': 2099, 'till': 2100, 'prime': 2101, 'strip': 2102, 'destruct': 2103, 'descript': 2104, 'africa': 2105, 'texa': 2106, 'revel': 2107, 'excess': 2108, 'sitcom': 2109, 'spin': 2110, 'arrest': 2111, 'uninterest': 2112, 'inner': 2113, 'surfac': 2114, 'semi': 2115, 'maintain': 2116, 'argu': 2117, 'massiv': 2118, 'makeup': 2119, 'twin': 2120, 'hitchcock': 2121, 'dinosaur': 2122, 'controversi': 2123, 'melodrama': 2124, 'ideal': 2125, 'kim': 2126, 'ludicr': 2127, 'expens': 2128, 'insist': 2129, 'stare': 2130, 'reject': 2131, 'forest': 2132, 'ala': 2133, 'erot': 2134, 'nail': 2135, 'supernatur': 2136, 'press': 2137, 'subplot': 2138, 'atroci': 2139, 'ga': 2140, 'host': 2141, 'columbo': 2142, 'dude': 2143, 'presum': 2144, 'identifi': 2145, 'notch': 2146, 'cant': 2147, 'guest': 2148, 'method': 2149, 'character': 2150, 'closer': 2151, 'plagu': 2152, 'forgett': 2153, 'crude': 2154, 'ear': 2155, 'foster': 2156, 'border': 2157, 'beast': 2158, 'landscap': 2159, 'princess': 2160, 'lion': 2161, 'previous': 2162, 'accus': 2163, 'jungl': 2164, 'pacino': 2165, 'birth': 2166, 'urban': 2167, 'bound': 2168, 'storytel': 2169, 'damag': 2170, 'aunt': 2171, 'guid': 2172, 'chose': 2173, 'doll': 2174, 'jess': 2175, 'thirti': 2176, 'emma': 2177, 'nude': 2178, 'propaganda': 2179, '25': 2180, 'mate': 2181, 'warrior': 2182, 'pet': 2183, 'mainstream': 2184, 'whoever': 2185, 'cooper': 2186, 'upset': 2187, 'merit': 2188, 'size': 2189, 'deadli': 2190, 'poster': 2191, 'friday': 2192, 'gritti': 2193, 'latest': 2194, 'exact': 2195, 'blend': 2196, 'rough': 2197, '1990': 2198, 'contact': 2199, 'corps': 2200, 'warner': 2201, 'ton': 2202, 'contest': 2203, 'buff': 2204, 'wilson': 2205, 'settl': 2206, 'popul': 2207, 'sun': 2208, 'citizen': 2209, 'select': 2210, 'environ': 2211, 'widow': 2212, 'alic': 2213, 'metal': 2214, 'overcom': 2215, 'mgm': 2216, 'rat': 2217, 'bu': 2218, 'pitt': 2219, 'particip': 2220, 'guilti': 2221, 'revolut': 2222, 'link': 2223, 'lift': 2224, 'ted': 2225, 'prostitut': 2226, 'corpor': 2227, 'exagger': 2228, 'corner': 2229, 'accompani': 2230, 'johnson': 2231, '1960': 2232, 'moron': 2233, 'matrix': 2234, 'afternoon': 2235, 'leagu': 2236, 'instal': 2237, 'friendli': 2238, 'sincer': 2239, 'multipl': 2240, 'clair': 2241, 'doom': 2242, 'holm': 2243, 'hood': 2244, 'aka': 2245, 'grim': 2246, 'string': 2247, 'examin': 2248, 'advis': 2249, 'blah': 2250, 'irish': 2251, 'lugosi': 2252, 'junk': 2253, 'sunday': 2254, 'defend': 2255, 'campi': 2256, 'hip': 2257, 'tight': 2258, 'pro': 2259, 'shake': 2260, 'shut': 2261, 'varieti': 2262, 'icon': 2263, 'rachel': 2264, 'confid': 2265, 'jaw': 2266, 'directli': 2267, 'medic': 2268, 'denni': 2269, 'goal': 2270, 'sullivan': 2271, 'attach': 2272, 'mexican': 2273, 'legendari': 2274, 'terrorist': 2275, 'duke': 2276, 'courag': 2277, 'truck': 2278, 'sentenc': 2279, 'bourn': 2280, 'vietnam': 2281, 'dean': 2282, 'prior': 2283, 'sarah': 2284, 'breast': 2285, 'nose': 2286, 'yell': 2287, 'split': 2288, 'hong': 2289, 'un': 2290, 'donald': 2291, 'behav': 2292, 'entri': 2293, 'proceed': 2294, 'swim': 2295, 'jerk': 2296, 'crush': 2297, 'unconvinc': 2298, 'confess': 2299, 'gather': 2300, 'forth': 2301, 'borrow': 2302, 'stolen': 2303, 'concentr': 2304, 'lifetim': 2305, 'everywher': 2306, 'buri': 2307, 'lip': 2308, 'spite': 2309, 'turkey': 2310, 'deliveri': 2311, 'julia': 2312, 'california': 2313, 'pan': 2314, 'china': 2315, 'reward': 2316, 'offici': 2317, 'hoffman': 2318, 'flight': 2319, 'quest': 2320, 'proud': 2321, 'downright': 2322, 'freeman': 2323, 'betray': 2324, 'lazi': 2325, 'fabul': 2326, 'jail': 2327, 'sink': 2328, 'worthwhil': 2329, 'encourag': 2330, 'notori': 2331, 'fade': 2332, 'sir': 2333, 'inept': 2334, 'jon': 2335, 'cousin': 2336, 'imageri': 2337, 'bag': 2338, 'teeth': 2339, 'retard': 2340, 'bell': 2341, 'storm': 2342, 'shower': 2343, 'branagh': 2344, 'lisa': 2345, 'relev': 2346, 'susan': 2347, 'survivor': 2348, 'trade': 2349, 'summari': 2350, 'tremend': 2351, 'bride': 2352, 'finger': 2353, 'quirki': 2354, 'toler': 2355, 'alright': 2356, 'hugh': 2357, 'mexico': 2358, 'facial': 2359, 'shark': 2360, 'stab': 2361, 'von': 2362, 'bitter': 2363, 'pose': 2364, 'ha': 2365, 'blown': 2366, 'hyster': 2367, 'bone': 2368, 'scheme': 2369, 'christ': 2370, 'ned': 2371, 'larri': 2372, 'address': 2373, 'cruel': 2374, 'afterward': 2375, 'ron': 2376, 'beg': 2377, 'thumb': 2378, 'tour': 2379, 'snake': 2380, 'distinct': 2381, 'swear': 2382, 'screw': 2383, 'traci': 2384, 'feed': 2385, 'pursu': 2386, 'obscur': 2387, 'occas': 2388, 'stomach': 2389, 'photo': 2390, 'raw': 2391, 'chair': 2392, 'mechan': 2393, 'sidney': 2394, 'holiday': 2395, 'render': 2396, 'heavili': 2397, 'chain': 2398, 'resist': 2399, 'gruesom': 2400, 'argument': 2401, 'southern': 2402, 'hardi': 2403, 'cabin': 2404, 'necessarili': 2405, 'india': 2406, 'indulg': 2407, 'racist': 2408, 'philip': 2409, 'understood': 2410, 'satan': 2411, 'outfit': 2412, 'fourth': 2413, 'lay': 2414, 'pregnant': 2415, 'integr': 2416, 'stalk': 2417, 'obnoxi': 2418, 'forgot': 2419, 'belov': 2420, 'tongu': 2421, 'midnight': 2422, 'ticket': 2423, 'inhabit': 2424, 'garden': 2425, 'deeper': 2426, 'carol': 2427, 'magazin': 2428, 'slapstick': 2429, 'restor': 2430, '17': 2431, 'lincoln': 2432, 'incid': 2433, 'shoe': 2434, 'devot': 2435, 'brad': 2436, 'benefit': 2437, 'anticip': 2438, 'elizabeth': 2439, 'disbelief': 2440, 'underground': 2441, 'divorc': 2442, 'guarante': 2443, 'lili': 2444, 'sandler': 2445, 'maria': 2446, 'slave': 2447, 'capit': 2448, 'creation': 2449, 'greater': 2450, 'mildli': 2451, 'princip': 2452, 'cring': 2453, 'amazingli': 2454, 'explod': 2455, 'bbc': 2456, 'funnier': 2457, 'extraordinari': 2458, 'halfway': 2459, 'lesli': 2460, 'introduct': 2461, 'overwhelm': 2462, 'wreck': 2463, 'advantag': 2464, 'text': 2465, 'transfer': 2466, 'punish': 2467, 'enhanc': 2468, 'tap': 2469, 'extent': 2470, 'jessica': 2471, 'deliber': 2472, 'east': 2473, 'horrif': 2474, 'dynam': 2475, 'plant': 2476, 'error': 2477, 'preview': 2478, 'lo': 2479, 'lane': 2480, 'ensu': 2481, 'homosexu': 2482, 'basi': 2483, 'appli': 2484, 'miller': 2485, 'vacat': 2486, '2000': 2487, 'miscast': 2488, 'vincent': 2489, 'sophist': 2490, 'uncomfort': 2491, 'elev': 2492, 'reed': 2493, 'measur': 2494, 'spoken': 2495, 'via': 2496, 'sleazi': 2497, 'steel': 2498, 'bollywood': 2499, 'mansion': 2500, 'extend': 2501, 'goofi': 2502, 'breathtak': 2503, 'blair': 2504, 'melt': 2505, 'overact': 2506, 'stanley': 2507, 'cathol': 2508, 'alter': 2509, 'daili': 2510, 'assign': 2511, 'fix': 2512, 'savag': 2513, 'conceiv': 2514, 'mous': 2515, 'hippi': 2516, 'beer': 2517, 'dentist': 2518, 'everyday': 2519, 'succe': 2520, 'oppos': 2521, 'sacrific': 2522, 'properli': 2523, 'subsequ': 2524, 'burt': 2525, 'carpent': 2526, 'inspector': 2527, 'nowaday': 2528, 'block': 2529, 'massacr': 2530, 'laura': 2531, 'circl': 2532, 'neck': 2533, 'lesser': 2534, 'fay': 2535, 'fallen': 2536, 'portrait': 2537, 'christi': 2538, 'pool': 2539, 'access': 2540, 'grey': 2541, 'concert': 2542, 'mob': 2543, 'seagal': 2544, 'usa': 2545, 'relax': 2546, 'sinist': 2547, 'isol': 2548, 'react': 2549, 'jewish': 2550, 'competit': 2551, 'jake': 2552, 'chees': 2553, 'nine': 2554, 'suitabl': 2555, 'immens': 2556, 'spiritu': 2557, '2006': 2558, 'creep': 2559, 'appal': 2560, 'stink': 2561, 'ironi': 2562, 'lyric': 2563, 'chop': 2564, 'nonetheless': 2565, 'sold': 2566, 'luci': 2567, 'adopt': 2568, 'user': 2569, 'franchis': 2570, 'needless': 2571, 'showcas': 2572, 'rage': 2573, 'retir': 2574, 'shirt': 2575, 'navi': 2576, 'nut': 2577, 'reduc': 2578, 'spring': 2579, 'bath': 2580, 'uninspir': 2581, 'per': 2582, 'zone': 2583, 'stanwyck': 2584, 'nurs': 2585, 'digit': 2586, 'asham': 2587, 'jay': 2588, 'bulli': 2589, '2001': 2590, 'oddli': 2591, 'upper': 2592, 'laid': 2593, '1940': 2594, 'illustr': 2595, 'broadcast': 2596, 'amongst': 2597, 'sutherland': 2598, 'baker': 2599, 'stylish': 2600, 'throat': 2601, 'disguis': 2602, 'aspir': 2603, 'fulfil': 2604, 'brando': 2605, 'neighborhood': 2606, 'nobl': 2607, 'endear': 2608, 'em': 2609, '18': 2610, 'pound': 2611, 'wanna': 2612, 'pride': 2613, 'impli': 2614, 'wwii': 2615, 'thief': 2616, 'bett': 2617, 'distribut': 2618, 'coher': 2619, 'prop': 2620, 'cinematograph': 2621, 'shoulder': 2622, 'shift': 2623, 'dawn': 2624, 'tens': 2625, 'diseas': 2626, 'dinner': 2627, 'bo': 2628, '16': 2629, 'albeit': 2630, 'rochest': 2631, 'shout': 2632, 'poignant': 2633, 'surf': 2634, 'wash': 2635, 'contract': 2636, 'function': 2637, 'forti': 2638, 'knife': 2639, 'matthau': 2640, 'silenc': 2641, 'snow': 2642, 'rebel': 2643, 'reunion': 2644, 'mindless': 2645, 'heat': 2646, 'height': 2647, 'eeri': 2648, 'silver': 2649, 'widmark': 2650, 'duti': 2651, 'henc': 2652, 'derek': 2653, 'elvira': 2654, 'proof': 2655, 'cancel': 2656, 'cannib': 2657, 'horrend': 2658, 'internet': 2659, 'instinct': 2660, 'chuck': 2661, 'alik': 2662, 'mill': 2663, 'elvi': 2664, 'musician': 2665, 'etern': 2666, 'greatli': 2667, 'pie': 2668, 'incoher': 2669, 'premier': 2670, 'innov': 2671, 'glori': 2672, 'neat': 2673, 'absorb': 2674, 'repetit': 2675, 'torn': 2676, 'spielberg': 2677, 'homag': 2678, 'wealthi': 2679, 'trite': 2680, 'horrifi': 2681, 'lovabl': 2682, 'fbi': 2683, 'precis': 2684, 'blank': 2685, 'bang': 2686, 'nelson': 2687, 'crisi': 2688, 'itali': 2689, 'infam': 2690, 'britain': 2691, 'burton': 2692, 'announc': 2693, 'diamond': 2694, 'racism': 2695, 'redempt': 2696, 'flop': 2697, 'pat': 2698, 'happili': 2699, 'chaplin': 2700, 'hammer': 2701, 'dedic': 2702, 'resolut': 2703, 'ensembl': 2704, 'helen': 2705, 'parallel': 2706, 'streisand': 2707, 'wilder': 2708, 'factori': 2709, 'cube': 2710, 'mar': 2711, 'disagre': 2712, 'plastic': 2713, 'conclud': 2714, 'oil': 2715, 'broke': 2716, 'carter': 2717, 'triumph': 2718, 'st': 2719, 'fighter': 2720, 'weight': 2721, 'bush': 2722, 'chuckl': 2723, 'vega': 2724, 'rocket': 2725, 'march': 2726, 'own': 2727, 'climb': 2728, 'row': 2729, 'dump': 2730, 'mst3k': 2731, 'lust': 2732, 'dane': 2733, 'unforgett': 2734, 'sensibl': 2735, 'wherea': 2736, 'kurt': 2737, 'spare': 2738, 'boot': 2739, 'enorm': 2740, 'meaning': 2741, 'thug': 2742, 'luca': 2743, 'stress': 2744, 'butt': 2745, 'brand': 2746, 'threat': 2747, 'caricatur': 2748, 'karloff': 2749, 'bobbi': 2750, 'difficulti': 2751, 'fifti': 2752, 'rap': 2753, 'adequ': 2754, 'dear': 2755, 'engin': 2756, 'arnold': 2757, 'homeless': 2758, 'flynn': 2759, 'arrog': 2760, 'polish': 2761, 'journalist': 2762, 'ralph': 2763, 'ego': 2764, 'secretari': 2765, 'fest': 2766, 'hamlet': 2767, 'barri': 2768, 'swing': 2769, 'elabor': 2770, 'grate': 2771, 'arrang': 2772, 'resort': 2773, 'simpson': 2774, 'fanci': 2775, 'float': 2776, 'induc': 2777, 'unbear': 2778, 'spike': 2779, 'conspiraci': 2780, 'tool': 2781, 'puppet': 2782, 'exercis': 2783, 'basement': 2784, 'phillip': 2785, 'guilt': 2786, 'choreograph': 2787, 'pig': 2788, 'cruis': 2789, 'tribut': 2790, 'muppet': 2791, 'boll': 2792, 'babe': 2793, 'medium': 2794, 'tower': 2795, 'layer': 2796, 'document': 2797, 'item': 2798, 'editor': 2799, '24': 2800, 'slip': 2801, 'ham': 2802, 'puzzl': 2803, 'toilet': 2804, 'fianc': 2805, 'file': 2806, 'scarecrow': 2807, 'stan': 2808, 'ward': 2809, 'korean': 2810, 'larger': 2811, 'superfici': 2812, 'librari': 2813, 'philosoph': 2814, 'doc': 2815, 'catherin': 2816, 'transit': 2817, 'minim': 2818, 'territori': 2819, 'slaughter': 2820, 'spark': 2821, 'inexplic': 2822, 'persona': 2823, 'assur': 2824, 'denzel': 2825, 'portion': 2826, 'glover': 2827, 'orient': 2828, 'walken': 2829, 'dorothi': 2830, 'boredom': 2831, 'curti': 2832, 'sneak': 2833, 'shi': 2834, 'pg': 2835, 'owe': 2836, 'ban': 2837, 'financi': 2838, 'wolf': 2839, 'jet': 2840, 'jeremi': 2841, 'multi': 2842, 'ambigu': 2843, 'metaphor': 2844, 'profound': 2845, 'whale': 2846, 'hudson': 2847, 'eleph': 2848, 'backdrop': 2849, 'cusack': 2850, 'notion': 2851, 'elsewher': 2852, 'union': 2853, 'viru': 2854, 'implaus': 2855, 'hack': 2856, 'stiff': 2857, 'rave': 2858, '2005': 2859, 'ultra': 2860, 'birthday': 2861, 'gadget': 2862, 'slight': 2863, 'afford': 2864, 'bibl': 2865, 'hawk': 2866, 'reader': 2867, 'canada': 2868, 'distanc': 2869, '1st': 2870, 'deriv': 2871, 'poison': 2872, 'newspap': 2873, 'squar': 2874, 'eva': 2875, 'eastwood': 2876, 'superhero': 2877, 'disc': 2878, 'urg': 2879, 'lloyd': 2880, 'pad': 2881, 'button': 2882, 'charisma': 2883, 'essenc': 2884, 'health': 2885, 'heston': 2886, 'montag': 2887, 'drown': 2888, 'skit': 2889, 'huh': 2890, 'cure': 2891, 'sadist': 2892, 'spread': 2893, 'restaur': 2894, 'maniac': 2895, 'gradual': 2896, 'godfath': 2897, 'invest': 2898, 'lab': 2899, 'peak': 2900, 'muslim': 2901, 'fetch': 2902, 'companion': 2903, 'estat': 2904, 'scoobi': 2905, 'dealt': 2906, 'ritter': 2907, 'countless': 2908, 'gothic': 2909, 'subtleti': 2910, 'cup': 2911, 'tea': 2912, 'alli': 2913, 'servant': 2914, 'kane': 2915, 'miik': 2916, 'charismat': 2917, 'heroic': 2918, 'elect': 2919, 'iii': 2920, 'briefli': 2921, 'electr': 2922, 'salli': 2923, 'grandmoth': 2924, 'reel': 2925, 'toss': 2926, 'neil': 2927, 'ingredi': 2928, 'nuanc': 2929, 'admittedli': 2930, 'bud': 2931, 'tender': 2932, 'resourc': 2933, 'wannab': 2934, 'cole': 2935, 'label': 2936, 'reev': 2937, 'poverti': 2938, 'punk': 2939, 'mild': 2940, 'stood': 2941, 'pit': 2942, 'shall': 2943, 'gate': 2944, 'pauli': 2945, 'carrey': 2946, 'dawson': 2947, 'mafia': 2948, 'stronger': 2949, 'kubrick': 2950, 'assault': 2951, 'terri': 2952, 'fond': 2953, 'tag': 2954, 'outcom': 2955, 'cox': 2956, 'easier': 2957, 'cardboard': 2958, 'ian': 2959, 'smooth': 2960, 'smash': 2961, 'burst': 2962, 'astair': 2963, 'bakshi': 2964, 'useless': 2965, 'updat': 2966, 'rex': 2967, 'increasingli': 2968, 'resolv': 2969, 'vulner': 2970, 'vari': 2971, 'samurai': 2972, 'exchang': 2973, 'qualifi': 2974, '2002': 2975, 'fist': 2976, 'melodramat': 2977, 'coincid': 2978, 'sketch': 2979, 'divers': 2980, 'be': 2981, 'conveni': 2982, 'blast': 2983, 'insert': 2984, 'scratch': 2985, 'reynold': 2986, 'luckili': 2987, 'brillianc': 2988, 'tame': 2989, 'suspend': 2990, 'templ': 2991, 'hamilton': 2992, 'gotta': 2993, 'strictli': 2994, 'ambiti': 2995, 'coach': 2996, 'matthew': 2997, 'jami': 2998, 'walker': 2999, 'meat': 3000, 'soprano': 3001, 'nuclear': 3002, 'pin': 3003, 'seventi': 3004, 'fisher': 3005, 'farm': 3006, 'brosnan': 3007, 'kudo': 3008, 'timeless': 3009, 'eccentr': 3010, 'instantli': 3011, 'closet': 3012, 'joey': 3013, 'clock': 3014, 'worthless': 3015, 'discoveri': 3016, 'ninja': 3017, 'recreat': 3018, 'revers': 3019, 'convolut': 3020, 'spooki': 3021, 'cave': 3022, 'monk': 3023, 'struck': 3024, 'empir': 3025, 'grasp': 3026, 'butcher': 3027, 'bleak': 3028, 'wipe': 3029, 'clown': 3030, 'pal': 3031, 'communist': 3032, 'cliff': 3033, 'fifteen': 3034, 'mitchel': 3035, 'norman': 3036, 'miracl': 3037, 'evok': 3038, 'declar': 3039, 'sloppi': 3040, 'selfish': 3041, 'gray': 3042, 'importantli': 3043, 'inconsist': 3044, 'sidekick': 3045, 'partli': 3046, 'seller': 3047, 'eighti': 3048, 'superbl': 3049, 'flawless': 3050, 'debat': 3051, 'enthusiast': 3052, 'psychiatrist': 3053, 'cheek': 3054, 'aforement': 3055, 'lifestyl': 3056, 'ho': 3057, 'piano': 3058, 'websit': 3059, '45': 3060, 'destin': 3061, 'australia': 3062, 'seed': 3063, 'farc': 3064, 'chew': 3065, 'stoog': 3066, 'wick': 3067, 'pressur': 3068, 'abc': 3069, 'regardless': 3070, 'kitchen': 3071, 'drivel': 3072, 'splatter': 3073, 'incompet': 3074, 'soviet': 3075, 'directori': 3076, 'wrestl': 3077, 'bash': 3078, 'akshay': 3079, 'anni': 3080, 'slice': 3081, 'dire': 3082, 'emili': 3083, 'dash': 3084, 'beaten': 3085, 'curios': 3086, 'dave': 3087, 'ken': 3088, 'cia': 3089, 'recov': 3090, 'prize': 3091, 'duo': 3092, 'cameron': 3093, 'pleasantli': 3094, 'distant': 3095, 'seduc': 3096, 'boil': 3097, 'increas': 3098, 'artifici': 3099, 'chapter': 3100, 'glow': 3101, 'suppli': 3102, 'judi': 3103, 'cagney': 3104, 'flower': 3105, 'helicopt': 3106, 'doo': 3107, 'jar': 3108, 'mann': 3109, 'blob': 3110, 'lou': 3111, 'splendid': 3112, 'web': 3113, 'drunken': 3114, 'ranger': 3115, 'craig': 3116, 'eleg': 3117, 'psychot': 3118, 'combat': 3119, 'favour': 3120, 'glenn': 3121, 'goldberg': 3122, 'hop': 3123, 'craven': 3124, 'francisco': 3125, 'turner': 3126, 'laurel': 3127, 'panic': 3128, 'perri': 3129, 'ellen': 3130, 'hatr': 3131, 'alexand': 3132, 'slightest': 3133, 'wizard': 3134, 'philosophi': 3135, 'min': 3136, 'greek': 3137, 'modesti': 3138, '20th': 3139, 'gentl': 3140, 'fx': 3141, 'ruth': 3142, 'flip': 3143, 'plausibl': 3144, 'rid': 3145, 'shortli': 3146, 'graduat': 3147, 'falk': 3148, 'gandhi': 3149, 'holi': 3150, 'preciou': 3151, 'lend': 3152, 'fund': 3153, 'futurist': 3154, 'harm': 3155, 'legal': 3156, 'knight': 3157, 'ocean': 3158, 'felix': 3159, 'dracula': 3160, 'we': 3161, 'jealou': 3162, 'manhattan': 3163, 'unpleas': 3164, 'tall': 3165, 'bless': 3166, 'mock': 3167, 'overdon': 3168, 'scientif': 3169, 'forbidden': 3170, 'digniti': 3171, 'explicit': 3172, 'tank': 3173, 'nod': 3174, 'thread': 3175, 'reviv': 3176, 'ami': 3177, 'childish': 3178, 'giallo': 3179, 'thick': 3180, 'torment': 3181, 'repeatedli': 3182, 'unwatch': 3183, '99': 3184, 'awe': 3185, 'awaken': 3186, 'eve': 3187, 'elderli': 3188, 'verhoeven': 3189, 'mel': 3190, '2004': 3191, 'nerv': 3192, 'pirat': 3193, 'broad': 3194, 'yesterday': 3195, 'margaret': 3196, 'fever': 3197, 'ambit': 3198, 'stiller': 3199, 'kay': 3200, 'royal': 3201, 'launch': 3202, 'roman': 3203, 'ah': 3204, 'automat': 3205, 'uniform': 3206, 'politician': 3207, 'rivet': 3208, 'eas': 3209, 'acclaim': 3210, 'bin': 3211, 'absenc': 3212, 'griffith': 3213, 'lean': 3214, 'publish': 3215, 'custom': 3216, 'romero': 3217, 'timothi': 3218, 'homicid': 3219, 'darker': 3220, 'tomato': 3221, 'wallac': 3222, 'transport': 3223, 'warren': 3224, 'foul': 3225, 'sunshin': 3226, 'antic': 3227, 'crook': 3228, 'purpl': 3229, 'gabriel': 3230, 'termin': 3231, 'stinker': 3232, 'bathroom': 3233, 'pulp': 3234, 'pierc': 3235, 'phrase': 3236, 'brazil': 3237, '2003': 3238, 'viciou': 3239, 'awak': 3240, 'choreographi': 3241, 'prom': 3242, 'kenneth': 3243, 'evolv': 3244, 'rambo': 3245, 'karen': 3246, 'horrid': 3247, 'pray': 3248, 'packag': 3249, 'marin': 3250, 'hollow': 3251, 'sixti': 3252, 'coloni': 3253, 'album': 3254, 'contrari': 3255, 'revolutionari': 3256, 'juvenil': 3257, 'q': 3258, 'eyr': 3259, 'saint': 3260, 'li': 3261, 'ought': 3262, 'donna': 3263, 'conserv': 3264, 'boast': 3265, 'stole': 3266, 'blade': 3267, 'beatti': 3268, 'overr': 3269, 'nerd': 3270, 'ireland': 3271, 'dose': 3272, 'candid': 3273, 'mummi': 3274, 'option': 3275, 'mildr': 3276, 'kapoor': 3277, 'ramon': 3278, 'twelv': 3279, 'defi': 3280, 'natali': 3281, 'protest': 3282, 'confirm': 3283, 'global': 3284, 'kirk': 3285, 'flame': 3286, 'altman': 3287, 'astonish': 3288, 'collabor': 3289, 'funer': 3290, 'detract': 3291, 'jazz': 3292, 'fulci': 3293, 'trio': 3294, 'mystic': 3295, 'tommi': 3296, 'yellow': 3297, 'bottl': 3298, 'spit': 3299, 'nicholson': 3300, 'delici': 3301, 'shade': 3302, 'racial': 3303, 'blake': 3304, 'bull': 3305, 'audio': 3306, 'destini': 3307, 'whip': 3308, 'enterpris': 3309, 'leap': 3310, 'staff': 3311, 'inherit': 3312, 'fonda': 3313, 'visibl': 3314, 'popcorn': 3315, 'reunit': 3316, 'vivid': 3317, 'pseudo': 3318, 'todd': 3319, 'enchant': 3320, 'neo': 3321, 'merci': 3322, 'bedroom': 3323, 'harder': 3324, 'altogeth': 3325, 'adolesc': 3326, 'threw': 3327, 'meaningless': 3328, 'swedish': 3329, 'decor': 3330, 'lemmon': 3331, 'tip': 3332, 'madonna': 3333, 'fanat': 3334, 'befriend': 3335, 'wire': 3336, 'lawrenc': 3337, 'roommat': 3338, 'suspici': 3339, 'bust': 3340, 'uneven': 3341, 'jew': 3342, 'await': 3343, 'edi': 3344, 'crocodil': 3345, 'exhibit': 3346, 'kennedi': 3347, 'moodi': 3348, 'leonard': 3349, 'respond': 3350, 'synopsi': 3351, 'reserv': 3352, 'atlanti': 3353, 'voight': 3354, 'ruthless': 3355, 'garner': 3356, 'bradi': 3357, 'bargain': 3358, '2007': 3359, 'abysm': 3360, 'palma': 3361, 'incident': 3362, 'audit': 3363, 'holli': 3364, 'centr': 3365, 'dimens': 3366, 'ventur': 3367, 'carl': 3368, 'clint': 3369, 'rural': 3370, 'clumsi': 3371, 'bold': 3372, 'chao': 3373, 'voyag': 3374, 'unsettl': 3375, 'cd': 3376, 'lit': 3377, 'nearbi': 3378, 'poetic': 3379, 'wealth': 3380, 'acknowledg': 3381, 'imperson': 3382, 'tiger': 3383, 'hart': 3384, 'trail': 3385, 'humili': 3386, 'echo': 3387, 'elimin': 3388, 'troop': 3389, 'ant': 3390, 'neglect': 3391, 'daddi': 3392, '2nd': 3393, 'cuba': 3394, 'timon': 3395, 'immigr': 3396, 'characterist': 3397, 'versu': 3398, 'cari': 3399, 'mall': 3400, 'prejudic': 3401, 'mistaken': 3402, 'pun': 3403, 'marshal': 3404, 'domest': 3405, 'saga': 3406, 'mickey': 3407, 'solo': 3408, 'celluloid': 3409, 'repuls': 3410, 'collaps': 3411, 'paus': 3412, 'infect': 3413, 'jeffrey': 3414, 'homer': 3415, 'pant': 3416, 'equip': 3417, 'apolog': 3418, 'harvey': 3419, 'tribe': 3420, 'promin': 3421, 'gear': 3422, 'inan': 3423, 'inappropri': 3424, 'coat': 3425, 'milk': 3426, 'sore': 3427, 'coffe': 3428, 'interrupt': 3429, 'ginger': 3430, 'cake': 3431, 'chest': 3432, 'undoubtedli': 3433, 'olivi': 3434, 'assembl': 3435, '1996': 3436, 'hbo': 3437, 'leon': 3438, 'primari': 3439, 'polanski': 3440, 'highest': 3441, 'humbl': 3442, 'institut': 3443, 'pot': 3444, 'instant': 3445, 'retain': 3446, 'florida': 3447, 'airplan': 3448, 'brooklyn': 3449, 'colleagu': 3450, 'vulgar': 3451, 'exot': 3452, 'aveng': 3453, 'maggi': 3454, 'devast': 3455, 'solut': 3456, 'colonel': 3457, 'trace': 3458, 'jenni': 3459, 'pen': 3460, 'furthermor': 3461, 'embrac': 3462, 'consum': 3463, 'cope': 3464, 'descend': 3465, '1999': 3466, 'wive': 3467, 'dutch': 3468, 'principl': 3469, 'strain': 3470, 'ya': 3471, 'dian': 3472, 'poke': 3473, 'rick': 3474, 'linda': 3475, 'bowl': 3476, 'seduct': 3477, 'sale': 3478, '3rd': 3479, 'godzilla': 3480, 'smaller': 3481, 'gender': 3482, 'outer': 3483, 'disabl': 3484, 'illog': 3485, 'dud': 3486, 'hal': 3487, 'predecessor': 3488, 'blatant': 3489, 'yard': 3490, 'beneath': 3491, 'mixtur': 3492, 'primarili': 3493, 'dive': 3494, 'lol': 3495, 'bubbl': 3496, 'cue': 3497, 'devoid': 3498, 'gloriou': 3499, 'inferior': 3500, 'rabbit': 3501, 'glamor': 3502, 'secondli': 3503, 'scope': 3504, 'vast': 3505, 'gundam': 3506, 'pearl': 3507, 'countrysid': 3508, 'shelf': 3509, 'trademark': 3510, 'alert': 3511, 'disjoint': 3512, 'talki': 3513, 'alfr': 3514, 'et': 3515, 'aggress': 3516, 'myer': 3517, 'hideou': 3518, 'casual': 3519, 'streep': 3520, 'simplist': 3521, 'museum': 3522, 'senseless': 3523, 'arab': 3524, 'invas': 3525, 'shirley': 3526, 'breed': 3527, 'domino': 3528, 'grinch': 3529, 'z': 3530, 'garbo': 3531, 'april': 3532, 'disgrac': 3533, 'obtain': 3534, 'oz': 3535, 'stellar': 3536, 'boom': 3537, 'applaud': 3538, 'robinson': 3539, 'unhappi': 3540, 'stack': 3541, 'mail': 3542, 'vanish': 3543, 'illeg': 3544, 'robberi': 3545, 'experiment': 3546, 'defens': 3547, 'hardcor': 3548, 'acid': 3549, 'mayor': 3550, 'khan': 3551, 'maci': 3552, 'hopeless': 3553, 'uwe': 3554, 'rendit': 3555, 'stir': 3556, 'sh': 3557, 'loyal': 3558, 'slide': 3559, 'psychic': 3560, 'berlin': 3561, 'span': 3562, 'hartley': 3563, 'tempt': 3564, 'spider': 3565, 'topless': 3566, 'declin': 3567, 'dicken': 3568, 'counter': 3569, 'dismiss': 3570, 'scroog': 3571, 'craze': 3572, 'diana': 3573, 'recruit': 3574, 'grandfath': 3575, 'emphasi': 3576, 'rifl': 3577, 'blew': 3578, 'tenant': 3579, 'fri': 3580, 'incomprehens': 3581, 'soccer': 3582, 'wont': 3583, 'amanda': 3584, 'lumet': 3585, 'sibl': 3586, 'shed': 3587, 'trashi': 3588, 'parad': 3589, 'ethnic': 3590, 'bitch': 3591, 'resurrect': 3592, 'faster': 3593, 'wet': 3594, 'riot': 3595, 'woo': 3596, 'ration': 3597, 'sympath': 3598, 'shaw': 3599, 'intim': 3600, 'goer': 3601, 'revolt': 3602, 'porno': 3603, 'niro': 3604, 'justin': 3605, 'andr': 3606, 'steam': 3607, 'wheel': 3608, 'farmer': 3609, 'immort': 3610, 'feminist': 3611, 'ensur': 3612, 'honesti': 3613, 'unreal': 3614, 'ballet': 3615, 'nephew': 3616, 'gap': 3617, 'eager': 3618, 'jonathan': 3619, 'weakest': 3620, 'commend': 3621, 'choru': 3622, 'hopper': 3623, 'region': 3624, 'wendi': 3625, 'slick': 3626, 'biographi': 3627, '00': 3628, 'enlighten': 3629, 'patriot': 3630, 'dealer': 3631, 'partial': 3632, 'rider': 3633, 'mario': 3634, 'lena': 3635, 'hesit': 3636, 'worm': 3637, 'properti': 3638, 'psychopath': 3639, 'safeti': 3640, 'skull': 3641, 'composit': 3642, 'victori': 3643, 'snap': 3644, 'repress': 3645, 'wore': 3646, 'kingdom': 3647, 'util': 3648, 'morri': 3649, 'confin': 3650, 'nostalg': 3651, 'similarli': 3652, 'charlott': 3653, 'owen': 3654, 'hung': 3655, 'mutant': 3656, 'leo': 3657, 'vice': 3658, 'blunt': 3659, 'sandra': 3660, 'sappi': 3661, 'franco': 3662, 'prequel': 3663, 'macarthur': 3664, 'bumbl': 3665, 'valuabl': 3666, 'kyle': 3667, 'bergman': 3668, 'bow': 3669, 'compens': 3670, 'despair': 3671, 'compass': 3672, 'pattern': 3673, 'thru': 3674, 'acquir': 3675, 'bonu': 3676, 'tail': 3677, 'miseri': 3678, '1972': 3679, 'emperor': 3680, 'latin': 3681, 'nervou': 3682, 'heartbreak': 3683, 'rambl': 3684, 'drain': 3685, 'deed': 3686, 'whoopi': 3687, 'dust': 3688, 'del': 3689, 'drum': 3690, 'speci': 3691, 'hyde': 3692, 'rocki': 3693, 'campbel': 3694, 'tad': 3695, 'recycl': 3696, 'rope': 3697, 'montana': 3698, 'farrel': 3699, 'repli': 3700, 'strand': 3701, 'exit': 3702, 'dalton': 3703, 'cg': 3704, 'snl': 3705, 'roth': 3706, 'pour': 3707, 'bleed': 3708, 'airport': 3709, 'gimmick': 3710, 'orson': 3711, 'percept': 3712, '35': 3713, 'rapist': 3714, 'chess': 3715, 'oppress': 3716, 'da': 3717, 'radic': 3718, 'tonight': 3719, 'gal': 3720, 'contempl': 3721, 'carradin': 3722, 'wacki': 3723, 'rotten': 3724, 'martian': 3725, 'mistress': 3726, 'downhil': 3727, 'romp': 3728, 'slug': 3729, 'olli': 3730, 'unpredict': 3731, 'edgar': 3732, 'belt': 3733, 'arguabl': 3734, 'pursuit': 3735, 'stilt': 3736, 'pervers': 3737, 'attorney': 3738, 'pervert': 3739, 'heal': 3740, 'taught': 3741, 'dazzl': 3742, 'tackl': 3743, 'shelley': 3744, 'champion': 3745, 'banal': 3746, 'slash': 3747, 'programm': 3748, '1983': 3749, 'preach': 3750, 'melodi': 3751, 'tooth': 3752, 'paltrow': 3753, 'arc': 3754, 'mislead': 3755, 'franki': 3756, 'employe': 3757, 'conneri': 3758, 'vocal': 3759, 'poem': 3760, 'plight': 3761, 'dixon': 3762, 'gambl': 3763, 'virginia': 3764, 'duval': 3765, 'uplift': 3766, 'cleverli': 3767, 'bela': 3768, 'orang': 3769, 'closest': 3770, 'raymond': 3771, 'rubi': 3772, 'graham': 3773, 'tiresom': 3774, 'maid': 3775, 'mesmer': 3776, 'passeng': 3777, 'chicken': 3778, 'sensat': 3779, 'vengeanc': 3780, 'marti': 3781, 'iran': 3782, 'paranoia': 3783, 'volum': 3784, 'abraham': 3785, 'clone': 3786, 'pokemon': 3787, 'monologu': 3788, 'bay': 3789, 'swallow': 3790, 'whine': 3791, 'inject': 3792, 'mute': 3793, 'crystal': 3794, 'climact': 3795, 'yawn': 3796, 'sirk': 3797, 'calm': 3798, 'gerard': 3799, 'amitabh': 3800, 'extens': 3801, 'numb': 3802, 'scottish': 3803, '1968': 3804, 'lundgren': 3805, 'profan': 3806, 'outing': 3807, 'secretli': 3808, 'convincingli': 3809, 'tube': 3810, 'suffic': 3811, 'habit': 3812, 'engross': 3813, 'quarter': 3814, 'giggl': 3815, 'septemb': 3816, 'taxi': 3817, 'ethan': 3818, 'meander': 3819, 'franci': 3820, 'bend': 3821, 'trend': 3822, 'lowest': 3823, 'linger': 3824, 'profess': 3825, 'expand': 3826, 'chicago': 3827, 'junior': 3828, 'dispos': 3829, 'fed': 3830, 'frankenstein': 3831, 'nichola': 3832, 'austen': 3833, 'earl': 3834, 'im': 3835, 'backward': 3836, 'surpass': 3837, 'spock': 3838, 'poetri': 3839, 'grotesqu': 3840, 'underst': 3841, 'plod': 3842, 'richardson': 3843, 'abort': 3844, 'simplic': 3845, 'cannon': 3846, 'literatur': 3847, 'tourist': 3848, 'myth': 3849, 'eugen': 3850, 'rubber': 3851, 'household': 3852, 'spoke': 3853, 'lure': 3854, 'hum': 3855, 'mundan': 3856, 'waitress': 3857, 'compliment': 3858, 'dysfunct': 3859, 'der': 3860, 'muddl': 3861, 'descent': 3862, 'stallon': 3863, 'catchi': 3864, 'instrument': 3865, 'sue': 3866, 'econom': 3867, 'greedi': 3868, 'rant': 3869, 'nostalgia': 3870, 'insur': 3871, 'dictat': 3872, 'alongsid': 3873, 'map': 3874, 'lang': 3875, 'sissi': 3876, 'duck': 3877, 'stale': 3878, 'eaten': 3879, 'mortal': 3880, 'recognit': 3881, 'equival': 3882, 'occupi': 3883, 'deaf': 3884, 'recognis': 3885, 'cent': 3886, 'firstli': 3887, 'dement': 3888, 'hello': 3889, 'june': 3890, 'bacal': 3891, 'crucial': 3892, 'coast': 3893, 'louis': 3894, 'irrelev': 3895, 'furi': 3896, 'phoni': 3897, 'phantom': 3898, 'molli': 3899, 'flee': 3900, 'mankind': 3901, 'omen': 3902, 'randi': 3903, 'damon': 3904, 'carel': 3905, 'dreari': 3906, 'wisdom': 3907, 'onlin': 3908, 'twilight': 3909, '1973': 3910, 'likewis': 3911, 'freez': 3912, 'reign': 3913, 'biko': 3914, 'bump': 3915, 'rude': 3916, 'newli': 3917, 'distinguish': 3918, 'labor': 3919, 'ashley': 3920, 'grayson': 3921, 'blackmail': 3922, 'rooney': 3923, 'heel': 3924, 'cyborg': 3925, 'damm': 3926, 'buffalo': 3927, 'drake': 3928, 'antwon': 3929, 'lengthi': 3930, 'bike': 3931, 'loyalti': 3932, 'daisi': 3933, 'basketbal': 3934, 'unorigin': 3935, 'interior': 3936, 'incorpor': 3937, 'keith': 3938, 'analysi': 3939, 'provoc': 3940, 'baddi': 3941, 'sailor': 3942, 'pink': 3943, 'inher': 3944, 'tunnel': 3945, 'proce': 3946, 'barrymor': 3947, 'vein': 3948, 'chronicl': 3949, 'startl': 3950, 'worn': 3951, 'nineti': 3952, 'emphas': 3953, 'boxer': 3954, 'exposur': 3955, 'prey': 3956, 'butler': 3957, 'attribut': 3958, 'approv': 3959, 'ridden': 3960, 'condemn': 3961, 'meyer': 3962, 'drift': 3963, 'degrad': 3964, 'unrel': 3965, 'er': 3966, 'underli': 3967, 'othello': 3968, 'millionair': 3969, 'walsh': 3970, 'mighti': 3971, 'undeni': 3972, 'hypnot': 3973, 'meg': 3974, 'stalker': 3975, 'fleet': 3976, 'substitut': 3977, 'bunni': 3978, 'indiffer': 3979, 'improvis': 3980, 'barrel': 3981, 'predat': 3982, 'simmon': 3983, 'belushi': 3984, 'elm': 3985, 'carla': 3986, 'nicol': 3987, 'robbin': 3988, 'julian': 3989, 'mormon': 3990, 'alison': 3991, 'novak': 3992, 'exquisit': 3993, 'hay': 3994, 'disord': 3995, 'vital': 3996, 'warmth': 3997, 'roof': 3998, 'alarm': 3999, 'rukh': 4000, 'shove': 4001, 'priceless': 4002, 'enthusiasm': 4003, 'mtv': 4004, 'marion': 4005, 'lampoon': 4006, 'agenda': 4007, 'firm': 4008, 'greed': 4009, 'unawar': 4010, 'dolph': 4011, 'reid': 4012, 'edgi': 4013, 'errol': 4014, 'nyc': 4015, 'watson': 4016, 'palac': 4017, '3d': 4018, 'orlean': 4019, 'minimum': 4020, 'israel': 4021, 'testament': 4022, 'pamela': 4023, 'peril': 4024, 'zizek': 4025, 'distort': 4026, 'session': 4027, 'beatl': 4028, 'preserv': 4029, 'valentin': 4030, '13th': 4031, 'drip': 4032, 'petti': 4033, 'crown': 4034, 'thompson': 4035, 'championship': 4036, 'what': 4037, 'simultan': 4038, 'unleash': 4039, 'campaign': 4040, 'angela': 4041, 'glanc': 4042, 'cassidi': 4043, 'showdown': 4044, 'coup': 4045, 'randomli': 4046, 'spain': 4047, 'nun': 4048, '1933': 4049, 'profit': 4050, 'iraq': 4051, 'ponder': 4052, 'gestur': 4053, 'peck': 4054, 'eastern': 4055, 'sergeant': 4056, 'cooki': 4057, 'bro': 4058, 'scotland': 4059, 'realm': 4060, 'wig': 4061, 'crow': 4062, 'mon': 4063, 'restrain': 4064, 'represent': 4065, '1984': 4066, 'regist': 4067, 'buster': 4068, 'cream': 4069, 'calib': 4070, 'unimagin': 4071, 'jan': 4072, 'exposit': 4073, 'crawl': 4074, 'reson': 4075, 'contradict': 4076, 'perpetu': 4077, 'stroke': 4078, 'han': 4079, 'valley': 4080, 'stake': 4081, 'shootout': 4082, 'rout': 4083, 'empathi': 4084, 'climat': 4085, 'travesti': 4086, 'gentleman': 4087, 'sabrina': 4088, 'brenda': 4089, 'quinn': 4090, 'kurosawa': 4091, 'din': 4092, 'fido': 4093, 'miyazaki': 4094, 'painter': 4095, '1987': 4096, 'distress': 4097, 'cloud': 4098, 'shoddi': 4099, 'fuller': 4100, 'perceiv': 4101, 'delic': 4102, 'dana': 4103, 'abomin': 4104, 'businessman': 4105, 'warrant': 4106, 'meryl': 4107, 'demis': 4108, 'ross': 4109, 'shaki': 4110, 'unsatisfi': 4111, '1997': 4112, 'tacki': 4113, 'baldwin': 4114, 'compromis': 4115, 'pretens': 4116, 'monoton': 4117, 'soderbergh': 4118, 'sammi': 4119, 'spacey': 4120, 'derang': 4121, 'darren': 4122, 'femm': 4123, 'greg': 4124, 'passabl': 4125, 'pole': 4126, 'stargat': 4127, 'mclaglen': 4128, 'censor': 4129, 'wax': 4130, 'josh': 4131, 'crawford': 4132, 'sucker': 4133, 'absent': 4134, 'geek': 4135, 'traumat': 4136, 'ustinov': 4137, 'unseen': 4138, 'fog': 4139, 'unravel': 4140, 'uncov': 4141, 'accuraci': 4142, 'fenc': 4143, '1993': 4144, 'deceas': 4145, 'wholli': 4146, 'tech': 4147, 'exclus': 4148, 'jewel': 4149, 'primit': 4150, 'tarantino': 4151, 'deniro': 4152, 'norm': 4153, 'correctli': 4154, 'seal': 4155, 'expedit': 4156, 'verbal': 4157, 'judgment': 4158, 'austin': 4159, 'polici': 4160, 'kumar': 4161, 'anchor': 4162, 'clash': 4163, 'furiou': 4164, 'dee': 4165, 'sid': 4166, 'nathan': 4167, 'reluct': 4168, 'valid': 4169, 'antonioni': 4170, 'click': 4171, 'ritual': 4172, 'wang': 4173, 'behold': 4174, 'patienc': 4175, 'sustain': 4176, 'roller': 4177, 'joel': 4178, 'nicola': 4179, 'logan': 4180, 'shanghai': 4181, 'slam': 4182, 'dreck': 4183, 'fart': 4184, 'sheet': 4185, 'hallucin': 4186, '1971': 4187, 'temper': 4188, 'fabric': 4189, 'malon': 4190, 'enforc': 4191, 'debt': 4192, 'sunni': 4193, 'clerk': 4194, 'mode': 4195, '1995': 4196, 'trait': 4197, 'bake': 4198, 'vanc': 4199, 'pocket': 4200, 'darn': 4201, 'seldom': 4202, 'murray': 4203, 'alec': 4204, 'unfair': 4205, 'wretch': 4206, '3000': 4207, 'crippl': 4208, 'sand': 4209, 'conduct': 4210, 'tax': 4211, 'fought': 4212, '2008': 4213, 'stark': 4214, 'bridget': 4215, 'penni': 4216, 'robber': 4217, 'runner': 4218, 'soup': 4219, 'pete': 4220, 'sweep': 4221, 'legaci': 4222, 'fundament': 4223, 'rita': 4224, 'guitar': 4225, 'isabel': 4226, 'bias': 4227, 'shell': 4228, 'squad': 4229, 'conscious': 4230, 'scriptwrit': 4231, 'grief': 4232, 'outlin': 4233, 'stuart': 4234, 'preston': 4235, 'divid': 4236, 'phil': 4237, 'canyon': 4238, 'helpless': 4239, 'schedul': 4240, 'tactic': 4241, 'preposter': 4242, 'technicolor': 4243, 'exhaust': 4244, 'critiqu': 4245, 'despis': 4246, 'clau': 4247, 'passag': 4248, 'jacket': 4249, 'consciou': 4250, 'alley': 4251, 'bloom': 4252, 'culmin': 4253, 'rear': 4254, 'drove': 4255, 'delv': 4256, 'kansa': 4257, 'boyl': 4258, 'marc': 4259, 'lacklust': 4260, 'implic': 4261, 'palanc': 4262, 'liberti': 4263, 'gregori': 4264, 'flair': 4265, 'sugar': 4266, 'restrict': 4267, 'sniper': 4268, 'propos': 4269, 'cigarett': 4270, 'rehash': 4271, 'russia': 4272, 'unexpectedli': 4273, 'jodi': 4274, 'sentinel': 4275, 'inabl': 4276, 'agenc': 4277, 'invad': 4278, 'connor': 4279, 'alicia': 4280, 'downey': 4281, 'vomit': 4282, 'newman': 4283, 'cap': 4284, 'pale': 4285, 'arrow': 4286, 'behaviour': 4287, 'rod': 4288, 'aesthet': 4289, 'mccoy': 4290, 'asylum': 4291, 'wrench': 4292, 'improb': 4293, 'ladder': 4294, 'lush': 4295, 'chainsaw': 4296, 'bacon': 4297, 'foxx': 4298, 'yeti': 4299, 'rehears': 4300, 'tripe': 4301, 'kolchak': 4302, 'sharon': 4303, '1936': 4304, 'delet': 4305, 'awhil': 4306, 'tendenc': 4307, 'rampag': 4308, '22': 4309, 'horn': 4310, 'feat': 4311, 'vet': 4312, 'karl': 4313, 'tasteless': 4314, 'fright': 4315, 'aristocrat': 4316, 'financ': 4317, 'suffici': 4318, 'stream': 4319, 'coaster': 4320, 'wagner': 4321, 'rumor': 4322, '1920': 4323, 'weav': 4324, 'paradis': 4325, 'shortcom': 4326, '19th': 4327, 'hackney': 4328, 'prank': 4329, 'conscienc': 4330, 'spice': 4331, 'underneath': 4332, 'suspicion': 4333, 'hungri': 4334, 'globe': 4335, 'newcom': 4336, '1988': 4337, 'elit': 4338, 'sung': 4339, 'loneli': 4340, 'hulk': 4341, 'filler': 4342, 'lurk': 4343, 'visitor': 4344, 'wildli': 4345, 'thunderbird': 4346, 'el': 4347, 'minu': 4348, 'paramount': 4349, '1978': 4350, 'tomorrow': 4351, 'basing': 4352, 'scoop': 4353, 'amazon': 4354, 'rhythm': 4355, 'brit': 4356, 'quietli': 4357, 'ingeni': 4358, 'teas': 4359, 'chamberlain': 4360, 'penn': 4361, 'posey': 4362, 'impos': 4363, 'atroc': 4364, 'recogniz': 4365, 'minist': 4366, 'rub': 4367, 'bread': 4368, '1939': 4369, 'counterpart': 4370, 'immers': 4371, 'ram': 4372, 'smell': 4373, '1989': 4374, 'lectur': 4375, 'tierney': 4376, 'secondari': 4377, 'cancer': 4378, 'heist': 4379, 'straightforward': 4380, 'abrupt': 4381, 'en': 4382, 'curli': 4383, 'inmat': 4384, 'wwe': 4385, 'paxton': 4386, 'couch': 4387, 'beverli': 4388, '75': 4389, 'choppi': 4390, 'chavez': 4391, 'naughti': 4392, 'hopkin': 4393, 'iv': 4394, 'leigh': 4395, 'worship': 4396, 'dirt': 4397, 'entranc': 4398, 'grudg': 4399, 'springer': 4400, 'literari': 4401, 'standout': 4402, 'skeptic': 4403, 'missil': 4404, 'duel': 4405, 'heartfelt': 4406, 'lindsay': 4407, 'ace': 4408, 'clan': 4409, '1986': 4410, 'injuri': 4411, 'enthral': 4412, 'entitl': 4413, 'transcend': 4414, 'attenborough': 4415, 'sassi': 4416, 'nolan': 4417, 'yearn': 4418, 'laurenc': 4419, 'variat': 4420, 'misguid': 4421, 'net': 4422, 'convert': 4423, 'sublim': 4424, 'bernard': 4425, 'policeman': 4426, 'cattl': 4427, 'nemesi': 4428, 'morbid': 4429, 'moreov': 4430, 'ratso': 4431, 'quaid': 4432, 'watcher': 4433, 'geni': 4434, 'esther': 4435, 'diari': 4436, 'steadi': 4437, 'youngest': 4438, 'carlito': 4439, 'cruelti': 4440, 'uncut': 4441, 'setup': 4442, 'facil': 4443, 'mytholog': 4444, '1979': 4445, 'grin': 4446, 'brood': 4447, 'buzz': 4448, 'spiral': 4449, 'kitti': 4450, 'characteris': 4451, 'kidman': 4452, 'enabl': 4453, 'bean': 4454, 'reliabl': 4455, 'egg': 4456, 'obstacl': 4457, 'hopelessli': 4458, 'tyler': 4459, 'moder': 4460, 'out': 4461, 'unexplain': 4462, 'bye': 4463, 'rosemari': 4464, 'vader': 4465, 'artsi': 4466, 'graini': 4467, 'hk': 4468, 'puppi': 4469, 'poe': 4470, 'dont': 4471, 'hammi': 4472, 'sweat': 4473, 'heap': 4474, 'bounc': 4475, 'despic': 4476, 'exterior': 4477, 'effici': 4478, 'niec': 4479, 'fuel': 4480, 'weather': 4481, '1969': 4482, 'athlet': 4483, 'oblig': 4484, 'decept': 4485, 'christin': 4486, 'hain': 4487, 'patricia': 4488, 'acquaint': 4489, 'spontan': 4490, 'brendan': 4491, 'disastr': 4492, 'underworld': 4493, 'baffl': 4494, 'bronson': 4495, 'narrow': 4496, 'clueless': 4497, 'preming': 4498, 'kline': 4499, 'bewar': 4500, 'martha': 4501, 'gina': 4502, 'gillian': 4503, 'preachi': 4504, 'astound': 4505, 'sooner': 4506, 'renaiss': 4507, 'loath': 4508, 'outlaw': 4509, '19': 4510, 'housewif': 4511, 'trigger': 4512, 'analyz': 4513, 'suprem': 4514, 'angst': 4515, 'viewpoint': 4516, 'lester': 4517, 'tick': 4518, 'circu': 4519, 'virtu': 4520, 'goof': 4521, 'insipid': 4522, 'dandi': 4523, 'loi': 4524, 'candl': 4525, 'injur': 4526, 'dilemma': 4527, 'taboo': 4528, 'shatter': 4529, 'headach': 4530, '73': 4531, 'enlist': 4532, 'hepburn': 4533, 'mayhem': 4534, 'mermaid': 4535, 'harmless': 4536, 'scar': 4537, 'rome': 4538, 'biker': 4539, 'fontain': 4540, 'sleepwalk': 4541, 'uh': 4542, 'tripl': 4543, 'scorses': 4544, 'ebert': 4545, 'bent': 4546, 'stimul': 4547, 'hooker': 4548, 'steer': 4549, 'zoom': 4550, 'intric': 4551, 'dish': 4552, 'foolish': 4553, 'spade': 4554, 'salt': 4555, 'overlong': 4556, 'camcord': 4557, 'claustrophob': 4558, 'glorifi': 4559, 'macho': 4560, 'boston': 4561, 'amor': 4562, 'immatur': 4563, 'ariel': 4564, 'slimi': 4565, 'redund': 4566, 'hostag': 4567, 'filth': 4568, 'phenomenon': 4569, 'hokey': 4570, 'stair': 4571, 'idol': 4572, 'whore': 4573, 'surgeri': 4574, 'guin': 4575, 'contempt': 4576, 'oldest': 4577, 'cassavet': 4578, 'gere': 4579, 'fluff': 4580, 'sox': 4581, 'dismal': 4582, 'corbett': 4583, 'radiat': 4584, '1976': 4585, 'gasp': 4586, 'cohen': 4587, 'zane': 4588, 'mutual': 4589, '1981': 4590, 'keen': 4591, 'cow': 4592, 'spree': 4593, 'cush': 4594, 'rhyme': 4595, 'flag': 4596, 'trivia': 4597, 'preced': 4598, 'fascist': 4599, 'nolt': 4600, 'down': 4601, 'flashi': 4602, 'assert': 4603, 'joker': 4604, 'spinal': 4605, 'perman': 4606, 'alvin': 4607, 'beard': 4608, 'harold': 4609, 'faint': 4610, 'strongest': 4611, 'conquer': 4612, 'widescreen': 4613, 'schlock': 4614, 'obligatori': 4615, 'gabl': 4616, 'muscl': 4617, 'messi': 4618, 'shred': 4619, 'corman': 4620, 'margin': 4621, 'frantic': 4622, 'shield': 4623, 'remad': 4624, 'astronaut': 4625, 'proport': 4626, 'flirt': 4627, 'dwarf': 4628, 'naschi': 4629, 'antagonist': 4630, 'transplant': 4631, 'mount': 4632, 'scandal': 4633, 'triangl': 4634, 'claud': 4635, 'info': 4636, 'neurot': 4637, 'vaniti': 4638, 'bitten': 4639, 'hara': 4640, '28': 4641, 'repris': 4642, '1945': 4643, 'www': 4644, 'aborigin': 4645, 'fishburn': 4646, 'flock': 4647, 'persuad': 4648, 'strive': 4649, 'barn': 4650, 'brush': 4651, 'mol': 4652, 'archiv': 4653, 'ritchi': 4654, 'inflict': 4655, 'departur': 4656, 'carey': 4657, 'discern': 4658, 'interestingli': 4659, 'instruct': 4660, 'divin': 4661, 'off': 4662, 'sensual': 4663, 'wield': 4664, 'raj': 4665, 'deer': 4666, 'someday': 4667, '95': 4668, 'danish': 4669, 'mobil': 4670, 'resum': 4671, 'bachelor': 4672, 'boob': 4673, 'neill': 4674, 'biblic': 4675, 'dame': 4676, 'clad': 4677, 'recit': 4678, 'bate': 4679, 'vibrant': 4680, 'melissa': 4681, 'pacif': 4682, 'miracul': 4683, 'jade': 4684, 'earnest': 4685, 'mobster': 4686, 'submit': 4687, 'heartwarm': 4688, 'hapless': 4689, 'helm': 4690, 'colin': 4691, 'rot': 4692, 'banter': 4693, 'kathryn': 4694, 'prophet': 4695, 'dim': 4696, 'pixar': 4697, 'harrison': 4698, 'artwork': 4699, 'ish': 4700, 'cb': 4701, 'europa': 4702, 'carlo': 4703, 'proclaim': 4704, 'hug': 4705, 'traffic': 4706, 'cycl': 4707, 'senior': 4708, 'hilar': 4709, 'frontier': 4710, 'fragil': 4711, 'luka': 4712, 'dylan': 4713, 'undermin': 4714, 'axe': 4715, 'wendigo': 4716, 'casino': 4717, 'loretta': 4718, 'cliffhang': 4719, 'cher': 4720, 'pickford': 4721, 'parson': 4722, 'timberlak': 4723, 'anton': 4724, 'bondag': 4725, 'toronto': 4726, 'foil': 4727, 'electron': 4728, 'bikini': 4729, 'seedi': 4730, 'wardrob': 4731, 'cerebr': 4732, 'northern': 4733, 'articl': 4734, 'uma': 4735, 'shepherd': 4736, 'static': 4737, 'feast': 4738, 'http': 4739, 'flavor': 4740, 'nope': 4741, 'venom': 4742, 'vanessa': 4743, 'orphan': 4744, 'token': 4745, 'choke': 4746, 'akin': 4747, 'estrang': 4748, 'lui': 4749, 'illus': 4750, 'eli': 4751, 'jo': 4752, 'razor': 4753, 'pc': 4754, 'vile': 4755, 'trier': 4756, 'mason': 4757, 'misfortun': 4758, 'holocaust': 4759, 'alexandr': 4760, 'milo': 4761, 'blatantli': 4762, 'jordan': 4763, 'lucil': 4764, 'legitim': 4765, 'isra': 4766, 'antholog': 4767, 'marlon': 4768, 'sicken': 4769, 'redneck': 4770, 'winchest': 4771, 'rooki': 4772, 'aris': 4773, 'breakfast': 4774, 'mathieu': 4775, 'dudley': 4776, 'huston': 4777, 'linear': 4778, 'peer': 4779, 'smack': 4780, 'comprehend': 4781, 'abund': 4782, 'glare': 4783, 'retriev': 4784, 'charlton': 4785, 'outdat': 4786, 'oppon': 4787, 'fifth': 4788, 'gilbert': 4789, 'nightclub': 4790, 'shorter': 4791, 'turd': 4792, 'styliz': 4793, 'swept': 4794, 'clinic': 4795, 'frog': 4796, 'wrestler': 4797, 'feminin': 4798, 'ceremoni': 4799, 'disregard': 4800, 'knightley': 4801, 'leather': 4802, 'boyer': 4803, 'deem': 4804, 'howl': 4805, 'ideolog': 4806, 'affleck': 4807, 'psych': 4808, 'tack': 4809, 'magician': 4810, 'audrey': 4811, 'highway': 4812, 'gunga': 4813, 'cartoonish': 4814, 'whack': 4815, 'boo': 4816, 'braveheart': 4817, 'uniformli': 4818, 'lifeless': 4819, 'client': 4820, 'snatch': 4821, 'moe': 4822, 'cemeteri': 4823, 'senat': 4824, '4th': 4825, 'spawn': 4826, 'monument': 4827, 'plate': 4828, 'spine': 4829, 'energet': 4830, 'corn': 4831, 'mitch': 4832, 'tara': 4833, 'lighter': 4834, 'bogu': 4835, '1994': 4836, 'btw': 4837, 'greet': 4838, 'deliver': 4839, 'collector': 4840, 'chip': 4841, 'cuban': 4842, 'bastard': 4843, 'durat': 4844, '1991': 4845, 'phenomen': 4846, 'einstein': 4847, 'breakdown': 4848, 'lavish': 4849, 'potter': 4850, 'sleaz': 4851, 'newer': 4852, 'salman': 4853, 'toe': 4854, 'summar': 4855, 'goldsworthi': 4856, 'conrad': 4857, 'evolut': 4858, 'compris': 4859, 'neatli': 4860, 'ie': 4861, 'gilliam': 4862, 'eleven': 4863, 'bulk': 4864, 'belli': 4865, 'firmli': 4866, 'judd': 4867, 'luxuri': 4868, '1977': 4869, 'bori': 4870, 'healthi': 4871, '1974': 4872, 'replay': 4873, 'sorrow': 4874, 'jare': 4875, 'creek': 4876, 'undead': 4877, 'constitut': 4878, 'inaccuraci': 4879, 'wtf': 4880, 'signal': 4881, 'evelyn': 4882, 'randolph': 4883, 'cecil': 4884, 'jule': 4885, 'undertak': 4886, 'kent': 4887, 'occup': 4888, 'fluid': 4889, 'embark': 4890, 'trauma': 4891, 'jam': 4892, 'alleg': 4893, 'outright': 4894, 'clara': 4895, 'appl': 4896, 'historian': 4897, 'ol': 4898, 'liu': 4899, 'spectacl': 4900, 'mcqueen': 4901, 'jedi': 4902, 'pronounc': 4903, 'kazan': 4904, 'capot': 4905, 'armstrong': 4906, 'nina': 4907, 'lex': 4908, 'spray': 4909, 'id': 4910, 'walt': 4911, '1985': 4912, 'goldblum': 4913, 'vain': 4914, 'miami': 4915, 'decapit': 4916, 'palm': 4917, 'poker': 4918, 'ash': 4919, 'forgiven': 4920, 'unsuspect': 4921, 'porter': 4922, 'subtli': 4923, 'galaxi': 4924, 'kiddi': 4925, 'sidewalk': 4926, 'meal': 4927, 'pioneer': 4928, 'bsg': 4929, 'fruit': 4930, 'truman': 4931, 'inaccur': 4932, 'groan': 4933, 'lauren': 4934, 'relentless': 4935, 'pepper': 4936, 'lanc': 4937, 'knee': 4938, 'miniseri': 4939, 'conan': 4940, 'mum': 4941, 'genet': 4942, 'bait': 4943, 'carmen': 4944, 'comprehens': 4945, 'unattract': 4946, 'inclus': 4947, 'curtain': 4948, 'aussi': 4949, 'cape': 4950, 'antonio': 4951, 'sacrif': 4952, 'roar': 4953, 'comb': 4954, 'congratul': 4955, 'tokyo': 4956, 'abound': 4957, 'vignett': 4958, 'basket': 4959, 'paula': 4960, 'blur': 4961, 'rosario': 4962, 'propheci': 4963, 'substanti': 4964, 'profil': 4965, 'modest': 4966, 'asset': 4967, 'cypher': 4968, 'bravo': 4969, 'rapidli': 4970, 'reincarn': 4971, 'ghetto': 4972, 'sparkl': 4973, 'incorrect': 4974, 'sophi': 4975, 'macabr': 4976, 'optimist': 4977, 'casper': 4978, 'weari': 4979, 'orchestr': 4980, 'scariest': 4981, 'motorcycl': 4982, 'monti': 4983, 'vastli': 4984, 'hostil': 4985, 'assort': 4986, 'drone': 4987, 'omin': 4988, 'evan': 4989, '21st': 4990, 'playboy': 4991, 'weaker': 4992, 'hackman': 4993, 'bach': 4994, 'dubiou': 4995, 'detach': 4996, 'ingrid': 4997, 'jill': 4998, 'scarfac': 4999}\n"
     ]
    }
   ],
   "source": [
    "print(word_dict)"
   ]
  },
  {
   "cell_type": "markdown",
   "metadata": {},
   "source": [
    "**Question:** What are the five most frequently appearing (tokenized) words in the training set? Does it makes sense that these words appear frequently in the training set?"
   ]
  },
  {
   "cell_type": "markdown",
   "metadata": {},
   "source": [
    "**Answer:** Movi, film, one, like, time: It does make sense as they are common in the vocabulary of movies, like being a very common qualifier, and one is a very common word in english that is not considered a superfluous word. Time is probably related to reviews often speaking about \"being a worth the time\", or being \"a waste of time\", \"taking time to watch\" etc etc"
   ]
  },
  {
   "cell_type": "code",
   "execution_count": 15,
   "metadata": {},
   "outputs": [
    {
     "name": "stdout",
     "output_type": "stream",
     "text": [
      "[('movi', 51695), ('film', 48190), ('one', 27741), ('like', 22799), ('time', 16191)]\n"
     ]
    }
   ],
   "source": [
    "# TODO: Use this space to determine the five most frequently appearing words in the training set.\n",
    "cnt = Counter(np.concatenate(train_X,axis=0))\n",
    "print(cnt.most_common(5))"
   ]
  },
  {
   "cell_type": "markdown",
   "metadata": {},
   "source": [
    "### Save `word_dict`\n",
    "\n",
    "Later on when we construct an endpoint which processes a submitted review we will need to make use of the `word_dict` which we have created. As such, we will save it to a file now for future use."
   ]
  },
  {
   "cell_type": "code",
   "execution_count": 16,
   "metadata": {},
   "outputs": [],
   "source": [
    "data_dir = '../data/pytorch' # The folder we will use for storing data\n",
    "if not os.path.exists(data_dir): # Make sure that the folder exists\n",
    "    os.makedirs(data_dir)"
   ]
  },
  {
   "cell_type": "code",
   "execution_count": 17,
   "metadata": {},
   "outputs": [],
   "source": [
    "with open(os.path.join(data_dir, 'word_dict.pkl'), \"wb\") as f:\n",
    "    pickle.dump(word_dict, f)"
   ]
  },
  {
   "cell_type": "markdown",
   "metadata": {},
   "source": [
    "### Transform the reviews\n",
    "\n",
    "Now that we have our word dictionary which allows us to transform the words appearing in the reviews into integers, it is time to make use of it and convert our reviews to their integer sequence representation, making sure to pad or truncate to a fixed length, which in our case is `500`."
   ]
  },
  {
   "cell_type": "code",
   "execution_count": 18,
   "metadata": {},
   "outputs": [],
   "source": [
    "def convert_and_pad(word_dict, sentence, pad=500):\n",
    "    NOWORD = 0 # We will use 0 to represent the 'no word' category\n",
    "    INFREQ = 1 # and we use 1 to represent the infrequent words, i.e., words not appearing in word_dict\n",
    "    \n",
    "    working_sentence = [NOWORD] * pad\n",
    "    \n",
    "    for word_index, word in enumerate(sentence[:pad]):\n",
    "        if word in word_dict:\n",
    "            working_sentence[word_index] = word_dict[word]\n",
    "        else:\n",
    "            working_sentence[word_index] = INFREQ\n",
    "            \n",
    "    return working_sentence, min(len(sentence), pad)\n",
    "\n",
    "def convert_and_pad_data(word_dict, data, pad=500):\n",
    "    result = []\n",
    "    lengths = []\n",
    "    \n",
    "    for sentence in data:\n",
    "        converted, leng = convert_and_pad(word_dict, sentence, pad)\n",
    "        result.append(converted)\n",
    "        lengths.append(leng)\n",
    "        \n",
    "    return np.array(result), np.array(lengths)"
   ]
  },
  {
   "cell_type": "code",
   "execution_count": 19,
   "metadata": {},
   "outputs": [],
   "source": [
    "train_X, train_X_len = convert_and_pad_data(word_dict, train_X)\n",
    "test_X, test_X_len = convert_and_pad_data(word_dict, test_X)"
   ]
  },
  {
   "cell_type": "markdown",
   "metadata": {},
   "source": [
    "As a quick check to make sure that things are working as intended, check to see what one of the reviews in the training set looks like after having been processeed. Does this look reasonable? What is the length of a review in the training set?"
   ]
  },
  {
   "cell_type": "code",
   "execution_count": 20,
   "metadata": {},
   "outputs": [
    {
     "name": "stdout",
     "output_type": "stream",
     "text": [
      "[  68  342   34 3466  106    7  216  555   43  750  134  310  684 3030\n",
      "  175  110 2983  170    1 1622 1355   51  382 1556 1118  380  680 1401\n",
      " 1630 1378  218  126 1141    1  977 3936   19  617  583    1 3417   19\n",
      "    1   17  238 4147 1002  524    1   19    5    1  924 4728 2899    1\n",
      "    8 2200 1849    1    8 1638  196   19    5 1782    1    1    1 1944\n",
      " 1814  278  378  180  458    1   74 2854   15 1758    1 2783  245  745\n",
      "  256 3204  363 2854   15    5  133  304  174  752  851  847  102  342\n",
      "   37 1002 2854    1 2496  604 1002    1  166  128    1    1    1    1\n",
      "  492    1  649  897   76 1778    4   35    1  128    1  581 1066 4315\n",
      " 1713  419  342   36   65    4  299  469  344  293   45 1138  853  828\n",
      " 3012   66    1    1    4 2144  497 4321 1061   33 3423 1356 1885  452\n",
      "  231 3588    1  122  200 1535   42    1  115    0    0    0    0    0\n",
      "    0    0    0    0    0    0    0    0    0    0    0    0    0    0\n",
      "    0    0    0    0    0    0    0    0    0    0    0    0    0    0\n",
      "    0    0    0    0    0    0    0    0    0    0    0    0    0    0\n",
      "    0    0    0    0    0    0    0    0    0    0    0    0    0    0\n",
      "    0    0    0    0    0    0    0    0    0    0    0    0    0    0\n",
      "    0    0    0    0    0    0    0    0    0    0    0    0    0    0\n",
      "    0    0    0    0    0    0    0    0    0    0    0    0    0    0\n",
      "    0    0    0    0    0    0    0    0    0    0    0    0    0    0\n",
      "    0    0    0    0    0    0    0    0    0    0    0    0    0    0\n",
      "    0    0    0    0    0    0    0    0    0    0    0    0    0    0\n",
      "    0    0    0    0    0    0    0    0    0    0    0    0    0    0\n",
      "    0    0    0    0    0    0    0    0    0    0    0    0    0    0\n",
      "    0    0    0    0    0    0    0    0    0    0    0    0    0    0\n",
      "    0    0    0    0    0    0    0    0    0    0    0    0    0    0\n",
      "    0    0    0    0    0    0    0    0    0    0    0    0    0    0\n",
      "    0    0    0    0    0    0    0    0    0    0    0    0    0    0\n",
      "    0    0    0    0    0    0    0    0    0    0    0    0    0    0\n",
      "    0    0    0    0    0    0    0    0    0    0    0    0    0    0\n",
      "    0    0    0    0    0    0    0    0    0    0    0    0    0    0\n",
      "    0    0    0    0    0    0    0    0    0    0    0    0    0    0\n",
      "    0    0    0    0    0    0    0    0    0    0    0    0    0    0\n",
      "    0    0    0    0    0    0    0    0    0    0    0    0    0    0\n",
      "    0    0    0    0    0    0    0    0    0    0    0    0    0    0\n",
      "    0    0    0    0    0    0    0    0    0    0]\n"
     ]
    }
   ],
   "source": [
    "# Use this cell to examine one of the processed reviews to make sure everything is working as intended.\n",
    "print(train_X[80]) #seems reasonable"
   ]
  },
  {
   "cell_type": "markdown",
   "metadata": {},
   "source": [
    "**Question:** In the cells above we use the `preprocess_data` and `convert_and_pad_data` methods to process both the training and testing set. Why or why not might this be a problem?"
   ]
  },
  {
   "cell_type": "markdown",
   "metadata": {},
   "source": [
    "**Answer:** This could be a problem because if reviews are not preprocessed in the same way after deployment the model might fail. This is why a pure word embedding would have been better than this tokenization. Also, punctuation might carry semantic meaning that we are losing with this approach(e.g.: \"...this movie is good?? No!\"  !=  \"This movie is good, no?\", but under this preprocessing this would be the same entry) "
   ]
  },
  {
   "cell_type": "markdown",
   "metadata": {},
   "source": [
    "## Step 3: Upload the data to S3\n",
    "\n",
    "As in the XGBoost notebook, we will need to upload the training dataset to S3 in order for our training code to access it. For now we will save it locally and we will upload to S3 later on.\n",
    "\n",
    "### Save the processed training dataset locally\n",
    "\n",
    "It is important to note the format of the data that we are saving as we will need to know it when we write the training code. In our case, each row of the dataset has the form `label`, `length`, `review[500]` where `review[500]` is a sequence of `500` integers representing the words in the review."
   ]
  },
  {
   "cell_type": "code",
   "execution_count": 21,
   "metadata": {},
   "outputs": [],
   "source": [
    "import pandas as pd\n",
    "    \n",
    "pd.concat([pd.DataFrame(train_y), pd.DataFrame(train_X_len), pd.DataFrame(train_X)], axis=1) \\\n",
    "        .to_csv(os.path.join(data_dir, 'train.csv'), header=False, index=False)"
   ]
  },
  {
   "cell_type": "markdown",
   "metadata": {},
   "source": [
    "### Uploading the training data\n",
    "\n",
    "\n",
    "Next, we need to upload the training data to the SageMaker default S3 bucket so that we can provide access to it while training our model."
   ]
  },
  {
   "cell_type": "code",
   "execution_count": 22,
   "metadata": {},
   "outputs": [],
   "source": [
    "import sagemaker\n",
    "\n",
    "sagemaker_session = sagemaker.Session()\n",
    "\n",
    "bucket = sagemaker_session.default_bucket()\n",
    "prefix = 'sagemaker/sentiment_rnn'\n",
    "\n",
    "role = sagemaker.get_execution_role()"
   ]
  },
  {
   "cell_type": "code",
   "execution_count": 23,
   "metadata": {},
   "outputs": [],
   "source": [
    "input_data = sagemaker_session.upload_data(path=data_dir, bucket=bucket, key_prefix=prefix)"
   ]
  },
  {
   "cell_type": "markdown",
   "metadata": {},
   "source": [
    "**NOTE:** The cell above uploads the entire contents of our data directory. This includes the `word_dict.pkl` file. This is fortunate as we will need this later on when we create an endpoint that accepts an arbitrary review. For now, we will just take note of the fact that it resides in the data directory (and so also in the S3 training bucket) and that we will need to make sure it gets saved in the model directory."
   ]
  },
  {
   "cell_type": "markdown",
   "metadata": {},
   "source": [
    "## Step 4: Build and Train the PyTorch Model\n",
    "\n",
    "In the XGBoost notebook we discussed what a model is in the SageMaker framework. In particular, a model comprises three objects\n",
    "\n",
    " - Model Artifacts,\n",
    " - Training Code, and\n",
    " - Inference Code,\n",
    " \n",
    "each of which interact with one another. In the XGBoost example we used training and inference code that was provided by Amazon. Here we will still be using containers provided by Amazon with the added benefit of being able to include our own custom code.\n",
    "\n",
    "We will start by implementing our own neural network in PyTorch along with a training script. For the purposes of this project we have provided the necessary model object in the `model.py` file, inside of the `train` folder. You can see the provided implementation by running the cell below."
   ]
  },
  {
   "cell_type": "code",
   "execution_count": 24,
   "metadata": {},
   "outputs": [
    {
     "name": "stdout",
     "output_type": "stream",
     "text": [
      "\u001b[34mimport\u001b[39;49;00m \u001b[04m\u001b[36mtorch.nn\u001b[39;49;00m \u001b[34mas\u001b[39;49;00m \u001b[04m\u001b[36mnn\u001b[39;49;00m\r\n",
      "\r\n",
      "\u001b[34mclass\u001b[39;49;00m \u001b[04m\u001b[32mLSTMClassifier\u001b[39;49;00m(nn.Module):\r\n",
      "    \u001b[33m\"\"\"\u001b[39;49;00m\r\n",
      "\u001b[33m    This is the simple RNN model we will be using to perform Sentiment Analysis.\u001b[39;49;00m\r\n",
      "\u001b[33m    \"\"\"\u001b[39;49;00m\r\n",
      "\r\n",
      "    \u001b[34mdef\u001b[39;49;00m \u001b[32m__init__\u001b[39;49;00m(\u001b[36mself\u001b[39;49;00m, embedding_dim, hidden_dim, vocab_size):\r\n",
      "        \u001b[33m\"\"\"\u001b[39;49;00m\r\n",
      "\u001b[33m        Initialize the model by settingg up the various layers.\u001b[39;49;00m\r\n",
      "\u001b[33m        \"\"\"\u001b[39;49;00m\r\n",
      "        \u001b[36msuper\u001b[39;49;00m(LSTMClassifier, \u001b[36mself\u001b[39;49;00m).\u001b[32m__init__\u001b[39;49;00m()\r\n",
      "\r\n",
      "        \u001b[36mself\u001b[39;49;00m.embedding = nn.Embedding(vocab_size, embedding_dim, padding_idx=\u001b[34m0\u001b[39;49;00m)\r\n",
      "        \u001b[36mself\u001b[39;49;00m.lstm = nn.LSTM(embedding_dim, hidden_dim)\r\n",
      "        \u001b[36mself\u001b[39;49;00m.dense = nn.Linear(in_features=hidden_dim, out_features=\u001b[34m1\u001b[39;49;00m)\r\n",
      "        \u001b[36mself\u001b[39;49;00m.sig = nn.Sigmoid()\r\n",
      "        \r\n",
      "        \u001b[36mself\u001b[39;49;00m.word_dict = \u001b[36mNone\u001b[39;49;00m\r\n",
      "\r\n",
      "    \u001b[34mdef\u001b[39;49;00m \u001b[32mforward\u001b[39;49;00m(\u001b[36mself\u001b[39;49;00m, x):\r\n",
      "        \u001b[33m\"\"\"\u001b[39;49;00m\r\n",
      "\u001b[33m        Perform a forward pass of our model on some input.\u001b[39;49;00m\r\n",
      "\u001b[33m        \"\"\"\u001b[39;49;00m\r\n",
      "        x = x.t()\r\n",
      "        lengths = x[\u001b[34m0\u001b[39;49;00m,:]\r\n",
      "        reviews = x[\u001b[34m1\u001b[39;49;00m:,:]\r\n",
      "        embeds = \u001b[36mself\u001b[39;49;00m.embedding(reviews)\r\n",
      "        lstm_out, _ = \u001b[36mself\u001b[39;49;00m.lstm(embeds)\r\n",
      "        out = \u001b[36mself\u001b[39;49;00m.dense(lstm_out)\r\n",
      "        out = out[lengths - \u001b[34m1\u001b[39;49;00m, \u001b[36mrange\u001b[39;49;00m(\u001b[36mlen\u001b[39;49;00m(lengths))]\r\n",
      "        \u001b[34mreturn\u001b[39;49;00m \u001b[36mself\u001b[39;49;00m.sig(out.squeeze())\r\n"
     ]
    }
   ],
   "source": [
    "!pygmentize train/model.py"
   ]
  },
  {
   "cell_type": "markdown",
   "metadata": {},
   "source": [
    "The important takeaway from the implementation provided is that there are three parameters that we may wish to tweak to improve the performance of our model. These are the embedding dimension, the hidden dimension and the size of the vocabulary. We will likely want to make these parameters configurable in the training script so that if we wish to modify them we do not need to modify the script itself. We will see how to do this later on. To start we will write some of the training code in the notebook so that we can more easily diagnose any issues that arise.\n",
    "\n",
    "First we will load a small portion of the training data set to use as a sample. It would be very time consuming to try and train the model completely in the notebook as we do not have access to a gpu and the compute instance that we are using is not particularly powerful. However, we can work on a small bit of the data to get a feel for how our training script is behaving."
   ]
  },
  {
   "cell_type": "code",
   "execution_count": 45,
   "metadata": {},
   "outputs": [],
   "source": [
    "import torch\n",
    "import torch.utils.data\n",
    "\n",
    "# Read in only the first 250 rows\n",
    "train_sample = pd.read_csv(os.path.join(data_dir, 'train.csv'), header=None, names=None, nrows=250)\n",
    "\n",
    "# Turn the input pandas dataframe into tensors\n",
    "train_sample_y = torch.from_numpy(train_sample[[0]].values).float().squeeze()\n",
    "train_sample_X = torch.from_numpy(train_sample.drop([0], axis=1).values).long()\n",
    "\n",
    "# Build the dataset\n",
    "train_sample_ds = torch.utils.data.TensorDataset(train_sample_X, train_sample_y)\n",
    "# Build the dataloader\n",
    "train_sample_dl = torch.utils.data.DataLoader(train_sample_ds, batch_size=50)"
   ]
  },
  {
   "cell_type": "markdown",
   "metadata": {},
   "source": [
    "### (TODO) Writing the training method\n",
    "\n",
    "Next we need to write the training code itself. This should be very similar to training methods that you have written before to train PyTorch models. We will leave any difficult aspects such as model saving / loading and parameter loading until a little later."
   ]
  },
  {
   "cell_type": "code",
   "execution_count": 46,
   "metadata": {},
   "outputs": [],
   "source": [
    "def train(model, train_loader, epochs, optimizer, loss_fn, device):\n",
    "    for epoch in range(1, epochs + 1):\n",
    "        model.train()\n",
    "        total_loss = 0\n",
    "        for batch in train_loader:         \n",
    "            batch_X, batch_y = batch\n",
    "            \n",
    "            batch_X = batch_X.to(device)\n",
    "            batch_y = batch_y.to(device)\n",
    "            \n",
    "            optimizer.zero_grad()\n",
    "            # TODO: Complete this train method to train the model provided.\n",
    "            out = model(batch_X)\n",
    "            loss = loss_fn(out, batch_y)\n",
    "            loss.backward()\n",
    "            optimizer.step()\n",
    "            \n",
    "            \n",
    "            total_loss += loss.data.item()\n",
    "        print(\"Epoch: {}, BCELoss: {}\".format(epoch, total_loss / len(train_loader)))"
   ]
  },
  {
   "cell_type": "markdown",
   "metadata": {},
   "source": [
    "Supposing we have the training method above, we will test that it is working by writing a bit of code in the notebook that executes our training method on the small sample training set that we loaded earlier. The reason for doing this in the notebook is so that we have an opportunity to fix any errors that arise early when they are easier to diagnose."
   ]
  },
  {
   "cell_type": "code",
   "execution_count": 47,
   "metadata": {},
   "outputs": [],
   "source": [
    "import torch.optim as optim\n",
    "from train.model import LSTMClassifier"
   ]
  },
  {
   "cell_type": "code",
   "execution_count": 28,
   "metadata": {},
   "outputs": [
    {
     "name": "stdout",
     "output_type": "stream",
     "text": [
      "Epoch: 1, BCELoss: 0.6947209715843201\n",
      "Epoch: 2, BCELoss: 0.6859109163284302\n",
      "Epoch: 3, BCELoss: 0.6789600253105164\n",
      "Epoch: 4, BCELoss: 0.6715058326721192\n",
      "Epoch: 5, BCELoss: 0.6625348806381226\n"
     ]
    }
   ],
   "source": [
    "import torch.optim as optim\n",
    "from train.model import LSTMClassifier\n",
    "\n",
    "device = torch.device(\"cuda\" if torch.cuda.is_available() else \"cpu\")\n",
    "model = LSTMClassifier(32, 100, 5000).to(device)\n",
    "optimizer = optim.Adam(model.parameters())\n",
    "loss_fn = torch.nn.BCELoss()\n",
    "\n",
    "train(model, train_sample_dl, 5, optimizer, loss_fn, device)"
   ]
  },
  {
   "cell_type": "markdown",
   "metadata": {},
   "source": [
    "In order to construct a PyTorch model using SageMaker we must provide SageMaker with a training script. We may optionally include a directory which will be copied to the container and from which our training code will be run. When the training container is executed it will check the uploaded directory (if there is one) for a `requirements.txt` file and install any required Python libraries, after which the training script will be run."
   ]
  },
  {
   "cell_type": "markdown",
   "metadata": {},
   "source": [
    "### (TODO) Training the model\n",
    "\n",
    "When a PyTorch model is constructed in SageMaker, an entry point must be specified. This is the Python file which will be executed when the model is trained. Inside of the `train` directory is a file called `train.py` which has been provided and which contains most of the necessary code to train our model. The only thing that is missing is the implementation of the `train()` method which you wrote earlier in this notebook.\n",
    "\n",
    "**TODO**: Copy the `train()` method written above and paste it into the `train/train.py` file where required.\n",
    "\n",
    "The way that SageMaker passes hyperparameters to the training script is by way of arguments. These arguments can then be parsed and used in the training script. To see how this is done take a look at the provided `train/train.py` file."
   ]
  },
  {
   "cell_type": "code",
   "execution_count": 48,
   "metadata": {},
   "outputs": [],
   "source": [
    "from sagemaker.pytorch import PyTorch\n",
    "\n",
    "estimator = PyTorch(entry_point=\"train.py\",\n",
    "                    source_dir=\"train\",\n",
    "                    role=role,\n",
    "                    framework_version='0.4.0',\n",
    "                    train_instance_count=1,\n",
    "                    train_instance_type='ml.p2.xlarge',\n",
    "                    hyperparameters={\n",
    "                        'epochs': 10,\n",
    "                        'hidden_dim': 200,\n",
    "                    })"
   ]
  },
  {
   "cell_type": "code",
   "execution_count": 49,
   "metadata": {},
   "outputs": [
    {
     "name": "stdout",
     "output_type": "stream",
     "text": [
      "2020-05-11 18:49:42 Starting - Starting the training job...\n",
      "2020-05-11 18:49:44 Starting - Launching requested ML instances......\n",
      "2020-05-11 18:51:11 Starting - Preparing the instances for training.........\n",
      "2020-05-11 18:52:27 Downloading - Downloading input data...\n",
      "2020-05-11 18:53:12 Training - Downloading the training image...\n",
      "2020-05-11 18:53:36 Training - Training image download completed. Training in progress.\u001b[34mbash: cannot set terminal process group (-1): Inappropriate ioctl for device\u001b[0m\n",
      "\u001b[34mbash: no job control in this shell\u001b[0m\n",
      "\u001b[34m2020-05-11 18:53:36,268 sagemaker-containers INFO     Imported framework sagemaker_pytorch_container.training\u001b[0m\n",
      "\u001b[34m2020-05-11 18:53:36,303 sagemaker_pytorch_container.training INFO     Block until all host DNS lookups succeed.\u001b[0m\n",
      "\u001b[34m2020-05-11 18:53:39,340 sagemaker_pytorch_container.training INFO     Invoking user training script.\u001b[0m\n",
      "\u001b[34m2020-05-11 18:53:39,587 sagemaker-containers INFO     Module train does not provide a setup.py. \u001b[0m\n",
      "\u001b[34mGenerating setup.py\u001b[0m\n",
      "\u001b[34m2020-05-11 18:53:39,587 sagemaker-containers INFO     Generating setup.cfg\u001b[0m\n",
      "\u001b[34m2020-05-11 18:53:39,588 sagemaker-containers INFO     Generating MANIFEST.in\u001b[0m\n",
      "\u001b[34m2020-05-11 18:53:39,588 sagemaker-containers INFO     Installing module with the following command:\u001b[0m\n",
      "\u001b[34m/usr/bin/python -m pip install -U . -r requirements.txt\u001b[0m\n",
      "\u001b[34mProcessing /opt/ml/code\u001b[0m\n",
      "\u001b[34mCollecting pandas (from -r requirements.txt (line 1))\u001b[0m\n",
      "\u001b[34m  Downloading https://files.pythonhosted.org/packages/74/24/0cdbf8907e1e3bc5a8da03345c23cbed7044330bb8f73bb12e711a640a00/pandas-0.24.2-cp35-cp35m-manylinux1_x86_64.whl (10.0MB)\u001b[0m\n",
      "\u001b[34mCollecting numpy (from -r requirements.txt (line 2))\n",
      "  Downloading https://files.pythonhosted.org/packages/38/92/fa5295d9755c7876cb8490eab866e1780154033fa45978d9cf74ffbd4c68/numpy-1.18.4-cp35-cp35m-manylinux1_x86_64.whl (20.0MB)\u001b[0m\n",
      "\u001b[34mCollecting nltk (from -r requirements.txt (line 3))\n",
      "  Downloading https://files.pythonhosted.org/packages/92/75/ce35194d8e3022203cca0d2f896dbb88689f9b3fce8e9f9cff942913519d/nltk-3.5.zip (1.4MB)\u001b[0m\n",
      "\u001b[34mCollecting beautifulsoup4 (from -r requirements.txt (line 4))\n",
      "  Downloading https://files.pythonhosted.org/packages/e8/b5/7bb03a696f2c9b7af792a8f51b82974e51c268f15e925fc834876a4efa0b/beautifulsoup4-4.9.0-py3-none-any.whl (109kB)\u001b[0m\n",
      "\u001b[34mCollecting html5lib (from -r requirements.txt (line 5))\n",
      "  Downloading https://files.pythonhosted.org/packages/a5/62/bbd2be0e7943ec8504b517e62bab011b4946e1258842bc159e5dfde15b96/html5lib-1.0.1-py2.py3-none-any.whl (117kB)\u001b[0m\n",
      "\u001b[34mRequirement already satisfied, skipping upgrade: python-dateutil>=2.5.0 in /usr/local/lib/python3.5/dist-packages (from pandas->-r requirements.txt (line 1)) (2.7.5)\u001b[0m\n",
      "\u001b[34mCollecting pytz>=2011k (from pandas->-r requirements.txt (line 1))\n",
      "  Downloading https://files.pythonhosted.org/packages/4f/a4/879454d49688e2fad93e59d7d4efda580b783c745fd2ec2a3adf87b0808d/pytz-2020.1-py2.py3-none-any.whl (510kB)\u001b[0m\n",
      "\u001b[34mRequirement already satisfied, skipping upgrade: click in /usr/local/lib/python3.5/dist-packages (from nltk->-r requirements.txt (line 3)) (7.0)\u001b[0m\n",
      "\u001b[34mCollecting joblib (from nltk->-r requirements.txt (line 3))\n",
      "  Downloading https://files.pythonhosted.org/packages/28/5c/cf6a2b65a321c4a209efcdf64c2689efae2cb62661f8f6f4bb28547cf1bf/joblib-0.14.1-py2.py3-none-any.whl (294kB)\u001b[0m\n",
      "\u001b[34mCollecting regex (from nltk->-r requirements.txt (line 3))\u001b[0m\n",
      "\u001b[34m  Downloading https://files.pythonhosted.org/packages/83/79/1a6a3996e2c607c094fb263d7227f7790544bc207cc39ee3640862c7732d/regex-2020.5.7.tar.gz (696kB)\u001b[0m\n",
      "\u001b[34mCollecting tqdm (from nltk->-r requirements.txt (line 3))\n",
      "  Downloading https://files.pythonhosted.org/packages/c9/40/058b12e8ba10e35f89c9b1fdfc2d4c7f8c05947df2d5eb3c7b258019fda0/tqdm-4.46.0-py2.py3-none-any.whl (63kB)\u001b[0m\n",
      "\u001b[34mCollecting soupsieve>1.2 (from beautifulsoup4->-r requirements.txt (line 4))\n",
      "  Downloading https://files.pythonhosted.org/packages/05/cf/ea245e52f55823f19992447b008bcbb7f78efc5960d77f6c34b5b45b36dd/soupsieve-2.0-py2.py3-none-any.whl\u001b[0m\n",
      "\u001b[34mRequirement already satisfied, skipping upgrade: six>=1.9 in /usr/local/lib/python3.5/dist-packages (from html5lib->-r requirements.txt (line 5)) (1.11.0)\u001b[0m\n",
      "\u001b[34mCollecting webencodings (from html5lib->-r requirements.txt (line 5))\n",
      "  Downloading https://files.pythonhosted.org/packages/f4/24/2a3e3df732393fed8b3ebf2ec078f05546de641fe1b667ee316ec1dcf3b7/webencodings-0.5.1-py2.py3-none-any.whl\u001b[0m\n",
      "\u001b[34mBuilding wheels for collected packages: nltk, train, regex\n",
      "  Running setup.py bdist_wheel for nltk: started\u001b[0m\n",
      "\u001b[34m  Running setup.py bdist_wheel for nltk: finished with status 'done'\n",
      "  Stored in directory: /root/.cache/pip/wheels/ae/8c/3f/b1fe0ba04555b08b57ab52ab7f86023639a526d8bc8d384306\n",
      "  Running setup.py bdist_wheel for train: started\u001b[0m\n",
      "\u001b[34m  Running setup.py bdist_wheel for train: finished with status 'done'\n",
      "  Stored in directory: /tmp/pip-ephem-wheel-cache-lfmhi6st/wheels/35/24/16/37574d11bf9bde50616c67372a334f94fa8356bc7164af8ca3\n",
      "  Running setup.py bdist_wheel for regex: started\u001b[0m\n",
      "\u001b[34m  Running setup.py bdist_wheel for regex: finished with status 'done'\n",
      "  Stored in directory: /root/.cache/pip/wheels/36/4e/64/4e7c641b7b627b20ccd0ee7067628313fbddf9c8b885212bbc\u001b[0m\n",
      "\u001b[34mSuccessfully built nltk train regex\u001b[0m\n",
      "\u001b[34mInstalling collected packages: numpy, pytz, pandas, joblib, regex, tqdm, nltk, soupsieve, beautifulsoup4, webencodings, html5lib, train\n",
      "  Found existing installation: numpy 1.15.4\n",
      "    Uninstalling numpy-1.15.4:\u001b[0m\n",
      "\u001b[34m      Successfully uninstalled numpy-1.15.4\u001b[0m\n",
      "\u001b[34mSuccessfully installed beautifulsoup4-4.9.0 html5lib-1.0.1 joblib-0.14.1 nltk-3.5 numpy-1.18.4 pandas-0.24.2 pytz-2020.1 regex-2020.5.7 soupsieve-2.0 tqdm-4.46.0 train-1.0.0 webencodings-0.5.1\u001b[0m\n",
      "\u001b[34mYou are using pip version 18.1, however version 20.1 is available.\u001b[0m\n",
      "\u001b[34mYou should consider upgrading via the 'pip install --upgrade pip' command.\u001b[0m\n",
      "\u001b[34m2020-05-11 18:54:01,664 sagemaker-containers INFO     Invoking user script\n",
      "\u001b[0m\n",
      "\u001b[34mTraining Env:\n",
      "\u001b[0m\n",
      "\u001b[34m{\n",
      "    \"hosts\": [\n",
      "        \"algo-1\"\n",
      "    ],\n",
      "    \"output_data_dir\": \"/opt/ml/output/data\",\n",
      "    \"user_entry_point\": \"train.py\",\n",
      "    \"additional_framework_parameters\": {},\n",
      "    \"log_level\": 20,\n",
      "    \"module_name\": \"train\",\n",
      "    \"current_host\": \"algo-1\",\n",
      "    \"channel_input_dirs\": {\n",
      "        \"training\": \"/opt/ml/input/data/training\"\n",
      "    },\n",
      "    \"num_cpus\": 4,\n",
      "    \"hyperparameters\": {\n",
      "        \"epochs\": 10,\n",
      "        \"hidden_dim\": 200\n",
      "    },\n",
      "    \"input_dir\": \"/opt/ml/input\",\n",
      "    \"num_gpus\": 1,\n",
      "    \"resource_config\": {\n",
      "        \"current_host\": \"algo-1\",\n",
      "        \"hosts\": [\n",
      "            \"algo-1\"\n",
      "        ],\n",
      "        \"network_interface_name\": \"eth0\"\n",
      "    },\n",
      "    \"network_interface_name\": \"eth0\",\n",
      "    \"input_config_dir\": \"/opt/ml/input/config\",\n",
      "    \"job_name\": \"sagemaker-pytorch-2020-05-11-18-49-41-854\",\n",
      "    \"output_intermediate_dir\": \"/opt/ml/output/intermediate\",\n",
      "    \"module_dir\": \"s3://sagemaker-us-west-2-784199594120/sagemaker-pytorch-2020-05-11-18-49-41-854/source/sourcedir.tar.gz\",\n",
      "    \"framework_module\": \"sagemaker_pytorch_container.training:main\",\n",
      "    \"output_dir\": \"/opt/ml/output\",\n",
      "    \"model_dir\": \"/opt/ml/model\",\n",
      "    \"input_data_config\": {\n",
      "        \"training\": {\n",
      "            \"RecordWrapperType\": \"None\",\n",
      "            \"TrainingInputMode\": \"File\",\n",
      "            \"S3DistributionType\": \"FullyReplicated\"\n",
      "        }\n",
      "    }\u001b[0m\n",
      "\u001b[34m}\n",
      "\u001b[0m\n",
      "\u001b[34mEnvironment variables:\n",
      "\u001b[0m\n",
      "\u001b[34mSM_FRAMEWORK_MODULE=sagemaker_pytorch_container.training:main\u001b[0m\n",
      "\u001b[34mSM_RESOURCE_CONFIG={\"current_host\":\"algo-1\",\"hosts\":[\"algo-1\"],\"network_interface_name\":\"eth0\"}\u001b[0m\n",
      "\u001b[34mSM_INPUT_DIR=/opt/ml/input\u001b[0m\n",
      "\u001b[34mSM_CURRENT_HOST=algo-1\u001b[0m\n",
      "\u001b[34mSM_HOSTS=[\"algo-1\"]\u001b[0m\n",
      "\u001b[34mSM_OUTPUT_DATA_DIR=/opt/ml/output/data\u001b[0m\n",
      "\u001b[34mSM_HPS={\"epochs\":10,\"hidden_dim\":200}\u001b[0m\n",
      "\u001b[34mSM_NUM_GPUS=1\u001b[0m\n",
      "\u001b[34mSM_OUTPUT_DIR=/opt/ml/output\u001b[0m\n",
      "\u001b[34mSM_MODULE_NAME=train\u001b[0m\n",
      "\u001b[34mSM_LOG_LEVEL=20\u001b[0m\n",
      "\u001b[34mSM_NUM_CPUS=4\u001b[0m\n",
      "\u001b[34mSM_HP_EPOCHS=10\u001b[0m\n",
      "\u001b[34mSM_CHANNELS=[\"training\"]\u001b[0m\n",
      "\u001b[34mSM_MODEL_DIR=/opt/ml/model\u001b[0m\n",
      "\u001b[34mSM_OUTPUT_INTERMEDIATE_DIR=/opt/ml/output/intermediate\u001b[0m\n",
      "\u001b[34mSM_HP_HIDDEN_DIM=200\u001b[0m\n",
      "\u001b[34mSM_FRAMEWORK_PARAMS={}\u001b[0m\n",
      "\u001b[34mPYTHONPATH=/usr/local/bin:/usr/lib/python35.zip:/usr/lib/python3.5:/usr/lib/python3.5/plat-x86_64-linux-gnu:/usr/lib/python3.5/lib-dynload:/usr/local/lib/python3.5/dist-packages:/usr/lib/python3/dist-packages\u001b[0m\n",
      "\u001b[34mSM_TRAINING_ENV={\"additional_framework_parameters\":{},\"channel_input_dirs\":{\"training\":\"/opt/ml/input/data/training\"},\"current_host\":\"algo-1\",\"framework_module\":\"sagemaker_pytorch_container.training:main\",\"hosts\":[\"algo-1\"],\"hyperparameters\":{\"epochs\":10,\"hidden_dim\":200},\"input_config_dir\":\"/opt/ml/input/config\",\"input_data_config\":{\"training\":{\"RecordWrapperType\":\"None\",\"S3DistributionType\":\"FullyReplicated\",\"TrainingInputMode\":\"File\"}},\"input_dir\":\"/opt/ml/input\",\"job_name\":\"sagemaker-pytorch-2020-05-11-18-49-41-854\",\"log_level\":20,\"model_dir\":\"/opt/ml/model\",\"module_dir\":\"s3://sagemaker-us-west-2-784199594120/sagemaker-pytorch-2020-05-11-18-49-41-854/source/sourcedir.tar.gz\",\"module_name\":\"train\",\"network_interface_name\":\"eth0\",\"num_cpus\":4,\"num_gpus\":1,\"output_data_dir\":\"/opt/ml/output/data\",\"output_dir\":\"/opt/ml/output\",\"output_intermediate_dir\":\"/opt/ml/output/intermediate\",\"resource_config\":{\"current_host\":\"algo-1\",\"hosts\":[\"algo-1\"],\"network_interface_name\":\"eth0\"},\"user_entry_point\":\"train.py\"}\u001b[0m\n",
      "\u001b[34mSM_NETWORK_INTERFACE_NAME=eth0\u001b[0m\n",
      "\u001b[34mSM_USER_ARGS=[\"--epochs\",\"10\",\"--hidden_dim\",\"200\"]\u001b[0m\n",
      "\u001b[34mSM_CHANNEL_TRAINING=/opt/ml/input/data/training\u001b[0m\n",
      "\u001b[34mSM_MODULE_DIR=s3://sagemaker-us-west-2-784199594120/sagemaker-pytorch-2020-05-11-18-49-41-854/source/sourcedir.tar.gz\u001b[0m\n",
      "\u001b[34mSM_INPUT_DATA_CONFIG={\"training\":{\"RecordWrapperType\":\"None\",\"S3DistributionType\":\"FullyReplicated\",\"TrainingInputMode\":\"File\"}}\u001b[0m\n",
      "\u001b[34mSM_INPUT_CONFIG_DIR=/opt/ml/input/config\u001b[0m\n",
      "\u001b[34mSM_USER_ENTRY_POINT=train.py\n",
      "\u001b[0m\n",
      "\u001b[34mInvoking script with the following command:\n",
      "\u001b[0m\n",
      "\u001b[34m/usr/bin/python -m train --epochs 10 --hidden_dim 200\n",
      "\n",
      "\u001b[0m\n",
      "\u001b[34mUsing device cuda.\u001b[0m\n",
      "\u001b[34mGet train data loader.\u001b[0m\n",
      "\u001b[34mModel loaded with embedding_dim 32, hidden_dim 200, vocab_size 5000.\u001b[0m\n",
      "\u001b[34mEpoch: 1, BCELoss: 0.672745345806589\u001b[0m\n",
      "\u001b[34mEpoch: 2, BCELoss: 0.5984575383517207\u001b[0m\n",
      "\u001b[34mEpoch: 3, BCELoss: 0.5140402913093567\u001b[0m\n",
      "\u001b[34mEpoch: 4, BCELoss: 0.43628833914289666\u001b[0m\n",
      "\u001b[34mEpoch: 5, BCELoss: 0.38877007061121416\u001b[0m\n",
      "\u001b[34mEpoch: 6, BCELoss: 0.36529385252874724\u001b[0m\n",
      "\u001b[34mEpoch: 7, BCELoss: 0.38991828232395404\u001b[0m\n",
      "\u001b[34mEpoch: 8, BCELoss: 0.3236154305691622\u001b[0m\n",
      "\u001b[34mEpoch: 9, BCELoss: 0.30162059165993516\u001b[0m\n",
      "\u001b[34mEpoch: 10, BCELoss: 0.28621834364472604\u001b[0m\n",
      "\u001b[34m2020-05-11 18:56:58,936 sagemaker-containers INFO     Reporting training SUCCESS\u001b[0m\n",
      "\n",
      "2020-05-11 18:57:10 Uploading - Uploading generated training model\n",
      "2020-05-11 18:57:10 Completed - Training job completed\n",
      "Training seconds: 283\n",
      "Billable seconds: 283\n"
     ]
    }
   ],
   "source": [
    "estimator.fit({'training': input_data})"
   ]
  },
  {
   "cell_type": "markdown",
   "metadata": {},
   "source": [
    "## Step 5: Testing the model\n",
    "\n",
    "As mentioned at the top of this notebook, we will be testing this model by first deploying it and then sending the testing data to the deployed endpoint. We will do this so that we can make sure that the deployed model is working correctly.\n",
    "\n",
    "## Step 6: Deploy the model for testing\n",
    "\n",
    "Now that we have trained our model, we would like to test it to see how it performs. Currently our model takes input of the form `review_length, review[500]` where `review[500]` is a sequence of `500` integers which describe the words present in the review, encoded using `word_dict`. Fortunately for us, SageMaker provides built-in inference code for models with simple inputs such as this.\n",
    "\n",
    "There is one thing that we need to provide, however, and that is a function which loads the saved model. This function must be called `model_fn()` and takes as its only parameter a path to the directory where the model artifacts are stored. This function must also be present in the python file which we specified as the entry point. In our case the model loading function has been provided and so no changes need to be made.\n",
    "\n",
    "**NOTE**: When the built-in inference code is run it must import the `model_fn()` method from the `train.py` file. This is why the training code is wrapped in a main guard ( ie, `if __name__ == '__main__':` )\n",
    "\n",
    "Since we don't need to change anything in the code that was uploaded during training, we can simply deploy the current model as-is.\n",
    "\n",
    "**NOTE:** When deploying a model you are asking SageMaker to launch an compute instance that will wait for data to be sent to it. As a result, this compute instance will continue to run until *you* shut it down. This is important to know since the cost of a deployed endpoint depends on how long it has been running for.\n",
    "\n",
    "In other words **If you are no longer using a deployed endpoint, shut it down!**\n",
    "\n",
    "**TODO:** Deploy the trained model."
   ]
  },
  {
   "cell_type": "code",
   "execution_count": 50,
   "metadata": {},
   "outputs": [
    {
     "name": "stdout",
     "output_type": "stream",
     "text": [
      "-----------------!"
     ]
    }
   ],
   "source": [
    "# TODO: Deploy the trained model\n",
    "predictor=estimator.deploy(initial_instance_count=1,instance_type='ml.p2.xlarge')"
   ]
  },
  {
   "cell_type": "markdown",
   "metadata": {},
   "source": [
    "## Step 7 - Use the model for testing\n",
    "\n",
    "Once deployed, we can read in the test data and send it off to our deployed model to get some results. Once we collect all of the results we can determine how accurate our model is."
   ]
  },
  {
   "cell_type": "code",
   "execution_count": 51,
   "metadata": {},
   "outputs": [],
   "source": [
    "test_X = pd.concat([pd.DataFrame(test_X_len), pd.DataFrame(test_X)], axis=1)"
   ]
  },
  {
   "cell_type": "code",
   "execution_count": 52,
   "metadata": {},
   "outputs": [],
   "source": [
    "# We split the data into chunks and send each chunk seperately, accumulating the results.\n",
    "\n",
    "def predict(data, rows=512):\n",
    "    split_array = np.array_split(data, int(data.shape[0] / float(rows) + 1))\n",
    "    predictions = np.array([])\n",
    "    for array in split_array:\n",
    "        predictions = np.append(predictions, predictor.predict(array))\n",
    "    \n",
    "    return predictions"
   ]
  },
  {
   "cell_type": "code",
   "execution_count": 53,
   "metadata": {},
   "outputs": [],
   "source": [
    "predictions = predict(test_X.values)\n",
    "predictions = [round(num) for num in predictions]"
   ]
  },
  {
   "cell_type": "code",
   "execution_count": 54,
   "metadata": {},
   "outputs": [
    {
     "data": {
      "text/plain": [
       "0.84452"
      ]
     },
     "execution_count": 54,
     "metadata": {},
     "output_type": "execute_result"
    }
   ],
   "source": [
    "from sklearn.metrics import accuracy_score\n",
    "accuracy_score(test_y, predictions)"
   ]
  },
  {
   "cell_type": "markdown",
   "metadata": {},
   "source": [
    "**Question:** How does this model compare to the XGBoost model you created earlier? Why might these two models perform differently on this dataset? Which do *you* think is better for sentiment analysis?"
   ]
  },
  {
   "cell_type": "markdown",
   "metadata": {},
   "source": [
    "**Answer:** This model performs similar to XGboost because we tokenized the reviews the way we did, and thus it is playing on an \"easier\" field because of our pre-processing that the xgboost model has a chance to compete, but in a \"real\" language dataset this would outperform the xgboost dataset immensely. \n",
    "\n",
    "The model has an embeddin and lstm layers, allowing it to learn sequential relationships which are much more important for language than just words, and allowing it to group words by itself, without the need for so many pre processing steps, and it can also learn more complex behaviour.\n",
    "\n",
    "Also deep learning is just better for natural language processing than any \"traditional\" machine learning algorithm. \n",
    "\n",
    "Looking at the loss, it still hadn't reached a plateau at the last epoch, so that means the model could further improve as well by just increasing the number of epochs, althought this should be compared to a validation set to make sure we are not overfitting. "
   ]
  },
  {
   "cell_type": "markdown",
   "metadata": {},
   "source": [
    "### (TODO) More testing\n",
    "\n",
    "We now have a trained model which has been deployed and which we can send processed reviews to and which returns the predicted sentiment. However, ultimately we would like to be able to send our model an unprocessed review. That is, we would like to send the review itself as a string. For example, suppose we wish to send the following review to our model."
   ]
  },
  {
   "cell_type": "code",
   "execution_count": 55,
   "metadata": {},
   "outputs": [],
   "source": [
    "test_review = 'The simplest pleasures in life are the best, and this film is one of them. Combining a rather basic storyline of love and adventure this movie transcends the usual weekend fair with wit and unmitigated charm.'"
   ]
  },
  {
   "cell_type": "markdown",
   "metadata": {},
   "source": [
    "The question we now need to answer is, how do we send this review to our model?\n",
    "\n",
    "Recall in the first section of this notebook we did a bunch of data processing to the IMDb dataset. In particular, we did two specific things to the provided reviews.\n",
    " - Removed any html tags and stemmed the input\n",
    " - Encoded the review as a sequence of integers using `word_dict`\n",
    " \n",
    "In order process the review we will need to repeat these two steps.\n",
    "\n",
    "**TODO**: Using the `review_to_words` and `convert_and_pad` methods from section one, convert `test_review` into a numpy array `test_data` suitable to send to our model. Remember that our model expects input of the form `review_length, review[500]`."
   ]
  },
  {
   "cell_type": "markdown",
   "metadata": {},
   "source": [
    "Now that we have processed the review, we can send the resulting array to our model to predict the sentiment of the review."
   ]
  },
  {
   "cell_type": "code",
   "execution_count": 61,
   "metadata": {},
   "outputs": [],
   "source": [
    "# TODO: Convert test_review into a form usable by the model and save the results in test_data\n",
    "test_data, l=convert_and_pad(word_dict, review_to_words(test_review))\n",
    "l_test_data = np.array([np.array([l] + test_data)])"
   ]
  },
  {
   "cell_type": "code",
   "execution_count": 62,
   "metadata": {},
   "outputs": [
    {
     "data": {
      "text/plain": [
       "array(0.8492355, dtype=float32)"
      ]
     },
     "execution_count": 62,
     "metadata": {},
     "output_type": "execute_result"
    }
   ],
   "source": [
    "predictor.predict(l_test_data)"
   ]
  },
  {
   "cell_type": "markdown",
   "metadata": {},
   "source": [
    "Since the return value of our model is close to `1`, we can be certain that the review we submitted is positive."
   ]
  },
  {
   "cell_type": "markdown",
   "metadata": {},
   "source": [
    "### Delete the endpoint\n",
    "\n",
    "Of course, just like in the XGBoost notebook, once we've deployed an endpoint it continues to run until we tell it to shut down. Since we are done using our endpoint for now, we can delete it."
   ]
  },
  {
   "cell_type": "code",
   "execution_count": 63,
   "metadata": {},
   "outputs": [],
   "source": [
    "estimator.delete_endpoint()"
   ]
  },
  {
   "cell_type": "markdown",
   "metadata": {},
   "source": [
    "## Step 6 (again) - Deploy the model for the web app\n",
    "\n",
    "Now that we know that our model is working, it's time to create some custom inference code so that we can send the model a review which has not been processed and have it determine the sentiment of the review.\n",
    "\n",
    "As we saw above, by default the estimator which we created, when deployed, will use the entry script and directory which we provided when creating the model. However, since we now wish to accept a string as input and our model expects a processed review, we need to write some custom inference code.\n",
    "\n",
    "We will store the code that we write in the `serve` directory. Provided in this directory is the `model.py` file that we used to construct our model, a `utils.py` file which contains the `review_to_words` and `convert_and_pad` pre-processing functions which we used during the initial data processing, and `predict.py`, the file which will contain our custom inference code. Note also that `requirements.txt` is present which will tell SageMaker what Python libraries are required by our custom inference code.\n",
    "\n",
    "When deploying a PyTorch model in SageMaker, you are expected to provide four functions which the SageMaker inference container will use.\n",
    " - `model_fn`: This function is the same function that we used in the training script and it tells SageMaker how to load our model.\n",
    " - `input_fn`: This function receives the raw serialized input that has been sent to the model's endpoint and its job is to de-serialize and make the input available for the inference code.\n",
    " - `output_fn`: This function takes the output of the inference code and its job is to serialize this output and return it to the caller of the model's endpoint.\n",
    " - `predict_fn`: The heart of the inference script, this is where the actual prediction is done and is the function which you will need to complete.\n",
    "\n",
    "For the simple website that we are constructing during this project, the `input_fn` and `output_fn` methods are relatively straightforward. We only require being able to accept a string as input and we expect to return a single value as output. You might imagine though that in a more complex application the input or output may be image data or some other binary data which would require some effort to serialize.\n",
    "\n",
    "### (TODO) Writing inference code\n",
    "\n",
    "Before writing our custom inference code, we will begin by taking a look at the code which has been provided."
   ]
  },
  {
   "cell_type": "code",
   "execution_count": 74,
   "metadata": {},
   "outputs": [
    {
     "name": "stdout",
     "output_type": "stream",
     "text": [
      "\u001b[34mimport\u001b[39;49;00m \u001b[04m\u001b[36margparse\u001b[39;49;00m\n",
      "\u001b[34mimport\u001b[39;49;00m \u001b[04m\u001b[36mjson\u001b[39;49;00m\n",
      "\u001b[34mimport\u001b[39;49;00m \u001b[04m\u001b[36mos\u001b[39;49;00m\n",
      "\u001b[34mimport\u001b[39;49;00m \u001b[04m\u001b[36mpickle\u001b[39;49;00m\n",
      "\u001b[34mimport\u001b[39;49;00m \u001b[04m\u001b[36msys\u001b[39;49;00m\n",
      "\u001b[34mimport\u001b[39;49;00m \u001b[04m\u001b[36msagemaker_containers\u001b[39;49;00m\n",
      "\u001b[34mimport\u001b[39;49;00m \u001b[04m\u001b[36mpandas\u001b[39;49;00m \u001b[34mas\u001b[39;49;00m \u001b[04m\u001b[36mpd\u001b[39;49;00m\n",
      "\u001b[34mimport\u001b[39;49;00m \u001b[04m\u001b[36mnumpy\u001b[39;49;00m \u001b[34mas\u001b[39;49;00m \u001b[04m\u001b[36mnp\u001b[39;49;00m\n",
      "\u001b[34mimport\u001b[39;49;00m \u001b[04m\u001b[36mtorch\u001b[39;49;00m\n",
      "\u001b[34mimport\u001b[39;49;00m \u001b[04m\u001b[36mtorch.nn\u001b[39;49;00m \u001b[34mas\u001b[39;49;00m \u001b[04m\u001b[36mnn\u001b[39;49;00m\n",
      "\u001b[34mimport\u001b[39;49;00m \u001b[04m\u001b[36mtorch.optim\u001b[39;49;00m \u001b[34mas\u001b[39;49;00m \u001b[04m\u001b[36moptim\u001b[39;49;00m\n",
      "\u001b[34mimport\u001b[39;49;00m \u001b[04m\u001b[36mtorch.utils.data\u001b[39;49;00m\n",
      "\n",
      "\u001b[34mfrom\u001b[39;49;00m \u001b[04m\u001b[36mmodel\u001b[39;49;00m \u001b[34mimport\u001b[39;49;00m LSTMClassifier\n",
      "\n",
      "\u001b[34mfrom\u001b[39;49;00m \u001b[04m\u001b[36mutils\u001b[39;49;00m \u001b[34mimport\u001b[39;49;00m review_to_words, convert_and_pad\n",
      "\n",
      "\u001b[34mdef\u001b[39;49;00m \u001b[32mmodel_fn\u001b[39;49;00m(model_dir):\n",
      "    \u001b[33m\"\"\"Load the PyTorch model from the `model_dir` directory.\"\"\"\u001b[39;49;00m\n",
      "    \u001b[34mprint\u001b[39;49;00m(\u001b[33m\"\u001b[39;49;00m\u001b[33mLoading model.\u001b[39;49;00m\u001b[33m\"\u001b[39;49;00m)\n",
      "\n",
      "    \u001b[37m# First, load the parameters used to create the model.\u001b[39;49;00m\n",
      "    model_info = {}\n",
      "    model_info_path = os.path.join(model_dir, \u001b[33m'\u001b[39;49;00m\u001b[33mmodel_info.pth\u001b[39;49;00m\u001b[33m'\u001b[39;49;00m)\n",
      "    \u001b[34mwith\u001b[39;49;00m \u001b[36mopen\u001b[39;49;00m(model_info_path, \u001b[33m'\u001b[39;49;00m\u001b[33mrb\u001b[39;49;00m\u001b[33m'\u001b[39;49;00m) \u001b[34mas\u001b[39;49;00m f:\n",
      "        model_info = torch.load(f)\n",
      "\n",
      "    \u001b[34mprint\u001b[39;49;00m(\u001b[33m\"\u001b[39;49;00m\u001b[33mmodel_info: {}\u001b[39;49;00m\u001b[33m\"\u001b[39;49;00m.format(model_info))\n",
      "\n",
      "    \u001b[37m# Determine the device and construct the model.\u001b[39;49;00m\n",
      "    device = torch.device(\u001b[33m\"\u001b[39;49;00m\u001b[33mcuda\u001b[39;49;00m\u001b[33m\"\u001b[39;49;00m \u001b[34mif\u001b[39;49;00m torch.cuda.is_available() \u001b[34melse\u001b[39;49;00m \u001b[33m\"\u001b[39;49;00m\u001b[33mcpu\u001b[39;49;00m\u001b[33m\"\u001b[39;49;00m)\n",
      "    model = LSTMClassifier(model_info[\u001b[33m'\u001b[39;49;00m\u001b[33membedding_dim\u001b[39;49;00m\u001b[33m'\u001b[39;49;00m], model_info[\u001b[33m'\u001b[39;49;00m\u001b[33mhidden_dim\u001b[39;49;00m\u001b[33m'\u001b[39;49;00m], model_info[\u001b[33m'\u001b[39;49;00m\u001b[33mvocab_size\u001b[39;49;00m\u001b[33m'\u001b[39;49;00m])\n",
      "\n",
      "    \u001b[37m# Load the store model parameters.\u001b[39;49;00m\n",
      "    model_path = os.path.join(model_dir, \u001b[33m'\u001b[39;49;00m\u001b[33mmodel.pth\u001b[39;49;00m\u001b[33m'\u001b[39;49;00m)\n",
      "    \u001b[34mwith\u001b[39;49;00m \u001b[36mopen\u001b[39;49;00m(model_path, \u001b[33m'\u001b[39;49;00m\u001b[33mrb\u001b[39;49;00m\u001b[33m'\u001b[39;49;00m) \u001b[34mas\u001b[39;49;00m f:\n",
      "        model.load_state_dict(torch.load(f))\n",
      "\n",
      "    \u001b[37m# Load the saved word_dict.\u001b[39;49;00m\n",
      "    word_dict_path = os.path.join(model_dir, \u001b[33m'\u001b[39;49;00m\u001b[33mword_dict.pkl\u001b[39;49;00m\u001b[33m'\u001b[39;49;00m)\n",
      "    \u001b[34mwith\u001b[39;49;00m \u001b[36mopen\u001b[39;49;00m(word_dict_path, \u001b[33m'\u001b[39;49;00m\u001b[33mrb\u001b[39;49;00m\u001b[33m'\u001b[39;49;00m) \u001b[34mas\u001b[39;49;00m f:\n",
      "        model.word_dict = pickle.load(f)\n",
      "\n",
      "    model.to(device).eval()\n",
      "\n",
      "    \u001b[34mprint\u001b[39;49;00m(\u001b[33m\"\u001b[39;49;00m\u001b[33mDone loading model.\u001b[39;49;00m\u001b[33m\"\u001b[39;49;00m)\n",
      "    \u001b[34mreturn\u001b[39;49;00m model\n",
      "\n",
      "\u001b[34mdef\u001b[39;49;00m \u001b[32minput_fn\u001b[39;49;00m(serialized_input_data, content_type):\n",
      "    \u001b[34mprint\u001b[39;49;00m(\u001b[33m'\u001b[39;49;00m\u001b[33mDeserializing the input data.\u001b[39;49;00m\u001b[33m'\u001b[39;49;00m)\n",
      "    \u001b[34mif\u001b[39;49;00m content_type == \u001b[33m'\u001b[39;49;00m\u001b[33mtext/plain\u001b[39;49;00m\u001b[33m'\u001b[39;49;00m:\n",
      "        data = serialized_input_data.decode(\u001b[33m'\u001b[39;49;00m\u001b[33mutf-8\u001b[39;49;00m\u001b[33m'\u001b[39;49;00m)\n",
      "        \u001b[34mreturn\u001b[39;49;00m data\n",
      "    \u001b[34mraise\u001b[39;49;00m \u001b[36mException\u001b[39;49;00m(\u001b[33m'\u001b[39;49;00m\u001b[33mRequested unsupported ContentType in content_type: \u001b[39;49;00m\u001b[33m'\u001b[39;49;00m + content_type)\n",
      "\n",
      "\u001b[34mdef\u001b[39;49;00m \u001b[32moutput_fn\u001b[39;49;00m(prediction_output, accept):\n",
      "    \u001b[34mprint\u001b[39;49;00m(\u001b[33m'\u001b[39;49;00m\u001b[33mSerializing the generated output.\u001b[39;49;00m\u001b[33m'\u001b[39;49;00m)\n",
      "    \u001b[34mreturn\u001b[39;49;00m \u001b[36mstr\u001b[39;49;00m(prediction_output)\n",
      "\n",
      "\u001b[34mdef\u001b[39;49;00m \u001b[32mpredict_fn\u001b[39;49;00m(input_data, model):\n",
      "    \u001b[34mprint\u001b[39;49;00m(\u001b[33m'\u001b[39;49;00m\u001b[33mInferring sentiment of input data.\u001b[39;49;00m\u001b[33m'\u001b[39;49;00m)\n",
      "\n",
      "    device = torch.device(\u001b[33m\"\u001b[39;49;00m\u001b[33mcuda\u001b[39;49;00m\u001b[33m\"\u001b[39;49;00m \u001b[34mif\u001b[39;49;00m torch.cuda.is_available() \u001b[34melse\u001b[39;49;00m \u001b[33m\"\u001b[39;49;00m\u001b[33mcpu\u001b[39;49;00m\u001b[33m\"\u001b[39;49;00m)\n",
      "    \n",
      "    \u001b[34mif\u001b[39;49;00m model.word_dict \u001b[35mis\u001b[39;49;00m \u001b[36mNone\u001b[39;49;00m:\n",
      "        \u001b[34mraise\u001b[39;49;00m \u001b[36mException\u001b[39;49;00m(\u001b[33m'\u001b[39;49;00m\u001b[33mModel has not been loaded properly, no word_dict.\u001b[39;49;00m\u001b[33m'\u001b[39;49;00m)\n",
      "    \n",
      "    \u001b[37m# TODO: Process input_data so that it is ready to be sent to our model.\u001b[39;49;00m\n",
      "    \u001b[37m#       You should produce two variables:\u001b[39;49;00m\n",
      "    \u001b[37m#         data_X   - A sequence of length 500 which represents the converted review\u001b[39;49;00m\n",
      "    \u001b[37m#         data_len - The length of the review\u001b[39;49;00m\n",
      "    \n",
      "    wrd = review_to_words(input_data)\n",
      "    data_X, data_len = convert_and_pad(model.word_dict, wrd)\n",
      "\n",
      "\n",
      "    \u001b[37m# Using data_X and data_len we construct an appropriate input tensor. Remember\u001b[39;49;00m\n",
      "    \u001b[37m# that our model expects input data of the form 'len, review[500]'.\u001b[39;49;00m\n",
      "    data_pack = np.hstack((data_len, data_X))\n",
      "    data_pack = data_pack.reshape(\u001b[34m1\u001b[39;49;00m, -\u001b[34m1\u001b[39;49;00m)\n",
      "    \n",
      "    data = torch.from_numpy(data_pack)\n",
      "    data = data.to(device)\n",
      "\n",
      "    \u001b[37m# Make sure to put the model into evaluation mode\u001b[39;49;00m\n",
      "    model.eval()\n",
      "\n",
      "    \u001b[37m# TODO: Compute the result of applying the model to the input data. The variable `result` should\u001b[39;49;00m\n",
      "    \u001b[37m#       be a numpy array which contains a single integer which is either 1 or 0\u001b[39;49;00m\n",
      "    \u001b[34mwith\u001b[39;49;00m torch.no_grad():\n",
      "        output = model.forward(data)\n",
      "        \n",
      "    output = output.to(\u001b[33m'\u001b[39;49;00m\u001b[33mcpu\u001b[39;49;00m\u001b[33m'\u001b[39;49;00m)\n",
      "    \n",
      "    result = np.round(output.numpy())\n",
      "    result = \u001b[36mint\u001b[39;49;00m(result)\n",
      "    \n",
      "    \u001b[34mreturn\u001b[39;49;00m result\n"
     ]
    }
   ],
   "source": [
    "!pygmentize serve/predict.py"
   ]
  },
  {
   "cell_type": "markdown",
   "metadata": {},
   "source": [
    "As mentioned earlier, the `model_fn` method is the same as the one provided in the training code and the `input_fn` and `output_fn` methods are very simple and your task will be to complete the `predict_fn` method. Make sure that you save the completed file as `predict.py` in the `serve` directory.\n",
    "\n",
    "**TODO**: Complete the `predict_fn()` method in the `serve/predict.py` file."
   ]
  },
  {
   "cell_type": "markdown",
   "metadata": {},
   "source": [
    "### Deploying the model\n",
    "\n",
    "Now that the custom inference code has been written, we will create and deploy our model. To begin with, we need to construct a new PyTorchModel object which points to the model artifacts created during training and also points to the inference code that we wish to use. Then we can call the deploy method to launch the deployment container.\n",
    "\n",
    "**NOTE**: The default behaviour for a deployed PyTorch model is to assume that any input passed to the predictor is a `numpy` array. In our case we want to send a string so we need to construct a simple wrapper around the `RealTimePredictor` class to accomodate simple strings. In a more complicated situation you may want to provide a serialization object, for example if you wanted to sent image data."
   ]
  },
  {
   "cell_type": "code",
   "execution_count": 64,
   "metadata": {},
   "outputs": [
    {
     "name": "stdout",
     "output_type": "stream",
     "text": [
      "-------------!"
     ]
    }
   ],
   "source": [
    "from sagemaker.predictor import RealTimePredictor\n",
    "from sagemaker.pytorch import PyTorchModel\n",
    "\n",
    "class StringPredictor(RealTimePredictor):\n",
    "    def __init__(self, endpoint_name, sagemaker_session):\n",
    "        super(StringPredictor, self).__init__(endpoint_name, sagemaker_session, content_type='text/plain')\n",
    "\n",
    "model = PyTorchModel(model_data=estimator.model_data,\n",
    "                     role = role,\n",
    "                     framework_version='0.4.0',\n",
    "                     entry_point='predict.py',\n",
    "                     source_dir='serve',\n",
    "                     predictor_cls=StringPredictor)\n",
    "predictor = model.deploy(initial_instance_count=1, instance_type='ml.m4.xlarge')"
   ]
  },
  {
   "cell_type": "markdown",
   "metadata": {},
   "source": [
    "### Testing the model\n",
    "\n",
    "Now that we have deployed our model with the custom inference code, we should test to see if everything is working. Here we test our model by loading the first `250` positive and negative reviews and send them to the endpoint, then collect the results. The reason for only sending some of the data is that the amount of time it takes for our model to process the input and then perform inference is quite long and so testing the entire data set would be prohibitive."
   ]
  },
  {
   "cell_type": "code",
   "execution_count": 65,
   "metadata": {},
   "outputs": [],
   "source": [
    "import glob\n",
    "\n",
    "def test_reviews(data_dir='../data/aclImdb', stop=250):\n",
    "    \n",
    "    results = []\n",
    "    ground = []\n",
    "    \n",
    "    # We make sure to test both positive and negative reviews    \n",
    "    for sentiment in ['pos', 'neg']:\n",
    "        \n",
    "        path = os.path.join(data_dir, 'test', sentiment, '*.txt')\n",
    "        files = glob.glob(path)\n",
    "        \n",
    "        files_read = 0\n",
    "        \n",
    "        print('Starting ', sentiment, ' files')\n",
    "        \n",
    "        # Iterate through the files and send them to the predictor\n",
    "        for f in files:\n",
    "            with open(f) as review:\n",
    "                # First, we store the ground truth (was the review positive or negative)\n",
    "                if sentiment == 'pos':\n",
    "                    ground.append(1)\n",
    "                else:\n",
    "                    ground.append(0)\n",
    "                # Read in the review and convert to 'utf-8' for transmission via HTTP\n",
    "                review_input = review.read().encode('utf-8')\n",
    "                # Send the review to the predictor and store the results\n",
    "                results.append(int(predictor.predict(review_input)))\n",
    "                \n",
    "            # Sending reviews to our endpoint one at a time takes a while so we\n",
    "            # only send a small number of reviews\n",
    "            files_read += 1\n",
    "            if files_read == stop:\n",
    "                break\n",
    "            \n",
    "    return ground, results"
   ]
  },
  {
   "cell_type": "code",
   "execution_count": 66,
   "metadata": {},
   "outputs": [
    {
     "name": "stdout",
     "output_type": "stream",
     "text": [
      "Starting  pos  files\n",
      "Starting  neg  files\n"
     ]
    }
   ],
   "source": [
    "ground, results = test_reviews()"
   ]
  },
  {
   "cell_type": "code",
   "execution_count": 67,
   "metadata": {},
   "outputs": [
    {
     "data": {
      "text/plain": [
       "0.838"
      ]
     },
     "execution_count": 67,
     "metadata": {},
     "output_type": "execute_result"
    }
   ],
   "source": [
    "from sklearn.metrics import accuracy_score\n",
    "accuracy_score(ground, results)"
   ]
  },
  {
   "cell_type": "markdown",
   "metadata": {},
   "source": [
    "As an additional test, we can try sending the `test_review` that we looked at earlier."
   ]
  },
  {
   "cell_type": "code",
   "execution_count": 68,
   "metadata": {},
   "outputs": [
    {
     "data": {
      "text/plain": [
       "b'1'"
      ]
     },
     "execution_count": 68,
     "metadata": {},
     "output_type": "execute_result"
    }
   ],
   "source": [
    "predictor.predict(test_review)"
   ]
  },
  {
   "cell_type": "markdown",
   "metadata": {},
   "source": [
    "Now that we know our endpoint is working as expected, we can set up the web page that will interact with it. If you don't have time to finish the project now, make sure to skip down to the end of this notebook and shut down your endpoint. You can deploy it again when you come back."
   ]
  },
  {
   "cell_type": "markdown",
   "metadata": {},
   "source": [
    "## Step 7 (again): Use the model for the web app\n",
    "\n",
    "> **TODO:** This entire section and the next contain tasks for you to complete, mostly using the AWS console.\n",
    "\n",
    "So far we have been accessing our model endpoint by constructing a predictor object which uses the endpoint and then just using the predictor object to perform inference. What if we wanted to create a web app which accessed our model? The way things are set up currently makes that not possible since in order to access a SageMaker endpoint the app would first have to authenticate with AWS using an IAM role which included access to SageMaker endpoints. However, there is an easier way! We just need to use some additional AWS services.\n",
    "\n",
    "<img src=\"Web App Diagram.svg\">\n",
    "\n",
    "The diagram above gives an overview of how the various services will work together. On the far right is the model which we trained above and which is deployed using SageMaker. On the far left is our web app that collects a user's movie review, sends it off and expects a positive or negative sentiment in return.\n",
    "\n",
    "In the middle is where some of the magic happens. We will construct a Lambda function, which you can think of as a straightforward Python function that can be executed whenever a specified event occurs. We will give this function permission to send and recieve data from a SageMaker endpoint.\n",
    "\n",
    "Lastly, the method we will use to execute the Lambda function is a new endpoint that we will create using API Gateway. This endpoint will be a url that listens for data to be sent to it. Once it gets some data it will pass that data on to the Lambda function and then return whatever the Lambda function returns. Essentially it will act as an interface that lets our web app communicate with the Lambda function.\n",
    "\n",
    "### Setting up a Lambda function\n",
    "\n",
    "The first thing we are going to do is set up a Lambda function. This Lambda function will be executed whenever our public API has data sent to it. When it is executed it will receive the data, perform any sort of processing that is required, send the data (the review) to the SageMaker endpoint we've created and then return the result.\n",
    "\n",
    "#### Part A: Create an IAM Role for the Lambda function\n",
    "\n",
    "Since we want the Lambda function to call a SageMaker endpoint, we need to make sure that it has permission to do so. To do this, we will construct a role that we can later give the Lambda function.\n",
    "\n",
    "Using the AWS Console, navigate to the **IAM** page and click on **Roles**. Then, click on **Create role**. Make sure that the **AWS service** is the type of trusted entity selected and choose **Lambda** as the service that will use this role, then click **Next: Permissions**.\n",
    "\n",
    "In the search box type `sagemaker` and select the check box next to the **AmazonSageMakerFullAccess** policy. Then, click on **Next: Review**.\n",
    "\n",
    "Lastly, give this role a name. Make sure you use a name that you will remember later on, for example `LambdaSageMakerRole`. Then, click on **Create role**.\n",
    "\n",
    "#### Part B: Create a Lambda function\n",
    "\n",
    "Now it is time to actually create the Lambda function.\n",
    "\n",
    "Using the AWS Console, navigate to the AWS Lambda page and click on **Create a function**. When you get to the next page, make sure that **Author from scratch** is selected. Now, name your Lambda function, using a name that you will remember later on, for example `sentiment_analysis_func`. Make sure that the **Python 3.6** runtime is selected and then choose the role that you created in the previous part. Then, click on **Create Function**.\n",
    "\n",
    "On the next page you will see some information about the Lambda function you've just created. If you scroll down you should see an editor in which you can write the code that will be executed when your Lambda function is triggered. In our example, we will use the code below. \n",
    "\n",
    "```python\n",
    "# We need to use the low-level library to interact with SageMaker since the SageMaker API\n",
    "# is not available natively through Lambda.\n",
    "import boto3\n",
    "\n",
    "def lambda_handler(event, context):\n",
    "\n",
    "    # The SageMaker runtime is what allows us to invoke the endpoint that we've created.\n",
    "    runtime = boto3.Session().client('sagemaker-runtime')\n",
    "\n",
    "    # Now we use the SageMaker runtime to invoke our endpoint, sending the review we were given\n",
    "    response = runtime.invoke_endpoint(EndpointName = '**ENDPOINT NAME HERE**',    # The name of the endpoint we created\n",
    "                                       ContentType = 'text/plain',                 # The data format that is expected\n",
    "                                       Body = event['body'])                       # The actual review\n",
    "\n",
    "    # The response is an HTTP response whose body contains the result of our inference\n",
    "    result = response['Body'].read().decode('utf-8')\n",
    "\n",
    "    return {\n",
    "        'statusCode' : 200,\n",
    "        'headers' : { 'Content-Type' : 'text/plain', 'Access-Control-Allow-Origin' : '*' },\n",
    "        'body' : result\n",
    "    }\n",
    "```\n",
    "\n",
    "Once you have copy and pasted the code above into the Lambda code editor, replace the `**ENDPOINT NAME HERE**` portion with the name of the endpoint that we deployed earlier. You can determine the name of the endpoint using the code cell below."
   ]
  },
  {
   "cell_type": "code",
   "execution_count": 71,
   "metadata": {},
   "outputs": [
    {
     "data": {
      "text/plain": [
       "'sagemaker-pytorch-2020-05-11-19-11-04-868'"
      ]
     },
     "execution_count": 71,
     "metadata": {},
     "output_type": "execute_result"
    }
   ],
   "source": [
    "predictor.endpoint"
   ]
  },
  {
   "cell_type": "markdown",
   "metadata": {},
   "source": [
    "Once you have added the endpoint name to the Lambda function, click on **Save**. Your Lambda function is now up and running. Next we need to create a way for our web app to execute the Lambda function.\n",
    "\n",
    "### Setting up API Gateway\n",
    "\n",
    "Now that our Lambda function is set up, it is time to create a new API using API Gateway that will trigger the Lambda function we have just created.\n",
    "\n",
    "Using AWS Console, navigate to **Amazon API Gateway** and then click on **Get started**.\n",
    "\n",
    "On the next page, make sure that **New API** is selected and give the new api a name, for example, `sentiment_analysis_api`. Then, click on **Create API**.\n",
    "\n",
    "Now we have created an API, however it doesn't currently do anything. What we want it to do is to trigger the Lambda function that we created earlier.\n",
    "\n",
    "Select the **Actions** dropdown menu and click **Create Method**. A new blank method will be created, select its dropdown menu and select **POST**, then click on the check mark beside it.\n",
    "\n",
    "For the integration point, make sure that **Lambda Function** is selected and click on the **Use Lambda Proxy integration**. This option makes sure that the data that is sent to the API is then sent directly to the Lambda function with no processing. It also means that the return value must be a proper response object as it will also not be processed by API Gateway.\n",
    "\n",
    "Type the name of the Lambda function you created earlier into the **Lambda Function** text entry box and then click on **Save**. Click on **OK** in the pop-up box that then appears, giving permission to API Gateway to invoke the Lambda function you created.\n",
    "\n",
    "The last step in creating the API Gateway is to select the **Actions** dropdown and click on **Deploy API**. You will need to create a new Deployment stage and name it anything you like, for example `prod`.\n",
    "\n",
    "You have now successfully set up a public API to access your SageMaker model. Make sure to copy or write down the URL provided to invoke your newly created public API as this will be needed in the next step. This URL can be found at the top of the page, highlighted in blue next to the text **Invoke URL**."
   ]
  },
  {
   "cell_type": "code",
   "execution_count": 72,
   "metadata": {},
   "outputs": [],
   "source": [
    "# https://jqp5ihltb8.execute-api.us-west-2.amazonaws.com/prod"
   ]
  },
  {
   "cell_type": "markdown",
   "metadata": {},
   "source": [
    "## Step 4: Deploying our web app\n",
    "\n",
    "Now that we have a publicly available API, we can start using it in a web app. For our purposes, we have provided a simple static html file which can make use of the public api you created earlier.\n",
    "\n",
    "In the `website` folder there should be a file called `index.html`. Download the file to your computer and open that file up in a text editor of your choice. There should be a line which contains **\\*\\*REPLACE WITH PUBLIC API URL\\*\\***. Replace this string with the url that you wrote down in the last step and then save the file.\n",
    "\n",
    "Now, if you open `index.html` on your local computer, your browser will behave as a local web server and you can use the provided site to interact with your SageMaker model.\n",
    "\n",
    "If you'd like to go further, you can host this html file anywhere you'd like, for example using github or hosting a static site on Amazon's S3. Once you have done this you can share the link with anyone you'd like and have them play with it too!\n",
    "\n",
    "> **Important Note** In order for the web app to communicate with the SageMaker endpoint, the endpoint has to actually be deployed and running. This means that you are paying for it. Make sure that the endpoint is running when you want to use the web app but that you shut it down when you don't need it, otherwise you will end up with a surprisingly large AWS bill.\n",
    "\n",
    "**TODO:** Make sure that you include the edited `index.html` file in your project submission."
   ]
  },
  {
   "cell_type": "markdown",
   "metadata": {},
   "source": [
    "Now that your web app is working, trying playing around with it and see how well it works.\n",
    "\n",
    "**Question**: Give an example of a review that you entered into your web app. What was the predicted sentiment of your example review?"
   ]
  },
  {
   "cell_type": "markdown",
   "metadata": {},
   "source": [
    "**Answer:** \n",
    "### Does this work?\n",
    "##### Your review was NEGATIVE\n",
    "***\n",
    "\n",
    "### The movie is too long\n",
    "##### Your review was NEGATIVE\n",
    "\n",
    "***\n",
    "\n",
    "### I think this movie is very good\n",
    "##### Your review was POSITIVE\n",
    "\n",
    "***\n",
    "\n",
    "`There is a wall in my house. The wall is a simple wall, eight feet tall, and fifteen feet wide, it sits in a corner in the basement. It has been painted beige, with a few coats to cover up the bumps and scratches from coats before. It's got it's idiosyncrasies, the way the light jumps off the paint, the not so even drywalling underneath. Stare at it long enough, and it begins to speak to you - or at least allow you to speak to it. Maybe there's something to the wall - or maybe it's just my romantic illusions of inspiration and contemplation that bring life to it. My point is this - staring at that blank wall for two hours is far more inspiring, interesting and enlightening than watching even just two minutes of the cinematic colonoscopy that is \"Cats.\" A film so awful, so ridiculous and so void of substance its very existence is an affront to musicals, film and theatre. Unless you're a fan of 'so bad it's good' cinema, stay away. This is a watershed moment in bad movie history.`\n",
    "##### Your review was NEGATIVE\n",
    "\n",
    "***\n",
    "\n",
    "`At first I didn't want to see this movie because of some political remarks made by Jamie Foxx and Samuel Jackson, two of my previously favorite actors, but Quintin Tarentino is a great director, so I broke down and saw it. Glad I did. This was absolutely one of the best movies of the year. Although Jamie Foxx has top billing, this film would not have been anywhere as good without Christoph Waltz. He stole every scene he was in. Brilliant acting and great comedic delivery. Leo was great too. Lots of blood, something expected in most of Quintins movies, but a great story. Also expect to hear the N word about 2000 times. Cristoph Waltz should get the Oscar for his performance. Should get nominated for best picture. This is absolutely a must see.`\n",
    "##### Your review was POSITIVE"
   ]
  },
  {
   "cell_type": "markdown",
   "metadata": {},
   "source": [
    "### Delete the endpoint\n",
    "\n",
    "Remember to always shut down your endpoint if you are no longer using it. You are charged for the length of time that the endpoint is running so if you forget and leave it on you could end up with an unexpectedly large bill."
   ]
  },
  {
   "cell_type": "code",
   "execution_count": 73,
   "metadata": {},
   "outputs": [],
   "source": [
    "predictor.delete_endpoint()"
   ]
  },
  {
   "cell_type": "code",
   "execution_count": null,
   "metadata": {},
   "outputs": [],
   "source": []
  }
 ],
 "metadata": {
  "kernelspec": {
   "display_name": "conda_pytorch_p36",
   "language": "python",
   "name": "conda_pytorch_p36"
  },
  "language_info": {
   "codemirror_mode": {
    "name": "ipython",
    "version": 3
   },
   "file_extension": ".py",
   "mimetype": "text/x-python",
   "name": "python",
   "nbconvert_exporter": "python",
   "pygments_lexer": "ipython3",
   "version": "3.6.5"
  }
 },
 "nbformat": 4,
 "nbformat_minor": 2
}
